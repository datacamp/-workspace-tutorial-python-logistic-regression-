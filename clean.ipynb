{
 "cells": [
  {
   "cell_type": "code",
   "execution_count": null,
   "id": "3cd6037c-4f15-4f79-9eb0-ae6a76a36be7",
   "metadata": {},
   "outputs": [],
   "source": [
    "import pandas as pd\n",
    "import numpy as np"
   ]
  },
  {
   "cell_type": "code",
   "execution_count": null,
   "id": "f447747e-5517-43f3-9cf4-7dc0f61dd4e5",
   "metadata": {},
   "outputs": [],
   "source": [
    "organics = pd.read_csv(\n",
    "    \"organics_raw.csv\",\n",
    "    usecols=[\"Organics Purchase Indicator\", \"Age\", \"Gender\", \"Affluence Grade\", \"Loyalty Status\", \"Geographic Region\"],\n",
    "    na_values=\".\"\n",
    ")\n",
    "organics[\"Gender\"] = organics[\"Gender\"].replace({\"F\": \"Female\", \"M\": \"Male\", \"U\": \"Unknown\"})\n",
    "organics.rename(columns={\n",
    "        \"Organics Purchase Indicator\": \"Purchased Organics\",\n",
    "        \"Affluence Grade\": \"Affluence\"\n",
    "    }, inplace=True)\n",
    "organics.dropna(inplace=True)"
   ]
  },
  {
   "cell_type": "code",
   "execution_count": null,
   "id": "a401aaa4-c1e2-4318-8295-9fcdc1b74863",
   "metadata": {},
   "outputs": [],
   "source": [
    "organics.to_csv(\"organics.csv\", index=False)"
   ]
  },
  {
   "cell_type": "code",
   "execution_count": null,
   "id": "62d5c8cf-a1de-4ba8-869e-37c3ba4da587",
   "metadata": {},
   "outputs": [],
   "source": []
  }
 ],
 "metadata": {
  "kernelspec": {
   "display_name": "Python 3 (ipykernel)",
   "language": "python",
   "name": "python3"
  },
  "language_info": {
   "codemirror_mode": {
    "name": "ipython",
    "version": 3
   },
   "file_extension": ".py",
   "mimetype": "text/x-python",
   "name": "python",
   "nbconvert_exporter": "python",
   "pygments_lexer": "ipython3",
   "version": "3.8.10"
  }
 },
 "nbformat": 4,
 "nbformat_minor": 5
}
