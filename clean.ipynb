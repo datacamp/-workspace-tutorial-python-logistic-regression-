{
 "cells": [
  {
   "cell_type": "code",
   "execution_count": null,
   "id": "dcde16f8-acea-41fc-99f9-fe12158f0601",
   "metadata": {},
   "outputs": [],
   "source": [
    "import pandas as pd\n",
    "import numpy as np"
   ]
  },
  {
   "cell_type": "code",
   "execution_count": null,
   "id": "d703868b-c93e-4793-aca8-225975d96172",
   "metadata": {},
   "outputs": [
    {
     "data": {
      "application/com.datacamp.data-table.v1+json": {
       "is_truncated": false,
       "table": {
        "data": [
         {
          "gender": "male",
          "index": 0,
          "sex_act": "present",
          "survived": 1
         },
         {
          "gender": "male",
          "index": 1,
          "sex_act": "present",
          "survived": 1
         },
         {
          "gender": "male",
          "index": 2,
          "sex_act": "present",
          "survived": 1
         },
         {
          "gender": "male",
          "index": 3,
          "sex_act": "present",
          "survived": 1
         },
         {
          "gender": "male",
          "index": 4,
          "sex_act": "present",
          "survived": 1
         },
         {
          "gender": "male",
          "index": 5,
          "sex_act": "present",
          "survived": 1
         },
         {
          "gender": "male",
          "index": 6,
          "sex_act": "present",
          "survived": 1
         },
         {
          "gender": "male",
          "index": 7,
          "sex_act": "present",
          "survived": 1
         },
         {
          "gender": "male",
          "index": 8,
          "sex_act": "present",
          "survived": 1
         },
         {
          "gender": "male",
          "index": 9,
          "sex_act": "present",
          "survived": 1
         },
         {
          "gender": "male",
          "index": 10,
          "sex_act": "present",
          "survived": 1
         },
         {
          "gender": "male",
          "index": 11,
          "sex_act": "present",
          "survived": 0
         },
         {
          "gender": "male",
          "index": 12,
          "sex_act": "present",
          "survived": 0
         },
         {
          "gender": "male",
          "index": 13,
          "sex_act": "present",
          "survived": 0
         },
         {
          "gender": "male",
          "index": 14,
          "sex_act": "present",
          "survived": 0
         },
         {
          "gender": "male",
          "index": 15,
          "sex_act": "present",
          "survived": 0
         },
         {
          "gender": "male",
          "index": 16,
          "sex_act": "present",
          "survived": 0
         },
         {
          "gender": "male",
          "index": 17,
          "sex_act": "present",
          "survived": 0
         },
         {
          "gender": "male",
          "index": 18,
          "sex_act": "present",
          "survived": 0
         },
         {
          "gender": "male",
          "index": 19,
          "sex_act": "present",
          "survived": 0
         },
         {
          "gender": "male",
          "index": 20,
          "sex_act": "present",
          "survived": 0
         },
         {
          "gender": "male",
          "index": 21,
          "sex_act": "present",
          "survived": 0
         },
         {
          "gender": "male",
          "index": 22,
          "sex_act": "present",
          "survived": 0
         },
         {
          "gender": "male",
          "index": 23,
          "sex_act": "present",
          "survived": 0
         },
         {
          "gender": "male",
          "index": 24,
          "sex_act": "present",
          "survived": 0
         },
         {
          "gender": "male",
          "index": 25,
          "sex_act": "present",
          "survived": 0
         },
         {
          "gender": "male",
          "index": 26,
          "sex_act": "present",
          "survived": 0
         },
         {
          "gender": "male",
          "index": 27,
          "sex_act": "present",
          "survived": 0
         },
         {
          "gender": "male",
          "index": 28,
          "sex_act": "present",
          "survived": 0
         },
         {
          "gender": "male",
          "index": 29,
          "sex_act": "present",
          "survived": 0
         },
         {
          "gender": "male",
          "index": 30,
          "sex_act": "present",
          "survived": 0
         },
         {
          "gender": "male",
          "index": 31,
          "sex_act": "present",
          "survived": 0
         },
         {
          "gender": "male",
          "index": 32,
          "sex_act": "present",
          "survived": 0
         },
         {
          "gender": "male",
          "index": 33,
          "sex_act": "present",
          "survived": 0
         },
         {
          "gender": "male",
          "index": 34,
          "sex_act": "present",
          "survived": 0
         },
         {
          "gender": "male",
          "index": 35,
          "sex_act": "present",
          "survived": 0
         },
         {
          "gender": "male",
          "index": 36,
          "sex_act": "present",
          "survived": 0
         },
         {
          "gender": "male",
          "index": 37,
          "sex_act": "present",
          "survived": 0
         },
         {
          "gender": "male",
          "index": 38,
          "sex_act": "present",
          "survived": 0
         },
         {
          "gender": "male",
          "index": 39,
          "sex_act": "present",
          "survived": 0
         },
         {
          "gender": "male",
          "index": 40,
          "sex_act": "present",
          "survived": 0
         },
         {
          "gender": "male",
          "index": 41,
          "sex_act": "present",
          "survived": 0
         },
         {
          "gender": "male",
          "index": 42,
          "sex_act": "present",
          "survived": 0
         },
         {
          "gender": "male",
          "index": 43,
          "sex_act": "present",
          "survived": 0
         },
         {
          "gender": "male",
          "index": 44,
          "sex_act": "present",
          "survived": 0
         },
         {
          "gender": "male",
          "index": 45,
          "sex_act": "present",
          "survived": 0
         },
         {
          "gender": "male",
          "index": 46,
          "sex_act": "present",
          "survived": 0
         },
         {
          "gender": "male",
          "index": 47,
          "sex_act": "present",
          "survived": 0
         },
         {
          "gender": "male",
          "index": 48,
          "sex_act": "present",
          "survived": 0
         },
         {
          "gender": "male",
          "index": 49,
          "sex_act": "present",
          "survived": 0
         },
         {
          "gender": "male",
          "index": 50,
          "sex_act": "present",
          "survived": 0
         },
         {
          "gender": "male",
          "index": 51,
          "sex_act": "present",
          "survived": 0
         },
         {
          "gender": "male",
          "index": 52,
          "sex_act": "present",
          "survived": 0
         },
         {
          "gender": "male",
          "index": 53,
          "sex_act": "present",
          "survived": 0
         },
         {
          "gender": "male",
          "index": 54,
          "sex_act": "present",
          "survived": 0
         },
         {
          "gender": "male",
          "index": 55,
          "sex_act": "present",
          "survived": 0
         },
         {
          "gender": "male",
          "index": 56,
          "sex_act": "present",
          "survived": 0
         },
         {
          "gender": "male",
          "index": 57,
          "sex_act": "present",
          "survived": 0
         },
         {
          "gender": "male",
          "index": 58,
          "sex_act": "present",
          "survived": 0
         },
         {
          "gender": "male",
          "index": 59,
          "sex_act": "present",
          "survived": 0
         },
         {
          "gender": "male",
          "index": 60,
          "sex_act": "present",
          "survived": 0
         },
         {
          "gender": "male",
          "index": 61,
          "sex_act": "present",
          "survived": 0
         },
         {
          "gender": "male",
          "index": 62,
          "sex_act": "present",
          "survived": 0
         },
         {
          "gender": "male",
          "index": 63,
          "sex_act": "present",
          "survived": 0
         },
         {
          "gender": "male",
          "index": 64,
          "sex_act": "present",
          "survived": 0
         },
         {
          "gender": "male",
          "index": 65,
          "sex_act": "present",
          "survived": 0
         },
         {
          "gender": "male",
          "index": 66,
          "sex_act": "present",
          "survived": 0
         },
         {
          "gender": "male",
          "index": 67,
          "sex_act": "present",
          "survived": 0
         },
         {
          "gender": "male",
          "index": 68,
          "sex_act": "present",
          "survived": 0
         },
         {
          "gender": "male",
          "index": 69,
          "sex_act": "present",
          "survived": 0
         },
         {
          "gender": "male",
          "index": 70,
          "sex_act": "present",
          "survived": 0
         },
         {
          "gender": "male",
          "index": 71,
          "sex_act": "present",
          "survived": 0
         },
         {
          "gender": "male",
          "index": 72,
          "sex_act": "present",
          "survived": 0
         },
         {
          "gender": "male",
          "index": 73,
          "sex_act": "present",
          "survived": 0
         },
         {
          "gender": "male",
          "index": 74,
          "sex_act": "present",
          "survived": 0
         },
         {
          "gender": "male",
          "index": 75,
          "sex_act": "present",
          "survived": 0
         },
         {
          "gender": "male",
          "index": 76,
          "sex_act": "present",
          "survived": 0
         },
         {
          "gender": "male",
          "index": 77,
          "sex_act": "present",
          "survived": 0
         },
         {
          "gender": "male",
          "index": 78,
          "sex_act": "present",
          "survived": 0
         },
         {
          "gender": "male",
          "index": 79,
          "sex_act": "present",
          "survived": 0
         },
         {
          "gender": "male",
          "index": 80,
          "sex_act": "present",
          "survived": 0
         },
         {
          "gender": "male",
          "index": 81,
          "sex_act": "present",
          "survived": 0
         },
         {
          "gender": "male",
          "index": 82,
          "sex_act": "present",
          "survived": 0
         },
         {
          "gender": "male",
          "index": 83,
          "sex_act": "absent",
          "survived": 1
         },
         {
          "gender": "male",
          "index": 84,
          "sex_act": "absent",
          "survived": 1
         },
         {
          "gender": "male",
          "index": 85,
          "sex_act": "absent",
          "survived": 1
         },
         {
          "gender": "male",
          "index": 86,
          "sex_act": "absent",
          "survived": 1
         },
         {
          "gender": "male",
          "index": 87,
          "sex_act": "absent",
          "survived": 1
         },
         {
          "gender": "male",
          "index": 88,
          "sex_act": "absent",
          "survived": 1
         },
         {
          "gender": "male",
          "index": 89,
          "sex_act": "absent",
          "survived": 1
         },
         {
          "gender": "male",
          "index": 90,
          "sex_act": "absent",
          "survived": 1
         },
         {
          "gender": "male",
          "index": 91,
          "sex_act": "absent",
          "survived": 1
         },
         {
          "gender": "male",
          "index": 92,
          "sex_act": "absent",
          "survived": 1
         },
         {
          "gender": "male",
          "index": 93,
          "sex_act": "absent",
          "survived": 1
         },
         {
          "gender": "male",
          "index": 94,
          "sex_act": "absent",
          "survived": 1
         },
         {
          "gender": "male",
          "index": 95,
          "sex_act": "absent",
          "survived": 1
         },
         {
          "gender": "male",
          "index": 96,
          "sex_act": "absent",
          "survived": 1
         },
         {
          "gender": "male",
          "index": 97,
          "sex_act": "absent",
          "survived": 1
         },
         {
          "gender": "male",
          "index": 98,
          "sex_act": "absent",
          "survived": 1
         },
         {
          "gender": "male",
          "index": 99,
          "sex_act": "absent",
          "survived": 1
         },
         {
          "gender": "male",
          "index": 100,
          "sex_act": "absent",
          "survived": 1
         },
         {
          "gender": "male",
          "index": 101,
          "sex_act": "absent",
          "survived": 1
         },
         {
          "gender": "male",
          "index": 102,
          "sex_act": "absent",
          "survived": 1
         },
         {
          "gender": "male",
          "index": 103,
          "sex_act": "absent",
          "survived": 1
         },
         {
          "gender": "male",
          "index": 104,
          "sex_act": "absent",
          "survived": 1
         },
         {
          "gender": "male",
          "index": 105,
          "sex_act": "absent",
          "survived": 1
         },
         {
          "gender": "male",
          "index": 106,
          "sex_act": "absent",
          "survived": 1
         },
         {
          "gender": "male",
          "index": 107,
          "sex_act": "absent",
          "survived": 1
         },
         {
          "gender": "male",
          "index": 108,
          "sex_act": "absent",
          "survived": 1
         },
         {
          "gender": "male",
          "index": 109,
          "sex_act": "absent",
          "survived": 1
         },
         {
          "gender": "male",
          "index": 110,
          "sex_act": "absent",
          "survived": 1
         },
         {
          "gender": "male",
          "index": 111,
          "sex_act": "absent",
          "survived": 1
         },
         {
          "gender": "male",
          "index": 112,
          "sex_act": "absent",
          "survived": 1
         },
         {
          "gender": "male",
          "index": 113,
          "sex_act": "absent",
          "survived": 1
         },
         {
          "gender": "male",
          "index": 114,
          "sex_act": "absent",
          "survived": 1
         },
         {
          "gender": "male",
          "index": 115,
          "sex_act": "absent",
          "survived": 1
         },
         {
          "gender": "male",
          "index": 116,
          "sex_act": "absent",
          "survived": 1
         },
         {
          "gender": "male",
          "index": 117,
          "sex_act": "absent",
          "survived": 1
         },
         {
          "gender": "male",
          "index": 118,
          "sex_act": "absent",
          "survived": 1
         },
         {
          "gender": "male",
          "index": 119,
          "sex_act": "absent",
          "survived": 1
         },
         {
          "gender": "male",
          "index": 120,
          "sex_act": "absent",
          "survived": 1
         },
         {
          "gender": "male",
          "index": 121,
          "sex_act": "absent",
          "survived": 1
         },
         {
          "gender": "male",
          "index": 122,
          "sex_act": "absent",
          "survived": 0
         },
         {
          "gender": "male",
          "index": 123,
          "sex_act": "absent",
          "survived": 0
         },
         {
          "gender": "male",
          "index": 124,
          "sex_act": "absent",
          "survived": 0
         },
         {
          "gender": "male",
          "index": 125,
          "sex_act": "absent",
          "survived": 0
         },
         {
          "gender": "male",
          "index": 126,
          "sex_act": "absent",
          "survived": 0
         },
         {
          "gender": "male",
          "index": 127,
          "sex_act": "absent",
          "survived": 0
         },
         {
          "gender": "male",
          "index": 128,
          "sex_act": "absent",
          "survived": 0
         },
         {
          "gender": "male",
          "index": 129,
          "sex_act": "absent",
          "survived": 0
         },
         {
          "gender": "male",
          "index": 130,
          "sex_act": "absent",
          "survived": 0
         },
         {
          "gender": "male",
          "index": 131,
          "sex_act": "absent",
          "survived": 0
         },
         {
          "gender": "male",
          "index": 132,
          "sex_act": "absent",
          "survived": 0
         },
         {
          "gender": "male",
          "index": 133,
          "sex_act": "absent",
          "survived": 0
         },
         {
          "gender": "male",
          "index": 134,
          "sex_act": "absent",
          "survived": 0
         },
         {
          "gender": "male",
          "index": 135,
          "sex_act": "absent",
          "survived": 0
         },
         {
          "gender": "male",
          "index": 136,
          "sex_act": "absent",
          "survived": 0
         },
         {
          "gender": "male",
          "index": 137,
          "sex_act": "absent",
          "survived": 0
         },
         {
          "gender": "male",
          "index": 138,
          "sex_act": "absent",
          "survived": 0
         },
         {
          "gender": "male",
          "index": 139,
          "sex_act": "absent",
          "survived": 0
         },
         {
          "gender": "male",
          "index": 140,
          "sex_act": "absent",
          "survived": 0
         },
         {
          "gender": "male",
          "index": 141,
          "sex_act": "absent",
          "survived": 0
         },
         {
          "gender": "male",
          "index": 142,
          "sex_act": "absent",
          "survived": 0
         },
         {
          "gender": "male",
          "index": 143,
          "sex_act": "absent",
          "survived": 0
         },
         {
          "gender": "male",
          "index": 144,
          "sex_act": "absent",
          "survived": 0
         },
         {
          "gender": "male",
          "index": 145,
          "sex_act": "absent",
          "survived": 0
         },
         {
          "gender": "male",
          "index": 146,
          "sex_act": "absent",
          "survived": 0
         },
         {
          "gender": "male",
          "index": 147,
          "sex_act": "absent",
          "survived": 0
         },
         {
          "gender": "male",
          "index": 148,
          "sex_act": "absent",
          "survived": 0
         },
         {
          "gender": "male",
          "index": 149,
          "sex_act": "absent",
          "survived": 0
         },
         {
          "gender": "male",
          "index": 150,
          "sex_act": "absent",
          "survived": 0
         },
         {
          "gender": "male",
          "index": 151,
          "sex_act": "absent",
          "survived": 0
         },
         {
          "gender": "male",
          "index": 152,
          "sex_act": "absent",
          "survived": 0
         },
         {
          "gender": "male",
          "index": 153,
          "sex_act": "absent",
          "survived": 0
         },
         {
          "gender": "male",
          "index": 154,
          "sex_act": "absent",
          "survived": 0
         },
         {
          "gender": "male",
          "index": 155,
          "sex_act": "absent",
          "survived": 0
         },
         {
          "gender": "male",
          "index": 156,
          "sex_act": "absent",
          "survived": 0
         },
         {
          "gender": "male",
          "index": 157,
          "sex_act": "absent",
          "survived": 0
         },
         {
          "gender": "male",
          "index": 158,
          "sex_act": "absent",
          "survived": 0
         },
         {
          "gender": "male",
          "index": 159,
          "sex_act": "absent",
          "survived": 0
         },
         {
          "gender": "male",
          "index": 160,
          "sex_act": "absent",
          "survived": 0
         },
         {
          "gender": "male",
          "index": 161,
          "sex_act": "absent",
          "survived": 0
         },
         {
          "gender": "male",
          "index": 162,
          "sex_act": "absent",
          "survived": 0
         },
         {
          "gender": "male",
          "index": 163,
          "sex_act": "absent",
          "survived": 0
         },
         {
          "gender": "male",
          "index": 164,
          "sex_act": "absent",
          "survived": 0
         },
         {
          "gender": "male",
          "index": 165,
          "sex_act": "absent",
          "survived": 0
         },
         {
          "gender": "male",
          "index": 166,
          "sex_act": "absent",
          "survived": 0
         },
         {
          "gender": "male",
          "index": 167,
          "sex_act": "absent",
          "survived": 0
         },
         {
          "gender": "male",
          "index": 168,
          "sex_act": "absent",
          "survived": 0
         },
         {
          "gender": "male",
          "index": 169,
          "sex_act": "absent",
          "survived": 0
         },
         {
          "gender": "male",
          "index": 170,
          "sex_act": "absent",
          "survived": 0
         },
         {
          "gender": "male",
          "index": 171,
          "sex_act": "absent",
          "survived": 0
         },
         {
          "gender": "male",
          "index": 172,
          "sex_act": "absent",
          "survived": 0
         },
         {
          "gender": "male",
          "index": 173,
          "sex_act": "absent",
          "survived": 0
         },
         {
          "gender": "male",
          "index": 174,
          "sex_act": "absent",
          "survived": 0
         },
         {
          "gender": "male",
          "index": 175,
          "sex_act": "absent",
          "survived": 0
         },
         {
          "gender": "male",
          "index": 176,
          "sex_act": "absent",
          "survived": 0
         },
         {
          "gender": "male",
          "index": 177,
          "sex_act": "absent",
          "survived": 0
         },
         {
          "gender": "male",
          "index": 178,
          "sex_act": "absent",
          "survived": 0
         },
         {
          "gender": "male",
          "index": 179,
          "sex_act": "absent",
          "survived": 0
         },
         {
          "gender": "male",
          "index": 180,
          "sex_act": "absent",
          "survived": 0
         },
         {
          "gender": "male",
          "index": 181,
          "sex_act": "absent",
          "survived": 0
         },
         {
          "gender": "male",
          "index": 182,
          "sex_act": "absent",
          "survived": 0
         },
         {
          "gender": "male",
          "index": 183,
          "sex_act": "absent",
          "survived": 0
         },
         {
          "gender": "male",
          "index": 184,
          "sex_act": "absent",
          "survived": 0
         },
         {
          "gender": "male",
          "index": 185,
          "sex_act": "absent",
          "survived": 0
         },
         {
          "gender": "male",
          "index": 186,
          "sex_act": "absent",
          "survived": 0
         },
         {
          "gender": "male",
          "index": 187,
          "sex_act": "absent",
          "survived": 0
         },
         {
          "gender": "male",
          "index": 188,
          "sex_act": "absent",
          "survived": 0
         },
         {
          "gender": "male",
          "index": 189,
          "sex_act": "absent",
          "survived": 0
         },
         {
          "gender": "male",
          "index": 190,
          "sex_act": "absent",
          "survived": 0
         },
         {
          "gender": "male",
          "index": 191,
          "sex_act": "absent",
          "survived": 0
         },
         {
          "gender": "male",
          "index": 192,
          "sex_act": "absent",
          "survived": 0
         },
         {
          "gender": "male",
          "index": 193,
          "sex_act": "absent",
          "survived": 0
         },
         {
          "gender": "male",
          "index": 194,
          "sex_act": "absent",
          "survived": 0
         },
         {
          "gender": "male",
          "index": 195,
          "sex_act": "absent",
          "survived": 0
         },
         {
          "gender": "male",
          "index": 196,
          "sex_act": "absent",
          "survived": 0
         },
         {
          "gender": "male",
          "index": 197,
          "sex_act": "absent",
          "survived": 0
         },
         {
          "gender": "male",
          "index": 198,
          "sex_act": "absent",
          "survived": 0
         },
         {
          "gender": "male",
          "index": 199,
          "sex_act": "absent",
          "survived": 0
         },
         {
          "gender": "male",
          "index": 200,
          "sex_act": "absent",
          "survived": 0
         },
         {
          "gender": "male",
          "index": 201,
          "sex_act": "absent",
          "survived": 0
         },
         {
          "gender": "male",
          "index": 202,
          "sex_act": "absent",
          "survived": 0
         },
         {
          "gender": "male",
          "index": 203,
          "sex_act": "absent",
          "survived": 0
         },
         {
          "gender": "male",
          "index": 204,
          "sex_act": "absent",
          "survived": 0
         },
         {
          "gender": "male",
          "index": 205,
          "sex_act": "absent",
          "survived": 0
         },
         {
          "gender": "male",
          "index": 206,
          "sex_act": "absent",
          "survived": 0
         },
         {
          "gender": "male",
          "index": 207,
          "sex_act": "absent",
          "survived": 0
         },
         {
          "gender": "male",
          "index": 208,
          "sex_act": "absent",
          "survived": 0
         },
         {
          "gender": "male",
          "index": 209,
          "sex_act": "absent",
          "survived": 0
         },
         {
          "gender": "male",
          "index": 210,
          "sex_act": "absent",
          "survived": 0
         },
         {
          "gender": "male",
          "index": 211,
          "sex_act": "absent",
          "survived": 0
         },
         {
          "gender": "male",
          "index": 212,
          "sex_act": "absent",
          "survived": 0
         },
         {
          "gender": "male",
          "index": 213,
          "sex_act": "absent",
          "survived": 0
         },
         {
          "gender": "male",
          "index": 214,
          "sex_act": "absent",
          "survived": 0
         },
         {
          "gender": "male",
          "index": 215,
          "sex_act": "absent",
          "survived": 0
         },
         {
          "gender": "male",
          "index": 216,
          "sex_act": "absent",
          "survived": 0
         },
         {
          "gender": "male",
          "index": 217,
          "sex_act": "absent",
          "survived": 0
         },
         {
          "gender": "male",
          "index": 218,
          "sex_act": "absent",
          "survived": 0
         },
         {
          "gender": "male",
          "index": 219,
          "sex_act": "absent",
          "survived": 0
         },
         {
          "gender": "male",
          "index": 220,
          "sex_act": "absent",
          "survived": 0
         },
         {
          "gender": "male",
          "index": 221,
          "sex_act": "absent",
          "survived": 0
         },
         {
          "gender": "female",
          "index": 222,
          "sex_act": "present",
          "survived": 1
         },
         {
          "gender": "female",
          "index": 223,
          "sex_act": "present",
          "survived": 1
         },
         {
          "gender": "female",
          "index": 224,
          "sex_act": "present",
          "survived": 1
         },
         {
          "gender": "female",
          "index": 225,
          "sex_act": "present",
          "survived": 1
         },
         {
          "gender": "female",
          "index": 226,
          "sex_act": "present",
          "survived": 1
         },
         {
          "gender": "female",
          "index": 227,
          "sex_act": "present",
          "survived": 1
         },
         {
          "gender": "female",
          "index": 228,
          "sex_act": "present",
          "survived": 1
         },
         {
          "gender": "female",
          "index": 229,
          "sex_act": "present",
          "survived": 0
         },
         {
          "gender": "female",
          "index": 230,
          "sex_act": "present",
          "survived": 0
         },
         {
          "gender": "female",
          "index": 231,
          "sex_act": "present",
          "survived": 0
         },
         {
          "gender": "female",
          "index": 232,
          "sex_act": "present",
          "survived": 0
         },
         {
          "gender": "female",
          "index": 233,
          "sex_act": "present",
          "survived": 0
         },
         {
          "gender": "female",
          "index": 234,
          "sex_act": "present",
          "survived": 0
         },
         {
          "gender": "female",
          "index": 235,
          "sex_act": "present",
          "survived": 0
         },
         {
          "gender": "female",
          "index": 236,
          "sex_act": "present",
          "survived": 0
         },
         {
          "gender": "female",
          "index": 237,
          "sex_act": "present",
          "survived": 0
         },
         {
          "gender": "female",
          "index": 238,
          "sex_act": "present",
          "survived": 0
         },
         {
          "gender": "female",
          "index": 239,
          "sex_act": "present",
          "survived": 0
         },
         {
          "gender": "female",
          "index": 240,
          "sex_act": "present",
          "survived": 0
         },
         {
          "gender": "female",
          "index": 241,
          "sex_act": "present",
          "survived": 0
         },
         {
          "gender": "female",
          "index": 242,
          "sex_act": "present",
          "survived": 0
         },
         {
          "gender": "female",
          "index": 243,
          "sex_act": "present",
          "survived": 0
         },
         {
          "gender": "female",
          "index": 244,
          "sex_act": "present",
          "survived": 0
         },
         {
          "gender": "female",
          "index": 245,
          "sex_act": "present",
          "survived": 0
         },
         {
          "gender": "female",
          "index": 246,
          "sex_act": "present",
          "survived": 0
         },
         {
          "gender": "female",
          "index": 247,
          "sex_act": "present",
          "survived": 0
         },
         {
          "gender": "female",
          "index": 248,
          "sex_act": "present",
          "survived": 0
         },
         {
          "gender": "female",
          "index": 249,
          "sex_act": "present",
          "survived": 0
         },
         {
          "gender": "female",
          "index": 250,
          "sex_act": "present",
          "survived": 0
         },
         {
          "gender": "female",
          "index": 251,
          "sex_act": "present",
          "survived": 0
         },
         {
          "gender": "female",
          "index": 252,
          "sex_act": "present",
          "survived": 0
         },
         {
          "gender": "female",
          "index": 253,
          "sex_act": "present",
          "survived": 0
         },
         {
          "gender": "female",
          "index": 254,
          "sex_act": "present",
          "survived": 0
         },
         {
          "gender": "female",
          "index": 255,
          "sex_act": "present",
          "survived": 0
         },
         {
          "gender": "female",
          "index": 256,
          "sex_act": "present",
          "survived": 0
         },
         {
          "gender": "female",
          "index": 257,
          "sex_act": "present",
          "survived": 0
         },
         {
          "gender": "female",
          "index": 258,
          "sex_act": "present",
          "survived": 0
         },
         {
          "gender": "female",
          "index": 259,
          "sex_act": "present",
          "survived": 0
         },
         {
          "gender": "female",
          "index": 260,
          "sex_act": "present",
          "survived": 0
         },
         {
          "gender": "female",
          "index": 261,
          "sex_act": "present",
          "survived": 0
         },
         {
          "gender": "female",
          "index": 262,
          "sex_act": "present",
          "survived": 0
         },
         {
          "gender": "female",
          "index": 263,
          "sex_act": "present",
          "survived": 0
         },
         {
          "gender": "female",
          "index": 264,
          "sex_act": "present",
          "survived": 0
         },
         {
          "gender": "female",
          "index": 265,
          "sex_act": "present",
          "survived": 0
         },
         {
          "gender": "female",
          "index": 266,
          "sex_act": "present",
          "survived": 0
         },
         {
          "gender": "female",
          "index": 267,
          "sex_act": "present",
          "survived": 0
         },
         {
          "gender": "female",
          "index": 268,
          "sex_act": "present",
          "survived": 0
         },
         {
          "gender": "female",
          "index": 269,
          "sex_act": "present",
          "survived": 0
         },
         {
          "gender": "female",
          "index": 270,
          "sex_act": "present",
          "survived": 0
         },
         {
          "gender": "female",
          "index": 271,
          "sex_act": "present",
          "survived": 0
         },
         {
          "gender": "female",
          "index": 272,
          "sex_act": "present",
          "survived": 0
         },
         {
          "gender": "female",
          "index": 273,
          "sex_act": "present",
          "survived": 0
         },
         {
          "gender": "female",
          "index": 274,
          "sex_act": "present",
          "survived": 0
         },
         {
          "gender": "female",
          "index": 275,
          "sex_act": "present",
          "survived": 0
         },
         {
          "gender": "female",
          "index": 276,
          "sex_act": "present",
          "survived": 0
         },
         {
          "gender": "female",
          "index": 277,
          "sex_act": "present",
          "survived": 0
         },
         {
          "gender": "female",
          "index": 278,
          "sex_act": "present",
          "survived": 0
         },
         {
          "gender": "female",
          "index": 279,
          "sex_act": "present",
          "survived": 0
         },
         {
          "gender": "female",
          "index": 280,
          "sex_act": "present",
          "survived": 0
         },
         {
          "gender": "female",
          "index": 281,
          "sex_act": "present",
          "survived": 0
         },
         {
          "gender": "female",
          "index": 282,
          "sex_act": "present",
          "survived": 0
         },
         {
          "gender": "female",
          "index": 283,
          "sex_act": "present",
          "survived": 0
         },
         {
          "gender": "female",
          "index": 284,
          "sex_act": "present",
          "survived": 0
         },
         {
          "gender": "female",
          "index": 285,
          "sex_act": "present",
          "survived": 0
         },
         {
          "gender": "female",
          "index": 286,
          "sex_act": "present",
          "survived": 0
         },
         {
          "gender": "female",
          "index": 287,
          "sex_act": "present",
          "survived": 0
         },
         {
          "gender": "female",
          "index": 288,
          "sex_act": "present",
          "survived": 0
         },
         {
          "gender": "female",
          "index": 289,
          "sex_act": "present",
          "survived": 0
         },
         {
          "gender": "female",
          "index": 290,
          "sex_act": "present",
          "survived": 0
         },
         {
          "gender": "female",
          "index": 291,
          "sex_act": "present",
          "survived": 0
         },
         {
          "gender": "female",
          "index": 292,
          "sex_act": "present",
          "survived": 0
         },
         {
          "gender": "female",
          "index": 293,
          "sex_act": "present",
          "survived": 0
         },
         {
          "gender": "female",
          "index": 294,
          "sex_act": "present",
          "survived": 0
         },
         {
          "gender": "female",
          "index": 295,
          "sex_act": "present",
          "survived": 0
         },
         {
          "gender": "female",
          "index": 296,
          "sex_act": "absent",
          "survived": 1
         },
         {
          "gender": "female",
          "index": 297,
          "sex_act": "absent",
          "survived": 1
         },
         {
          "gender": "female",
          "index": 298,
          "sex_act": "absent",
          "survived": 1
         },
         {
          "gender": "female",
          "index": 299,
          "sex_act": "absent",
          "survived": 1
         },
         {
          "gender": "female",
          "index": 300,
          "sex_act": "absent",
          "survived": 1
         },
         {
          "gender": "female",
          "index": 301,
          "sex_act": "absent",
          "survived": 1
         },
         {
          "gender": "female",
          "index": 302,
          "sex_act": "absent",
          "survived": 1
         },
         {
          "gender": "female",
          "index": 303,
          "sex_act": "absent",
          "survived": 1
         },
         {
          "gender": "female",
          "index": 304,
          "sex_act": "absent",
          "survived": 1
         },
         {
          "gender": "female",
          "index": 305,
          "sex_act": "absent",
          "survived": 1
         },
         {
          "gender": "female",
          "index": 306,
          "sex_act": "absent",
          "survived": 1
         },
         {
          "gender": "female",
          "index": 307,
          "sex_act": "absent",
          "survived": 1
         },
         {
          "gender": "female",
          "index": 308,
          "sex_act": "absent",
          "survived": 1
         },
         {
          "gender": "female",
          "index": 309,
          "sex_act": "absent",
          "survived": 1
         },
         {
          "gender": "female",
          "index": 310,
          "sex_act": "absent",
          "survived": 1
         },
         {
          "gender": "female",
          "index": 311,
          "sex_act": "absent",
          "survived": 1
         },
         {
          "gender": "female",
          "index": 312,
          "sex_act": "absent",
          "survived": 1
         },
         {
          "gender": "female",
          "index": 313,
          "sex_act": "absent",
          "survived": 1
         },
         {
          "gender": "female",
          "index": 314,
          "sex_act": "absent",
          "survived": 1
         },
         {
          "gender": "female",
          "index": 315,
          "sex_act": "absent",
          "survived": 1
         },
         {
          "gender": "female",
          "index": 316,
          "sex_act": "absent",
          "survived": 1
         },
         {
          "gender": "female",
          "index": 317,
          "sex_act": "absent",
          "survived": 1
         },
         {
          "gender": "female",
          "index": 318,
          "sex_act": "absent",
          "survived": 1
         },
         {
          "gender": "female",
          "index": 319,
          "sex_act": "absent",
          "survived": 1
         },
         {
          "gender": "female",
          "index": 320,
          "sex_act": "absent",
          "survived": 1
         },
         {
          "gender": "female",
          "index": 321,
          "sex_act": "absent",
          "survived": 1
         },
         {
          "gender": "female",
          "index": 322,
          "sex_act": "absent",
          "survived": 1
         },
         {
          "gender": "female",
          "index": 323,
          "sex_act": "absent",
          "survived": 1
         },
         {
          "gender": "female",
          "index": 324,
          "sex_act": "absent",
          "survived": 0
         },
         {
          "gender": "female",
          "index": 325,
          "sex_act": "absent",
          "survived": 0
         },
         {
          "gender": "female",
          "index": 326,
          "sex_act": "absent",
          "survived": 0
         },
         {
          "gender": "female",
          "index": 327,
          "sex_act": "absent",
          "survived": 0
         },
         {
          "gender": "female",
          "index": 328,
          "sex_act": "absent",
          "survived": 0
         },
         {
          "gender": "female",
          "index": 329,
          "sex_act": "absent",
          "survived": 0
         },
         {
          "gender": "female",
          "index": 330,
          "sex_act": "absent",
          "survived": 0
         },
         {
          "gender": "female",
          "index": 331,
          "sex_act": "absent",
          "survived": 0
         },
         {
          "gender": "female",
          "index": 332,
          "sex_act": "absent",
          "survived": 0
         },
         {
          "gender": "female",
          "index": 333,
          "sex_act": "absent",
          "survived": 0
         },
         {
          "gender": "female",
          "index": 334,
          "sex_act": "absent",
          "survived": 0
         },
         {
          "gender": "female",
          "index": 335,
          "sex_act": "absent",
          "survived": 0
         },
         {
          "gender": "female",
          "index": 336,
          "sex_act": "absent",
          "survived": 0
         },
         {
          "gender": "female",
          "index": 337,
          "sex_act": "absent",
          "survived": 0
         },
         {
          "gender": "female",
          "index": 338,
          "sex_act": "absent",
          "survived": 0
         },
         {
          "gender": "female",
          "index": 339,
          "sex_act": "absent",
          "survived": 0
         },
         {
          "gender": "female",
          "index": 340,
          "sex_act": "absent",
          "survived": 0
         },
         {
          "gender": "female",
          "index": 341,
          "sex_act": "absent",
          "survived": 0
         },
         {
          "gender": "female",
          "index": 342,
          "sex_act": "absent",
          "survived": 0
         },
         {
          "gender": "female",
          "index": 343,
          "sex_act": "absent",
          "survived": 0
         },
         {
          "gender": "female",
          "index": 344,
          "sex_act": "absent",
          "survived": 0
         },
         {
          "gender": "female",
          "index": 345,
          "sex_act": "absent",
          "survived": 0
         },
         {
          "gender": "female",
          "index": 346,
          "sex_act": "absent",
          "survived": 0
         },
         {
          "gender": "female",
          "index": 347,
          "sex_act": "absent",
          "survived": 0
         },
         {
          "gender": "female",
          "index": 348,
          "sex_act": "absent",
          "survived": 0
         },
         {
          "gender": "female",
          "index": 349,
          "sex_act": "absent",
          "survived": 0
         },
         {
          "gender": "female",
          "index": 350,
          "sex_act": "absent",
          "survived": 0
         },
         {
          "gender": "female",
          "index": 351,
          "sex_act": "absent",
          "survived": 0
         },
         {
          "gender": "female",
          "index": 352,
          "sex_act": "absent",
          "survived": 0
         },
         {
          "gender": "female",
          "index": 353,
          "sex_act": "absent",
          "survived": 0
         },
         {
          "gender": "female",
          "index": 354,
          "sex_act": "absent",
          "survived": 0
         },
         {
          "gender": "female",
          "index": 355,
          "sex_act": "absent",
          "survived": 0
         },
         {
          "gender": "female",
          "index": 356,
          "sex_act": "absent",
          "survived": 0
         },
         {
          "gender": "female",
          "index": 357,
          "sex_act": "absent",
          "survived": 0
         },
         {
          "gender": "female",
          "index": 358,
          "sex_act": "absent",
          "survived": 0
         },
         {
          "gender": "female",
          "index": 359,
          "sex_act": "absent",
          "survived": 0
         },
         {
          "gender": "female",
          "index": 360,
          "sex_act": "absent",
          "survived": 0
         },
         {
          "gender": "female",
          "index": 361,
          "sex_act": "absent",
          "survived": 0
         },
         {
          "gender": "female",
          "index": 362,
          "sex_act": "absent",
          "survived": 0
         },
         {
          "gender": "female",
          "index": 363,
          "sex_act": "absent",
          "survived": 0
         },
         {
          "gender": "female",
          "index": 364,
          "sex_act": "absent",
          "survived": 0
         },
         {
          "gender": "female",
          "index": 365,
          "sex_act": "absent",
          "survived": 0
         },
         {
          "gender": "female",
          "index": 366,
          "sex_act": "absent",
          "survived": 0
         },
         {
          "gender": "female",
          "index": 367,
          "sex_act": "absent",
          "survived": 0
         },
         {
          "gender": "female",
          "index": 368,
          "sex_act": "absent",
          "survived": 0
         },
         {
          "gender": "female",
          "index": 369,
          "sex_act": "absent",
          "survived": 0
         },
         {
          "gender": "female",
          "index": 370,
          "sex_act": "absent",
          "survived": 0
         },
         {
          "gender": "female",
          "index": 371,
          "sex_act": "absent",
          "survived": 0
         },
         {
          "gender": "female",
          "index": 372,
          "sex_act": "absent",
          "survived": 0
         },
         {
          "gender": "female",
          "index": 373,
          "sex_act": "absent",
          "survived": 0
         },
         {
          "gender": "female",
          "index": 374,
          "sex_act": "absent",
          "survived": 0
         },
         {
          "gender": "female",
          "index": 375,
          "sex_act": "absent",
          "survived": 0
         },
         {
          "gender": "female",
          "index": 376,
          "sex_act": "absent",
          "survived": 0
         },
         {
          "gender": "female",
          "index": 377,
          "sex_act": "absent",
          "survived": 0
         },
         {
          "gender": "female",
          "index": 378,
          "sex_act": "absent",
          "survived": 0
         },
         {
          "gender": "female",
          "index": 379,
          "sex_act": "absent",
          "survived": 0
         },
         {
          "gender": "female",
          "index": 380,
          "sex_act": "absent",
          "survived": 0
         },
         {
          "gender": "female",
          "index": 381,
          "sex_act": "absent",
          "survived": 0
         },
         {
          "gender": "female",
          "index": 382,
          "sex_act": "absent",
          "survived": 0
         },
         {
          "gender": "female",
          "index": 383,
          "sex_act": "absent",
          "survived": 0
         },
         {
          "gender": "female",
          "index": 384,
          "sex_act": "absent",
          "survived": 0
         },
         {
          "gender": "female",
          "index": 385,
          "sex_act": "absent",
          "survived": 0
         },
         {
          "gender": "female",
          "index": 386,
          "sex_act": "absent",
          "survived": 0
         },
         {
          "gender": "female",
          "index": 387,
          "sex_act": "absent",
          "survived": 0
         },
         {
          "gender": "female",
          "index": 388,
          "sex_act": "absent",
          "survived": 0
         },
         {
          "gender": "female",
          "index": 389,
          "sex_act": "absent",
          "survived": 0
         },
         {
          "gender": "female",
          "index": 390,
          "sex_act": "absent",
          "survived": 0
         },
         {
          "gender": "female",
          "index": 391,
          "sex_act": "absent",
          "survived": 0
         },
         {
          "gender": "female",
          "index": 392,
          "sex_act": "absent",
          "survived": 0
         },
         {
          "gender": "female",
          "index": 393,
          "sex_act": "absent",
          "survived": 0
         },
         {
          "gender": "female",
          "index": 394,
          "sex_act": "absent",
          "survived": 0
         },
         {
          "gender": "female",
          "index": 395,
          "sex_act": "absent",
          "survived": 0
         },
         {
          "gender": "female",
          "index": 396,
          "sex_act": "absent",
          "survived": 0
         },
         {
          "gender": "female",
          "index": 397,
          "sex_act": "absent",
          "survived": 0
         },
         {
          "gender": "female",
          "index": 398,
          "sex_act": "absent",
          "survived": 0
         },
         {
          "gender": "female",
          "index": 399,
          "sex_act": "absent",
          "survived": 0
         },
         {
          "gender": "female",
          "index": 400,
          "sex_act": "absent",
          "survived": 0
         },
         {
          "gender": "female",
          "index": 401,
          "sex_act": "absent",
          "survived": 0
         },
         {
          "gender": "female",
          "index": 402,
          "sex_act": "absent",
          "survived": 0
         },
         {
          "gender": "female",
          "index": 403,
          "sex_act": "absent",
          "survived": 0
         },
         {
          "gender": "female",
          "index": 404,
          "sex_act": "absent",
          "survived": 0
         },
         {
          "gender": "female",
          "index": 405,
          "sex_act": "absent",
          "survived": 0
         },
         {
          "gender": "female",
          "index": 406,
          "sex_act": "absent",
          "survived": 0
         },
         {
          "gender": "female",
          "index": 407,
          "sex_act": "absent",
          "survived": 0
         },
         {
          "gender": "female",
          "index": 408,
          "sex_act": "absent",
          "survived": 0
         },
         {
          "gender": "female",
          "index": 409,
          "sex_act": "absent",
          "survived": 0
         },
         {
          "gender": "female",
          "index": 410,
          "sex_act": "absent",
          "survived": 0
         },
         {
          "gender": "female",
          "index": 411,
          "sex_act": "absent",
          "survived": 0
         },
         {
          "gender": "female",
          "index": 412,
          "sex_act": "absent",
          "survived": 0
         },
         {
          "gender": "female",
          "index": 413,
          "sex_act": "absent",
          "survived": 0
         },
         {
          "gender": "female",
          "index": 414,
          "sex_act": "absent",
          "survived": 0
         },
         {
          "gender": "female",
          "index": 415,
          "sex_act": "absent",
          "survived": 0
         },
         {
          "gender": "female",
          "index": 416,
          "sex_act": "absent",
          "survived": 0
         },
         {
          "gender": "female",
          "index": 417,
          "sex_act": "absent",
          "survived": 0
         },
         {
          "gender": "female",
          "index": 418,
          "sex_act": "absent",
          "survived": 0
         },
         {
          "gender": "female",
          "index": 419,
          "sex_act": "absent",
          "survived": 0
         },
         {
          "gender": "female",
          "index": 420,
          "sex_act": "absent",
          "survived": 0
         },
         {
          "gender": "female",
          "index": 421,
          "sex_act": "absent",
          "survived": 0
         },
         {
          "gender": "female",
          "index": 422,
          "sex_act": "absent",
          "survived": 0
         },
         {
          "gender": "female",
          "index": 423,
          "sex_act": "absent",
          "survived": 0
         },
         {
          "gender": "female",
          "index": 424,
          "sex_act": "absent",
          "survived": 0
         },
         {
          "gender": "female",
          "index": 425,
          "sex_act": "absent",
          "survived": 0
         },
         {
          "gender": "female",
          "index": 426,
          "sex_act": "absent",
          "survived": 0
         },
         {
          "gender": "female",
          "index": 427,
          "sex_act": "absent",
          "survived": 0
         },
         {
          "gender": "female",
          "index": 428,
          "sex_act": "absent",
          "survived": 0
         },
         {
          "gender": "female",
          "index": 429,
          "sex_act": "absent",
          "survived": 0
         },
         {
          "gender": "female",
          "index": 430,
          "sex_act": "absent",
          "survived": 0
         },
         {
          "gender": "female",
          "index": 431,
          "sex_act": "absent",
          "survived": 0
         },
         {
          "gender": "female",
          "index": 432,
          "sex_act": "absent",
          "survived": 0
         },
         {
          "gender": "female",
          "index": 433,
          "sex_act": "absent",
          "survived": 0
         },
         {
          "gender": "female",
          "index": 434,
          "sex_act": "absent",
          "survived": 0
         },
         {
          "gender": "female",
          "index": 435,
          "sex_act": "absent",
          "survived": 0
         },
         {
          "gender": "female",
          "index": 436,
          "sex_act": "absent",
          "survived": 0
         },
         {
          "gender": "female",
          "index": 437,
          "sex_act": "absent",
          "survived": 0
         },
         {
          "gender": "female",
          "index": 438,
          "sex_act": "absent",
          "survived": 0
         },
         {
          "gender": "female",
          "index": 439,
          "sex_act": "absent",
          "survived": 0
         },
         {
          "gender": "female",
          "index": 440,
          "sex_act": "absent",
          "survived": 0
         },
         {
          "gender": "female",
          "index": 441,
          "sex_act": "absent",
          "survived": 0
         },
         {
          "gender": "female",
          "index": 442,
          "sex_act": "absent",
          "survived": 0
         },
         {
          "gender": "female",
          "index": 443,
          "sex_act": "absent",
          "survived": 0
         },
         {
          "gender": "female",
          "index": 444,
          "sex_act": "absent",
          "survived": 0
         },
         {
          "gender": "female",
          "index": 445,
          "sex_act": "absent",
          "survived": 0
         },
         {
          "gender": "female",
          "index": 446,
          "sex_act": "absent",
          "survived": 0
         },
         {
          "gender": "female",
          "index": 447,
          "sex_act": "absent",
          "survived": 0
         },
         {
          "gender": "female",
          "index": 448,
          "sex_act": "absent",
          "survived": 0
         },
         {
          "gender": "female",
          "index": 449,
          "sex_act": "absent",
          "survived": 0
         },
         {
          "gender": "female",
          "index": 450,
          "sex_act": "absent",
          "survived": 0
         },
         {
          "gender": "female",
          "index": 451,
          "sex_act": "absent",
          "survived": 0
         },
         {
          "gender": "female",
          "index": 452,
          "sex_act": "absent",
          "survived": 0
         },
         {
          "gender": "female",
          "index": 453,
          "sex_act": "absent",
          "survived": 0
         },
         {
          "gender": "female",
          "index": 454,
          "sex_act": "absent",
          "survived": 0
         },
         {
          "gender": "female",
          "index": 455,
          "sex_act": "absent",
          "survived": 0
         },
         {
          "gender": "female",
          "index": 456,
          "sex_act": "absent",
          "survived": 0
         },
         {
          "gender": "female",
          "index": 457,
          "sex_act": "absent",
          "survived": 0
         },
         {
          "gender": "female",
          "index": 458,
          "sex_act": "absent",
          "survived": 0
         },
         {
          "gender": "female",
          "index": 459,
          "sex_act": "absent",
          "survived": 0
         },
         {
          "gender": "female",
          "index": 460,
          "sex_act": "absent",
          "survived": 0
         },
         {
          "gender": "female",
          "index": 461,
          "sex_act": "absent",
          "survived": 0
         },
         {
          "gender": "female",
          "index": 462,
          "sex_act": "absent",
          "survived": 0
         },
         {
          "gender": "female",
          "index": 463,
          "sex_act": "absent",
          "survived": 0
         },
         {
          "gender": "female",
          "index": 464,
          "sex_act": "absent",
          "survived": 0
         },
         {
          "gender": "female",
          "index": 465,
          "sex_act": "absent",
          "survived": 0
         },
         {
          "gender": "female",
          "index": 466,
          "sex_act": "absent",
          "survived": 0
         },
         {
          "gender": "female",
          "index": 467,
          "sex_act": "absent",
          "survived": 0
         },
         {
          "gender": "female",
          "index": 468,
          "sex_act": "absent",
          "survived": 0
         },
         {
          "gender": "female",
          "index": 469,
          "sex_act": "absent",
          "survived": 0
         },
         {
          "gender": "female",
          "index": 470,
          "sex_act": "absent",
          "survived": 0
         },
         {
          "gender": "female",
          "index": 471,
          "sex_act": "absent",
          "survived": 0
         },
         {
          "gender": "female",
          "index": 472,
          "sex_act": "absent",
          "survived": 0
         },
         {
          "gender": "female",
          "index": 473,
          "sex_act": "absent",
          "survived": 0
         },
         {
          "gender": "female",
          "index": 474,
          "sex_act": "absent",
          "survived": 0
         },
         {
          "gender": "female",
          "index": 475,
          "sex_act": "absent",
          "survived": 0
         },
         {
          "gender": "female",
          "index": 476,
          "sex_act": "absent",
          "survived": 0
         },
         {
          "gender": "female",
          "index": 477,
          "sex_act": "absent",
          "survived": 0
         },
         {
          "gender": "female",
          "index": 478,
          "sex_act": "absent",
          "survived": 0
         },
         {
          "gender": "female",
          "index": 479,
          "sex_act": "absent",
          "survived": 0
         },
         {
          "gender": "female",
          "index": 480,
          "sex_act": "absent",
          "survived": 0
         },
         {
          "gender": "female",
          "index": 481,
          "sex_act": "absent",
          "survived": 0
         },
         {
          "gender": "female",
          "index": 482,
          "sex_act": "absent",
          "survived": 0
         },
         {
          "gender": "female",
          "index": 483,
          "sex_act": "absent",
          "survived": 0
         },
         {
          "gender": "female",
          "index": 484,
          "sex_act": "absent",
          "survived": 0
         }
        ],
        "schema": {
         "fields": [
          {
           "name": "index",
           "type": "integer"
          },
          {
           "name": "gender",
           "type": "string"
          },
          {
           "name": "sex_act",
           "type": "string"
          },
          {
           "name": "survived",
           "type": "integer"
          }
         ],
         "pandas_version": "0.20.0",
         "primaryKey": [
          "index"
         ]
        }
       },
       "total_rows": 485
      },
      "text/html": [
       "<div>\n",
       "<style scoped>\n",
       "    .dataframe tbody tr th:only-of-type {\n",
       "        vertical-align: middle;\n",
       "    }\n",
       "\n",
       "    .dataframe tbody tr th {\n",
       "        vertical-align: top;\n",
       "    }\n",
       "\n",
       "    .dataframe thead th {\n",
       "        text-align: right;\n",
       "    }\n",
       "</style>\n",
       "<table border=\"1\" class=\"dataframe\">\n",
       "  <thead>\n",
       "    <tr style=\"text-align: right;\">\n",
       "      <th></th>\n",
       "      <th>gender</th>\n",
       "      <th>sex_act</th>\n",
       "      <th>survived</th>\n",
       "    </tr>\n",
       "  </thead>\n",
       "  <tbody>\n",
       "    <tr>\n",
       "      <th>0</th>\n",
       "      <td>male</td>\n",
       "      <td>present</td>\n",
       "      <td>1</td>\n",
       "    </tr>\n",
       "    <tr>\n",
       "      <th>1</th>\n",
       "      <td>male</td>\n",
       "      <td>present</td>\n",
       "      <td>1</td>\n",
       "    </tr>\n",
       "    <tr>\n",
       "      <th>2</th>\n",
       "      <td>male</td>\n",
       "      <td>present</td>\n",
       "      <td>1</td>\n",
       "    </tr>\n",
       "    <tr>\n",
       "      <th>3</th>\n",
       "      <td>male</td>\n",
       "      <td>present</td>\n",
       "      <td>1</td>\n",
       "    </tr>\n",
       "    <tr>\n",
       "      <th>4</th>\n",
       "      <td>male</td>\n",
       "      <td>present</td>\n",
       "      <td>1</td>\n",
       "    </tr>\n",
       "    <tr>\n",
       "      <th>...</th>\n",
       "      <td>...</td>\n",
       "      <td>...</td>\n",
       "      <td>...</td>\n",
       "    </tr>\n",
       "    <tr>\n",
       "      <th>480</th>\n",
       "      <td>female</td>\n",
       "      <td>absent</td>\n",
       "      <td>0</td>\n",
       "    </tr>\n",
       "    <tr>\n",
       "      <th>481</th>\n",
       "      <td>female</td>\n",
       "      <td>absent</td>\n",
       "      <td>0</td>\n",
       "    </tr>\n",
       "    <tr>\n",
       "      <th>482</th>\n",
       "      <td>female</td>\n",
       "      <td>absent</td>\n",
       "      <td>0</td>\n",
       "    </tr>\n",
       "    <tr>\n",
       "      <th>483</th>\n",
       "      <td>female</td>\n",
       "      <td>absent</td>\n",
       "      <td>0</td>\n",
       "    </tr>\n",
       "    <tr>\n",
       "      <th>484</th>\n",
       "      <td>female</td>\n",
       "      <td>absent</td>\n",
       "      <td>0</td>\n",
       "    </tr>\n",
       "  </tbody>\n",
       "</table>\n",
       "<p>485 rows × 3 columns</p>\n",
       "</div>"
      ],
      "text/plain": [
       "     gender  sex_act  survived\n",
       "0      male  present         1\n",
       "1      male  present         1\n",
       "2      male  present         1\n",
       "3      male  present         1\n",
       "4      male  present         1\n",
       "..      ...      ...       ...\n",
       "480  female   absent         0\n",
       "481  female   absent         0\n",
       "482  female   absent         0\n",
       "483  female   absent         0\n",
       "484  female   absent         0\n",
       "\n",
       "[485 rows x 3 columns]"
      ]
     },
     "execution_count": 7,
     "metadata": {},
     "output_type": "execute_result"
    }
   ],
   "source": [
    "slash = pd.read_fwf(\n",
    "    \"slash_survsex.dat\", \n",
    "    header=None, \n",
    "    names=[\"gender\", \"sex_act\", \"survived\"]\n",
    ")\n",
    "slash[\"gender\"] = np.where(slash[\"gender\"] == 1, \"male\", \"female\")\n",
    "slash[\"sex_act\"] = np.where(slash[\"sex_act\"] == 1, \"present\", \"absent\")\n",
    "slash"
   ]
  },
  {
   "cell_type": "code",
   "execution_count": null,
   "id": "be1fc946-0b8b-4a16-b9f0-7477328ed738",
   "metadata": {},
   "outputs": [],
   "source": [
    "slash.to_csv(\"slash.csv\", index=False)"
   ]
  },
  {
   "cell_type": "code",
   "execution_count": null,
   "id": "80eeecb2-51d6-4ec0-ac05-3be583511f74",
   "metadata": {},
   "outputs": [],
   "source": []
  }
 ],
 "metadata": {
  "kernelspec": {
   "display_name": "Python 3 (ipykernel)",
   "language": "python",
   "name": "python3"
  },
  "language_info": {
   "codemirror_mode": {
    "name": "ipython",
    "version": 3
   },
   "file_extension": ".py",
   "mimetype": "text/x-python",
   "name": "python",
   "nbconvert_exporter": "python",
   "pygments_lexer": "ipython3",
   "version": "3.8.10"
  }
 },
 "nbformat": 4,
 "nbformat_minor": 5
}
