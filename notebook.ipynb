{
 "cells": [
  {
   "cell_type": "markdown",
   "id": "e95303d8-0459-400b-bb65-67cba8b65f86",
   "metadata": {},
   "source": [
    "# Supervised Learning — How to do a logistic regression in Python"
   ]
  },
  {
   "cell_type": "markdown",
   "id": "ed5f901a-e504-4a62-a908-6b4183a242a6",
   "metadata": {},
   "source": [
    "## When can logistic regression be used?"
   ]
  },
  {
   "cell_type": "markdown",
   "id": "86fe8022-b171-446a-b209-10d288f7444f",
   "metadata": {},
   "source": [
    "- When the response variable (the one being predicted) is binary or categorical.\n",
    "- When the observations are independent."
   ]
  },
  {
   "cell_type": "markdown",
   "id": "5b00db71-8a04-4b30-b80c-bca3a5080ea9",
   "metadata": {},
   "source": [
    "## Which packages can be used for performing logistic regression?"
   ]
  },
  {
   "cell_type": "markdown",
   "id": "9797035a-7657-4e88-8e27-ab3da8abfc52",
   "metadata": {},
   "source": [
    "- scikit-learn (used here)\n",
    "- statsmodels\n",
    "- PyCaret, TensorFlow, Keras, PyTorch"
   ]
  },
  {
   "cell_type": "markdown",
   "id": "071b285c-800c-4af4-98cb-c78b4f17a3ad",
   "metadata": {},
   "source": [
    "## Case study: predicting slasher movie deaths"
   ]
  },
  {
   "cell_type": "markdown",
   "id": "1a0e2af3-4706-4e03-ad97-9520d4fe0e83",
   "metadata": {},
   "source": [
    "In the 1996 movie [Scream](https://www.imdb.com/title/tt0117571/), characters discuss [the rules](https://scream.fandom.com/wiki/The_Rules) of surviving a slasher movie. Rule number one is \"You can never have sex.\" (Otherwise the villain will kill you.)\n",
    "\n",
    "Naturally a data scientist decided to analyze this claim, so here we'll look at data from [Welsh (2010)](https://link.springer.com/article/10.1007/s11199-010-9762-x), which looks at survival probabilities from a random sample of 50 slasher movies. ([Data](https://users.stat.ufl.edu/~winner/data/slash_survsex.dat) and its [description](https://users.stat.ufl.edu/~winner/data/slash_survsex.txt).)"
   ]
  },
  {
   "cell_type": "markdown",
   "id": "0e0c0a4a-89d1-4e75-99f8-da383b6138b7",
   "metadata": {},
   "source": [
    "We'll need **pandas** for importing the data, and doing some manipulation. **scikit-learn** for modeling, and **plotly.express** for plotting."
   ]
  },
  {
   "cell_type": "code",
   "execution_count": null,
   "id": "237265df-0406-430e-87af-0f01f4da28e2",
   "metadata": {},
   "outputs": [],
   "source": [
    "import pandas as pd\n",
    "from sklearn.model_selection import train_test_split\n",
    "from sklearn.linear_model import LogisticRegression\n",
    "from sklearn.metrics import confusion_matrix\n",
    "import plotly.express as px"
   ]
  },
  {
   "cell_type": "markdown",
   "id": "225b1e34-db2e-4e87-a444-caccc26298e8",
   "metadata": {},
   "source": [
    "The dataset is imported from a CSV file."
   ]
  },
  {
   "cell_type": "code",
   "execution_count": null,
   "id": "16083c86-64d5-4b9f-a790-77788a74c0e9",
   "metadata": {},
   "outputs": [
    {
     "data": {
      "application/com.datacamp.data-table.v1+json": {
       "is_truncated": false,
       "table": {
        "data": [
         {
          "gender": "male",
          "index": 0,
          "sex_act": "present",
          "survived": 1
         },
         {
          "gender": "male",
          "index": 1,
          "sex_act": "present",
          "survived": 1
         },
         {
          "gender": "male",
          "index": 2,
          "sex_act": "present",
          "survived": 1
         },
         {
          "gender": "male",
          "index": 3,
          "sex_act": "present",
          "survived": 1
         },
         {
          "gender": "male",
          "index": 4,
          "sex_act": "present",
          "survived": 1
         },
         {
          "gender": "male",
          "index": 5,
          "sex_act": "present",
          "survived": 1
         },
         {
          "gender": "male",
          "index": 6,
          "sex_act": "present",
          "survived": 1
         },
         {
          "gender": "male",
          "index": 7,
          "sex_act": "present",
          "survived": 1
         },
         {
          "gender": "male",
          "index": 8,
          "sex_act": "present",
          "survived": 1
         },
         {
          "gender": "male",
          "index": 9,
          "sex_act": "present",
          "survived": 1
         },
         {
          "gender": "male",
          "index": 10,
          "sex_act": "present",
          "survived": 1
         },
         {
          "gender": "male",
          "index": 11,
          "sex_act": "present",
          "survived": 0
         },
         {
          "gender": "male",
          "index": 12,
          "sex_act": "present",
          "survived": 0
         },
         {
          "gender": "male",
          "index": 13,
          "sex_act": "present",
          "survived": 0
         },
         {
          "gender": "male",
          "index": 14,
          "sex_act": "present",
          "survived": 0
         },
         {
          "gender": "male",
          "index": 15,
          "sex_act": "present",
          "survived": 0
         },
         {
          "gender": "male",
          "index": 16,
          "sex_act": "present",
          "survived": 0
         },
         {
          "gender": "male",
          "index": 17,
          "sex_act": "present",
          "survived": 0
         },
         {
          "gender": "male",
          "index": 18,
          "sex_act": "present",
          "survived": 0
         },
         {
          "gender": "male",
          "index": 19,
          "sex_act": "present",
          "survived": 0
         },
         {
          "gender": "male",
          "index": 20,
          "sex_act": "present",
          "survived": 0
         },
         {
          "gender": "male",
          "index": 21,
          "sex_act": "present",
          "survived": 0
         },
         {
          "gender": "male",
          "index": 22,
          "sex_act": "present",
          "survived": 0
         },
         {
          "gender": "male",
          "index": 23,
          "sex_act": "present",
          "survived": 0
         },
         {
          "gender": "male",
          "index": 24,
          "sex_act": "present",
          "survived": 0
         },
         {
          "gender": "male",
          "index": 25,
          "sex_act": "present",
          "survived": 0
         },
         {
          "gender": "male",
          "index": 26,
          "sex_act": "present",
          "survived": 0
         },
         {
          "gender": "male",
          "index": 27,
          "sex_act": "present",
          "survived": 0
         },
         {
          "gender": "male",
          "index": 28,
          "sex_act": "present",
          "survived": 0
         },
         {
          "gender": "male",
          "index": 29,
          "sex_act": "present",
          "survived": 0
         },
         {
          "gender": "male",
          "index": 30,
          "sex_act": "present",
          "survived": 0
         },
         {
          "gender": "male",
          "index": 31,
          "sex_act": "present",
          "survived": 0
         },
         {
          "gender": "male",
          "index": 32,
          "sex_act": "present",
          "survived": 0
         },
         {
          "gender": "male",
          "index": 33,
          "sex_act": "present",
          "survived": 0
         },
         {
          "gender": "male",
          "index": 34,
          "sex_act": "present",
          "survived": 0
         },
         {
          "gender": "male",
          "index": 35,
          "sex_act": "present",
          "survived": 0
         },
         {
          "gender": "male",
          "index": 36,
          "sex_act": "present",
          "survived": 0
         },
         {
          "gender": "male",
          "index": 37,
          "sex_act": "present",
          "survived": 0
         },
         {
          "gender": "male",
          "index": 38,
          "sex_act": "present",
          "survived": 0
         },
         {
          "gender": "male",
          "index": 39,
          "sex_act": "present",
          "survived": 0
         },
         {
          "gender": "male",
          "index": 40,
          "sex_act": "present",
          "survived": 0
         },
         {
          "gender": "male",
          "index": 41,
          "sex_act": "present",
          "survived": 0
         },
         {
          "gender": "male",
          "index": 42,
          "sex_act": "present",
          "survived": 0
         },
         {
          "gender": "male",
          "index": 43,
          "sex_act": "present",
          "survived": 0
         },
         {
          "gender": "male",
          "index": 44,
          "sex_act": "present",
          "survived": 0
         },
         {
          "gender": "male",
          "index": 45,
          "sex_act": "present",
          "survived": 0
         },
         {
          "gender": "male",
          "index": 46,
          "sex_act": "present",
          "survived": 0
         },
         {
          "gender": "male",
          "index": 47,
          "sex_act": "present",
          "survived": 0
         },
         {
          "gender": "male",
          "index": 48,
          "sex_act": "present",
          "survived": 0
         },
         {
          "gender": "male",
          "index": 49,
          "sex_act": "present",
          "survived": 0
         },
         {
          "gender": "male",
          "index": 50,
          "sex_act": "present",
          "survived": 0
         },
         {
          "gender": "male",
          "index": 51,
          "sex_act": "present",
          "survived": 0
         },
         {
          "gender": "male",
          "index": 52,
          "sex_act": "present",
          "survived": 0
         },
         {
          "gender": "male",
          "index": 53,
          "sex_act": "present",
          "survived": 0
         },
         {
          "gender": "male",
          "index": 54,
          "sex_act": "present",
          "survived": 0
         },
         {
          "gender": "male",
          "index": 55,
          "sex_act": "present",
          "survived": 0
         },
         {
          "gender": "male",
          "index": 56,
          "sex_act": "present",
          "survived": 0
         },
         {
          "gender": "male",
          "index": 57,
          "sex_act": "present",
          "survived": 0
         },
         {
          "gender": "male",
          "index": 58,
          "sex_act": "present",
          "survived": 0
         },
         {
          "gender": "male",
          "index": 59,
          "sex_act": "present",
          "survived": 0
         },
         {
          "gender": "male",
          "index": 60,
          "sex_act": "present",
          "survived": 0
         },
         {
          "gender": "male",
          "index": 61,
          "sex_act": "present",
          "survived": 0
         },
         {
          "gender": "male",
          "index": 62,
          "sex_act": "present",
          "survived": 0
         },
         {
          "gender": "male",
          "index": 63,
          "sex_act": "present",
          "survived": 0
         },
         {
          "gender": "male",
          "index": 64,
          "sex_act": "present",
          "survived": 0
         },
         {
          "gender": "male",
          "index": 65,
          "sex_act": "present",
          "survived": 0
         },
         {
          "gender": "male",
          "index": 66,
          "sex_act": "present",
          "survived": 0
         },
         {
          "gender": "male",
          "index": 67,
          "sex_act": "present",
          "survived": 0
         },
         {
          "gender": "male",
          "index": 68,
          "sex_act": "present",
          "survived": 0
         },
         {
          "gender": "male",
          "index": 69,
          "sex_act": "present",
          "survived": 0
         },
         {
          "gender": "male",
          "index": 70,
          "sex_act": "present",
          "survived": 0
         },
         {
          "gender": "male",
          "index": 71,
          "sex_act": "present",
          "survived": 0
         },
         {
          "gender": "male",
          "index": 72,
          "sex_act": "present",
          "survived": 0
         },
         {
          "gender": "male",
          "index": 73,
          "sex_act": "present",
          "survived": 0
         },
         {
          "gender": "male",
          "index": 74,
          "sex_act": "present",
          "survived": 0
         },
         {
          "gender": "male",
          "index": 75,
          "sex_act": "present",
          "survived": 0
         },
         {
          "gender": "male",
          "index": 76,
          "sex_act": "present",
          "survived": 0
         },
         {
          "gender": "male",
          "index": 77,
          "sex_act": "present",
          "survived": 0
         },
         {
          "gender": "male",
          "index": 78,
          "sex_act": "present",
          "survived": 0
         },
         {
          "gender": "male",
          "index": 79,
          "sex_act": "present",
          "survived": 0
         },
         {
          "gender": "male",
          "index": 80,
          "sex_act": "present",
          "survived": 0
         },
         {
          "gender": "male",
          "index": 81,
          "sex_act": "present",
          "survived": 0
         },
         {
          "gender": "male",
          "index": 82,
          "sex_act": "present",
          "survived": 0
         },
         {
          "gender": "male",
          "index": 83,
          "sex_act": "absent",
          "survived": 1
         },
         {
          "gender": "male",
          "index": 84,
          "sex_act": "absent",
          "survived": 1
         },
         {
          "gender": "male",
          "index": 85,
          "sex_act": "absent",
          "survived": 1
         },
         {
          "gender": "male",
          "index": 86,
          "sex_act": "absent",
          "survived": 1
         },
         {
          "gender": "male",
          "index": 87,
          "sex_act": "absent",
          "survived": 1
         },
         {
          "gender": "male",
          "index": 88,
          "sex_act": "absent",
          "survived": 1
         },
         {
          "gender": "male",
          "index": 89,
          "sex_act": "absent",
          "survived": 1
         },
         {
          "gender": "male",
          "index": 90,
          "sex_act": "absent",
          "survived": 1
         },
         {
          "gender": "male",
          "index": 91,
          "sex_act": "absent",
          "survived": 1
         },
         {
          "gender": "male",
          "index": 92,
          "sex_act": "absent",
          "survived": 1
         },
         {
          "gender": "male",
          "index": 93,
          "sex_act": "absent",
          "survived": 1
         },
         {
          "gender": "male",
          "index": 94,
          "sex_act": "absent",
          "survived": 1
         },
         {
          "gender": "male",
          "index": 95,
          "sex_act": "absent",
          "survived": 1
         },
         {
          "gender": "male",
          "index": 96,
          "sex_act": "absent",
          "survived": 1
         },
         {
          "gender": "male",
          "index": 97,
          "sex_act": "absent",
          "survived": 1
         },
         {
          "gender": "male",
          "index": 98,
          "sex_act": "absent",
          "survived": 1
         },
         {
          "gender": "male",
          "index": 99,
          "sex_act": "absent",
          "survived": 1
         },
         {
          "gender": "male",
          "index": 100,
          "sex_act": "absent",
          "survived": 1
         },
         {
          "gender": "male",
          "index": 101,
          "sex_act": "absent",
          "survived": 1
         },
         {
          "gender": "male",
          "index": 102,
          "sex_act": "absent",
          "survived": 1
         },
         {
          "gender": "male",
          "index": 103,
          "sex_act": "absent",
          "survived": 1
         },
         {
          "gender": "male",
          "index": 104,
          "sex_act": "absent",
          "survived": 1
         },
         {
          "gender": "male",
          "index": 105,
          "sex_act": "absent",
          "survived": 1
         },
         {
          "gender": "male",
          "index": 106,
          "sex_act": "absent",
          "survived": 1
         },
         {
          "gender": "male",
          "index": 107,
          "sex_act": "absent",
          "survived": 1
         },
         {
          "gender": "male",
          "index": 108,
          "sex_act": "absent",
          "survived": 1
         },
         {
          "gender": "male",
          "index": 109,
          "sex_act": "absent",
          "survived": 1
         },
         {
          "gender": "male",
          "index": 110,
          "sex_act": "absent",
          "survived": 1
         },
         {
          "gender": "male",
          "index": 111,
          "sex_act": "absent",
          "survived": 1
         },
         {
          "gender": "male",
          "index": 112,
          "sex_act": "absent",
          "survived": 1
         },
         {
          "gender": "male",
          "index": 113,
          "sex_act": "absent",
          "survived": 1
         },
         {
          "gender": "male",
          "index": 114,
          "sex_act": "absent",
          "survived": 1
         },
         {
          "gender": "male",
          "index": 115,
          "sex_act": "absent",
          "survived": 1
         },
         {
          "gender": "male",
          "index": 116,
          "sex_act": "absent",
          "survived": 1
         },
         {
          "gender": "male",
          "index": 117,
          "sex_act": "absent",
          "survived": 1
         },
         {
          "gender": "male",
          "index": 118,
          "sex_act": "absent",
          "survived": 1
         },
         {
          "gender": "male",
          "index": 119,
          "sex_act": "absent",
          "survived": 1
         },
         {
          "gender": "male",
          "index": 120,
          "sex_act": "absent",
          "survived": 1
         },
         {
          "gender": "male",
          "index": 121,
          "sex_act": "absent",
          "survived": 1
         },
         {
          "gender": "male",
          "index": 122,
          "sex_act": "absent",
          "survived": 0
         },
         {
          "gender": "male",
          "index": 123,
          "sex_act": "absent",
          "survived": 0
         },
         {
          "gender": "male",
          "index": 124,
          "sex_act": "absent",
          "survived": 0
         },
         {
          "gender": "male",
          "index": 125,
          "sex_act": "absent",
          "survived": 0
         },
         {
          "gender": "male",
          "index": 126,
          "sex_act": "absent",
          "survived": 0
         },
         {
          "gender": "male",
          "index": 127,
          "sex_act": "absent",
          "survived": 0
         },
         {
          "gender": "male",
          "index": 128,
          "sex_act": "absent",
          "survived": 0
         },
         {
          "gender": "male",
          "index": 129,
          "sex_act": "absent",
          "survived": 0
         },
         {
          "gender": "male",
          "index": 130,
          "sex_act": "absent",
          "survived": 0
         },
         {
          "gender": "male",
          "index": 131,
          "sex_act": "absent",
          "survived": 0
         },
         {
          "gender": "male",
          "index": 132,
          "sex_act": "absent",
          "survived": 0
         },
         {
          "gender": "male",
          "index": 133,
          "sex_act": "absent",
          "survived": 0
         },
         {
          "gender": "male",
          "index": 134,
          "sex_act": "absent",
          "survived": 0
         },
         {
          "gender": "male",
          "index": 135,
          "sex_act": "absent",
          "survived": 0
         },
         {
          "gender": "male",
          "index": 136,
          "sex_act": "absent",
          "survived": 0
         },
         {
          "gender": "male",
          "index": 137,
          "sex_act": "absent",
          "survived": 0
         },
         {
          "gender": "male",
          "index": 138,
          "sex_act": "absent",
          "survived": 0
         },
         {
          "gender": "male",
          "index": 139,
          "sex_act": "absent",
          "survived": 0
         },
         {
          "gender": "male",
          "index": 140,
          "sex_act": "absent",
          "survived": 0
         },
         {
          "gender": "male",
          "index": 141,
          "sex_act": "absent",
          "survived": 0
         },
         {
          "gender": "male",
          "index": 142,
          "sex_act": "absent",
          "survived": 0
         },
         {
          "gender": "male",
          "index": 143,
          "sex_act": "absent",
          "survived": 0
         },
         {
          "gender": "male",
          "index": 144,
          "sex_act": "absent",
          "survived": 0
         },
         {
          "gender": "male",
          "index": 145,
          "sex_act": "absent",
          "survived": 0
         },
         {
          "gender": "male",
          "index": 146,
          "sex_act": "absent",
          "survived": 0
         },
         {
          "gender": "male",
          "index": 147,
          "sex_act": "absent",
          "survived": 0
         },
         {
          "gender": "male",
          "index": 148,
          "sex_act": "absent",
          "survived": 0
         },
         {
          "gender": "male",
          "index": 149,
          "sex_act": "absent",
          "survived": 0
         },
         {
          "gender": "male",
          "index": 150,
          "sex_act": "absent",
          "survived": 0
         },
         {
          "gender": "male",
          "index": 151,
          "sex_act": "absent",
          "survived": 0
         },
         {
          "gender": "male",
          "index": 152,
          "sex_act": "absent",
          "survived": 0
         },
         {
          "gender": "male",
          "index": 153,
          "sex_act": "absent",
          "survived": 0
         },
         {
          "gender": "male",
          "index": 154,
          "sex_act": "absent",
          "survived": 0
         },
         {
          "gender": "male",
          "index": 155,
          "sex_act": "absent",
          "survived": 0
         },
         {
          "gender": "male",
          "index": 156,
          "sex_act": "absent",
          "survived": 0
         },
         {
          "gender": "male",
          "index": 157,
          "sex_act": "absent",
          "survived": 0
         },
         {
          "gender": "male",
          "index": 158,
          "sex_act": "absent",
          "survived": 0
         },
         {
          "gender": "male",
          "index": 159,
          "sex_act": "absent",
          "survived": 0
         },
         {
          "gender": "male",
          "index": 160,
          "sex_act": "absent",
          "survived": 0
         },
         {
          "gender": "male",
          "index": 161,
          "sex_act": "absent",
          "survived": 0
         },
         {
          "gender": "male",
          "index": 162,
          "sex_act": "absent",
          "survived": 0
         },
         {
          "gender": "male",
          "index": 163,
          "sex_act": "absent",
          "survived": 0
         },
         {
          "gender": "male",
          "index": 164,
          "sex_act": "absent",
          "survived": 0
         },
         {
          "gender": "male",
          "index": 165,
          "sex_act": "absent",
          "survived": 0
         },
         {
          "gender": "male",
          "index": 166,
          "sex_act": "absent",
          "survived": 0
         },
         {
          "gender": "male",
          "index": 167,
          "sex_act": "absent",
          "survived": 0
         },
         {
          "gender": "male",
          "index": 168,
          "sex_act": "absent",
          "survived": 0
         },
         {
          "gender": "male",
          "index": 169,
          "sex_act": "absent",
          "survived": 0
         },
         {
          "gender": "male",
          "index": 170,
          "sex_act": "absent",
          "survived": 0
         },
         {
          "gender": "male",
          "index": 171,
          "sex_act": "absent",
          "survived": 0
         },
         {
          "gender": "male",
          "index": 172,
          "sex_act": "absent",
          "survived": 0
         },
         {
          "gender": "male",
          "index": 173,
          "sex_act": "absent",
          "survived": 0
         },
         {
          "gender": "male",
          "index": 174,
          "sex_act": "absent",
          "survived": 0
         },
         {
          "gender": "male",
          "index": 175,
          "sex_act": "absent",
          "survived": 0
         },
         {
          "gender": "male",
          "index": 176,
          "sex_act": "absent",
          "survived": 0
         },
         {
          "gender": "male",
          "index": 177,
          "sex_act": "absent",
          "survived": 0
         },
         {
          "gender": "male",
          "index": 178,
          "sex_act": "absent",
          "survived": 0
         },
         {
          "gender": "male",
          "index": 179,
          "sex_act": "absent",
          "survived": 0
         },
         {
          "gender": "male",
          "index": 180,
          "sex_act": "absent",
          "survived": 0
         },
         {
          "gender": "male",
          "index": 181,
          "sex_act": "absent",
          "survived": 0
         },
         {
          "gender": "male",
          "index": 182,
          "sex_act": "absent",
          "survived": 0
         },
         {
          "gender": "male",
          "index": 183,
          "sex_act": "absent",
          "survived": 0
         },
         {
          "gender": "male",
          "index": 184,
          "sex_act": "absent",
          "survived": 0
         },
         {
          "gender": "male",
          "index": 185,
          "sex_act": "absent",
          "survived": 0
         },
         {
          "gender": "male",
          "index": 186,
          "sex_act": "absent",
          "survived": 0
         },
         {
          "gender": "male",
          "index": 187,
          "sex_act": "absent",
          "survived": 0
         },
         {
          "gender": "male",
          "index": 188,
          "sex_act": "absent",
          "survived": 0
         },
         {
          "gender": "male",
          "index": 189,
          "sex_act": "absent",
          "survived": 0
         },
         {
          "gender": "male",
          "index": 190,
          "sex_act": "absent",
          "survived": 0
         },
         {
          "gender": "male",
          "index": 191,
          "sex_act": "absent",
          "survived": 0
         },
         {
          "gender": "male",
          "index": 192,
          "sex_act": "absent",
          "survived": 0
         },
         {
          "gender": "male",
          "index": 193,
          "sex_act": "absent",
          "survived": 0
         },
         {
          "gender": "male",
          "index": 194,
          "sex_act": "absent",
          "survived": 0
         },
         {
          "gender": "male",
          "index": 195,
          "sex_act": "absent",
          "survived": 0
         },
         {
          "gender": "male",
          "index": 196,
          "sex_act": "absent",
          "survived": 0
         },
         {
          "gender": "male",
          "index": 197,
          "sex_act": "absent",
          "survived": 0
         },
         {
          "gender": "male",
          "index": 198,
          "sex_act": "absent",
          "survived": 0
         },
         {
          "gender": "male",
          "index": 199,
          "sex_act": "absent",
          "survived": 0
         },
         {
          "gender": "male",
          "index": 200,
          "sex_act": "absent",
          "survived": 0
         },
         {
          "gender": "male",
          "index": 201,
          "sex_act": "absent",
          "survived": 0
         },
         {
          "gender": "male",
          "index": 202,
          "sex_act": "absent",
          "survived": 0
         },
         {
          "gender": "male",
          "index": 203,
          "sex_act": "absent",
          "survived": 0
         },
         {
          "gender": "male",
          "index": 204,
          "sex_act": "absent",
          "survived": 0
         },
         {
          "gender": "male",
          "index": 205,
          "sex_act": "absent",
          "survived": 0
         },
         {
          "gender": "male",
          "index": 206,
          "sex_act": "absent",
          "survived": 0
         },
         {
          "gender": "male",
          "index": 207,
          "sex_act": "absent",
          "survived": 0
         },
         {
          "gender": "male",
          "index": 208,
          "sex_act": "absent",
          "survived": 0
         },
         {
          "gender": "male",
          "index": 209,
          "sex_act": "absent",
          "survived": 0
         },
         {
          "gender": "male",
          "index": 210,
          "sex_act": "absent",
          "survived": 0
         },
         {
          "gender": "male",
          "index": 211,
          "sex_act": "absent",
          "survived": 0
         },
         {
          "gender": "male",
          "index": 212,
          "sex_act": "absent",
          "survived": 0
         },
         {
          "gender": "male",
          "index": 213,
          "sex_act": "absent",
          "survived": 0
         },
         {
          "gender": "male",
          "index": 214,
          "sex_act": "absent",
          "survived": 0
         },
         {
          "gender": "male",
          "index": 215,
          "sex_act": "absent",
          "survived": 0
         },
         {
          "gender": "male",
          "index": 216,
          "sex_act": "absent",
          "survived": 0
         },
         {
          "gender": "male",
          "index": 217,
          "sex_act": "absent",
          "survived": 0
         },
         {
          "gender": "male",
          "index": 218,
          "sex_act": "absent",
          "survived": 0
         },
         {
          "gender": "male",
          "index": 219,
          "sex_act": "absent",
          "survived": 0
         },
         {
          "gender": "male",
          "index": 220,
          "sex_act": "absent",
          "survived": 0
         },
         {
          "gender": "male",
          "index": 221,
          "sex_act": "absent",
          "survived": 0
         },
         {
          "gender": "female",
          "index": 222,
          "sex_act": "present",
          "survived": 1
         },
         {
          "gender": "female",
          "index": 223,
          "sex_act": "present",
          "survived": 1
         },
         {
          "gender": "female",
          "index": 224,
          "sex_act": "present",
          "survived": 1
         },
         {
          "gender": "female",
          "index": 225,
          "sex_act": "present",
          "survived": 1
         },
         {
          "gender": "female",
          "index": 226,
          "sex_act": "present",
          "survived": 1
         },
         {
          "gender": "female",
          "index": 227,
          "sex_act": "present",
          "survived": 1
         },
         {
          "gender": "female",
          "index": 228,
          "sex_act": "present",
          "survived": 1
         },
         {
          "gender": "female",
          "index": 229,
          "sex_act": "present",
          "survived": 0
         },
         {
          "gender": "female",
          "index": 230,
          "sex_act": "present",
          "survived": 0
         },
         {
          "gender": "female",
          "index": 231,
          "sex_act": "present",
          "survived": 0
         },
         {
          "gender": "female",
          "index": 232,
          "sex_act": "present",
          "survived": 0
         },
         {
          "gender": "female",
          "index": 233,
          "sex_act": "present",
          "survived": 0
         },
         {
          "gender": "female",
          "index": 234,
          "sex_act": "present",
          "survived": 0
         },
         {
          "gender": "female",
          "index": 235,
          "sex_act": "present",
          "survived": 0
         },
         {
          "gender": "female",
          "index": 236,
          "sex_act": "present",
          "survived": 0
         },
         {
          "gender": "female",
          "index": 237,
          "sex_act": "present",
          "survived": 0
         },
         {
          "gender": "female",
          "index": 238,
          "sex_act": "present",
          "survived": 0
         },
         {
          "gender": "female",
          "index": 239,
          "sex_act": "present",
          "survived": 0
         },
         {
          "gender": "female",
          "index": 240,
          "sex_act": "present",
          "survived": 0
         },
         {
          "gender": "female",
          "index": 241,
          "sex_act": "present",
          "survived": 0
         },
         {
          "gender": "female",
          "index": 242,
          "sex_act": "present",
          "survived": 0
         },
         {
          "gender": "female",
          "index": 243,
          "sex_act": "present",
          "survived": 0
         },
         {
          "gender": "female",
          "index": 244,
          "sex_act": "present",
          "survived": 0
         },
         {
          "gender": "female",
          "index": 245,
          "sex_act": "present",
          "survived": 0
         },
         {
          "gender": "female",
          "index": 246,
          "sex_act": "present",
          "survived": 0
         },
         {
          "gender": "female",
          "index": 247,
          "sex_act": "present",
          "survived": 0
         },
         {
          "gender": "female",
          "index": 248,
          "sex_act": "present",
          "survived": 0
         },
         {
          "gender": "female",
          "index": 249,
          "sex_act": "present",
          "survived": 0
         },
         {
          "gender": "female",
          "index": 250,
          "sex_act": "present",
          "survived": 0
         },
         {
          "gender": "female",
          "index": 251,
          "sex_act": "present",
          "survived": 0
         },
         {
          "gender": "female",
          "index": 252,
          "sex_act": "present",
          "survived": 0
         },
         {
          "gender": "female",
          "index": 253,
          "sex_act": "present",
          "survived": 0
         },
         {
          "gender": "female",
          "index": 254,
          "sex_act": "present",
          "survived": 0
         },
         {
          "gender": "female",
          "index": 255,
          "sex_act": "present",
          "survived": 0
         },
         {
          "gender": "female",
          "index": 256,
          "sex_act": "present",
          "survived": 0
         },
         {
          "gender": "female",
          "index": 257,
          "sex_act": "present",
          "survived": 0
         },
         {
          "gender": "female",
          "index": 258,
          "sex_act": "present",
          "survived": 0
         },
         {
          "gender": "female",
          "index": 259,
          "sex_act": "present",
          "survived": 0
         },
         {
          "gender": "female",
          "index": 260,
          "sex_act": "present",
          "survived": 0
         },
         {
          "gender": "female",
          "index": 261,
          "sex_act": "present",
          "survived": 0
         },
         {
          "gender": "female",
          "index": 262,
          "sex_act": "present",
          "survived": 0
         },
         {
          "gender": "female",
          "index": 263,
          "sex_act": "present",
          "survived": 0
         },
         {
          "gender": "female",
          "index": 264,
          "sex_act": "present",
          "survived": 0
         },
         {
          "gender": "female",
          "index": 265,
          "sex_act": "present",
          "survived": 0
         },
         {
          "gender": "female",
          "index": 266,
          "sex_act": "present",
          "survived": 0
         },
         {
          "gender": "female",
          "index": 267,
          "sex_act": "present",
          "survived": 0
         },
         {
          "gender": "female",
          "index": 268,
          "sex_act": "present",
          "survived": 0
         },
         {
          "gender": "female",
          "index": 269,
          "sex_act": "present",
          "survived": 0
         },
         {
          "gender": "female",
          "index": 270,
          "sex_act": "present",
          "survived": 0
         },
         {
          "gender": "female",
          "index": 271,
          "sex_act": "present",
          "survived": 0
         },
         {
          "gender": "female",
          "index": 272,
          "sex_act": "present",
          "survived": 0
         },
         {
          "gender": "female",
          "index": 273,
          "sex_act": "present",
          "survived": 0
         },
         {
          "gender": "female",
          "index": 274,
          "sex_act": "present",
          "survived": 0
         },
         {
          "gender": "female",
          "index": 275,
          "sex_act": "present",
          "survived": 0
         },
         {
          "gender": "female",
          "index": 276,
          "sex_act": "present",
          "survived": 0
         },
         {
          "gender": "female",
          "index": 277,
          "sex_act": "present",
          "survived": 0
         },
         {
          "gender": "female",
          "index": 278,
          "sex_act": "present",
          "survived": 0
         },
         {
          "gender": "female",
          "index": 279,
          "sex_act": "present",
          "survived": 0
         },
         {
          "gender": "female",
          "index": 280,
          "sex_act": "present",
          "survived": 0
         },
         {
          "gender": "female",
          "index": 281,
          "sex_act": "present",
          "survived": 0
         },
         {
          "gender": "female",
          "index": 282,
          "sex_act": "present",
          "survived": 0
         },
         {
          "gender": "female",
          "index": 283,
          "sex_act": "present",
          "survived": 0
         },
         {
          "gender": "female",
          "index": 284,
          "sex_act": "present",
          "survived": 0
         },
         {
          "gender": "female",
          "index": 285,
          "sex_act": "present",
          "survived": 0
         },
         {
          "gender": "female",
          "index": 286,
          "sex_act": "present",
          "survived": 0
         },
         {
          "gender": "female",
          "index": 287,
          "sex_act": "present",
          "survived": 0
         },
         {
          "gender": "female",
          "index": 288,
          "sex_act": "present",
          "survived": 0
         },
         {
          "gender": "female",
          "index": 289,
          "sex_act": "present",
          "survived": 0
         },
         {
          "gender": "female",
          "index": 290,
          "sex_act": "present",
          "survived": 0
         },
         {
          "gender": "female",
          "index": 291,
          "sex_act": "present",
          "survived": 0
         },
         {
          "gender": "female",
          "index": 292,
          "sex_act": "present",
          "survived": 0
         },
         {
          "gender": "female",
          "index": 293,
          "sex_act": "present",
          "survived": 0
         },
         {
          "gender": "female",
          "index": 294,
          "sex_act": "present",
          "survived": 0
         },
         {
          "gender": "female",
          "index": 295,
          "sex_act": "present",
          "survived": 0
         },
         {
          "gender": "female",
          "index": 296,
          "sex_act": "absent",
          "survived": 1
         },
         {
          "gender": "female",
          "index": 297,
          "sex_act": "absent",
          "survived": 1
         },
         {
          "gender": "female",
          "index": 298,
          "sex_act": "absent",
          "survived": 1
         },
         {
          "gender": "female",
          "index": 299,
          "sex_act": "absent",
          "survived": 1
         },
         {
          "gender": "female",
          "index": 300,
          "sex_act": "absent",
          "survived": 1
         },
         {
          "gender": "female",
          "index": 301,
          "sex_act": "absent",
          "survived": 1
         },
         {
          "gender": "female",
          "index": 302,
          "sex_act": "absent",
          "survived": 1
         },
         {
          "gender": "female",
          "index": 303,
          "sex_act": "absent",
          "survived": 1
         },
         {
          "gender": "female",
          "index": 304,
          "sex_act": "absent",
          "survived": 1
         },
         {
          "gender": "female",
          "index": 305,
          "sex_act": "absent",
          "survived": 1
         },
         {
          "gender": "female",
          "index": 306,
          "sex_act": "absent",
          "survived": 1
         },
         {
          "gender": "female",
          "index": 307,
          "sex_act": "absent",
          "survived": 1
         },
         {
          "gender": "female",
          "index": 308,
          "sex_act": "absent",
          "survived": 1
         },
         {
          "gender": "female",
          "index": 309,
          "sex_act": "absent",
          "survived": 1
         },
         {
          "gender": "female",
          "index": 310,
          "sex_act": "absent",
          "survived": 1
         },
         {
          "gender": "female",
          "index": 311,
          "sex_act": "absent",
          "survived": 1
         },
         {
          "gender": "female",
          "index": 312,
          "sex_act": "absent",
          "survived": 1
         },
         {
          "gender": "female",
          "index": 313,
          "sex_act": "absent",
          "survived": 1
         },
         {
          "gender": "female",
          "index": 314,
          "sex_act": "absent",
          "survived": 1
         },
         {
          "gender": "female",
          "index": 315,
          "sex_act": "absent",
          "survived": 1
         },
         {
          "gender": "female",
          "index": 316,
          "sex_act": "absent",
          "survived": 1
         },
         {
          "gender": "female",
          "index": 317,
          "sex_act": "absent",
          "survived": 1
         },
         {
          "gender": "female",
          "index": 318,
          "sex_act": "absent",
          "survived": 1
         },
         {
          "gender": "female",
          "index": 319,
          "sex_act": "absent",
          "survived": 1
         },
         {
          "gender": "female",
          "index": 320,
          "sex_act": "absent",
          "survived": 1
         },
         {
          "gender": "female",
          "index": 321,
          "sex_act": "absent",
          "survived": 1
         },
         {
          "gender": "female",
          "index": 322,
          "sex_act": "absent",
          "survived": 1
         },
         {
          "gender": "female",
          "index": 323,
          "sex_act": "absent",
          "survived": 1
         },
         {
          "gender": "female",
          "index": 324,
          "sex_act": "absent",
          "survived": 0
         },
         {
          "gender": "female",
          "index": 325,
          "sex_act": "absent",
          "survived": 0
         },
         {
          "gender": "female",
          "index": 326,
          "sex_act": "absent",
          "survived": 0
         },
         {
          "gender": "female",
          "index": 327,
          "sex_act": "absent",
          "survived": 0
         },
         {
          "gender": "female",
          "index": 328,
          "sex_act": "absent",
          "survived": 0
         },
         {
          "gender": "female",
          "index": 329,
          "sex_act": "absent",
          "survived": 0
         },
         {
          "gender": "female",
          "index": 330,
          "sex_act": "absent",
          "survived": 0
         },
         {
          "gender": "female",
          "index": 331,
          "sex_act": "absent",
          "survived": 0
         },
         {
          "gender": "female",
          "index": 332,
          "sex_act": "absent",
          "survived": 0
         },
         {
          "gender": "female",
          "index": 333,
          "sex_act": "absent",
          "survived": 0
         },
         {
          "gender": "female",
          "index": 334,
          "sex_act": "absent",
          "survived": 0
         },
         {
          "gender": "female",
          "index": 335,
          "sex_act": "absent",
          "survived": 0
         },
         {
          "gender": "female",
          "index": 336,
          "sex_act": "absent",
          "survived": 0
         },
         {
          "gender": "female",
          "index": 337,
          "sex_act": "absent",
          "survived": 0
         },
         {
          "gender": "female",
          "index": 338,
          "sex_act": "absent",
          "survived": 0
         },
         {
          "gender": "female",
          "index": 339,
          "sex_act": "absent",
          "survived": 0
         },
         {
          "gender": "female",
          "index": 340,
          "sex_act": "absent",
          "survived": 0
         },
         {
          "gender": "female",
          "index": 341,
          "sex_act": "absent",
          "survived": 0
         },
         {
          "gender": "female",
          "index": 342,
          "sex_act": "absent",
          "survived": 0
         },
         {
          "gender": "female",
          "index": 343,
          "sex_act": "absent",
          "survived": 0
         },
         {
          "gender": "female",
          "index": 344,
          "sex_act": "absent",
          "survived": 0
         },
         {
          "gender": "female",
          "index": 345,
          "sex_act": "absent",
          "survived": 0
         },
         {
          "gender": "female",
          "index": 346,
          "sex_act": "absent",
          "survived": 0
         },
         {
          "gender": "female",
          "index": 347,
          "sex_act": "absent",
          "survived": 0
         },
         {
          "gender": "female",
          "index": 348,
          "sex_act": "absent",
          "survived": 0
         },
         {
          "gender": "female",
          "index": 349,
          "sex_act": "absent",
          "survived": 0
         },
         {
          "gender": "female",
          "index": 350,
          "sex_act": "absent",
          "survived": 0
         },
         {
          "gender": "female",
          "index": 351,
          "sex_act": "absent",
          "survived": 0
         },
         {
          "gender": "female",
          "index": 352,
          "sex_act": "absent",
          "survived": 0
         },
         {
          "gender": "female",
          "index": 353,
          "sex_act": "absent",
          "survived": 0
         },
         {
          "gender": "female",
          "index": 354,
          "sex_act": "absent",
          "survived": 0
         },
         {
          "gender": "female",
          "index": 355,
          "sex_act": "absent",
          "survived": 0
         },
         {
          "gender": "female",
          "index": 356,
          "sex_act": "absent",
          "survived": 0
         },
         {
          "gender": "female",
          "index": 357,
          "sex_act": "absent",
          "survived": 0
         },
         {
          "gender": "female",
          "index": 358,
          "sex_act": "absent",
          "survived": 0
         },
         {
          "gender": "female",
          "index": 359,
          "sex_act": "absent",
          "survived": 0
         },
         {
          "gender": "female",
          "index": 360,
          "sex_act": "absent",
          "survived": 0
         },
         {
          "gender": "female",
          "index": 361,
          "sex_act": "absent",
          "survived": 0
         },
         {
          "gender": "female",
          "index": 362,
          "sex_act": "absent",
          "survived": 0
         },
         {
          "gender": "female",
          "index": 363,
          "sex_act": "absent",
          "survived": 0
         },
         {
          "gender": "female",
          "index": 364,
          "sex_act": "absent",
          "survived": 0
         },
         {
          "gender": "female",
          "index": 365,
          "sex_act": "absent",
          "survived": 0
         },
         {
          "gender": "female",
          "index": 366,
          "sex_act": "absent",
          "survived": 0
         },
         {
          "gender": "female",
          "index": 367,
          "sex_act": "absent",
          "survived": 0
         },
         {
          "gender": "female",
          "index": 368,
          "sex_act": "absent",
          "survived": 0
         },
         {
          "gender": "female",
          "index": 369,
          "sex_act": "absent",
          "survived": 0
         },
         {
          "gender": "female",
          "index": 370,
          "sex_act": "absent",
          "survived": 0
         },
         {
          "gender": "female",
          "index": 371,
          "sex_act": "absent",
          "survived": 0
         },
         {
          "gender": "female",
          "index": 372,
          "sex_act": "absent",
          "survived": 0
         },
         {
          "gender": "female",
          "index": 373,
          "sex_act": "absent",
          "survived": 0
         },
         {
          "gender": "female",
          "index": 374,
          "sex_act": "absent",
          "survived": 0
         },
         {
          "gender": "female",
          "index": 375,
          "sex_act": "absent",
          "survived": 0
         },
         {
          "gender": "female",
          "index": 376,
          "sex_act": "absent",
          "survived": 0
         },
         {
          "gender": "female",
          "index": 377,
          "sex_act": "absent",
          "survived": 0
         },
         {
          "gender": "female",
          "index": 378,
          "sex_act": "absent",
          "survived": 0
         },
         {
          "gender": "female",
          "index": 379,
          "sex_act": "absent",
          "survived": 0
         },
         {
          "gender": "female",
          "index": 380,
          "sex_act": "absent",
          "survived": 0
         },
         {
          "gender": "female",
          "index": 381,
          "sex_act": "absent",
          "survived": 0
         },
         {
          "gender": "female",
          "index": 382,
          "sex_act": "absent",
          "survived": 0
         },
         {
          "gender": "female",
          "index": 383,
          "sex_act": "absent",
          "survived": 0
         },
         {
          "gender": "female",
          "index": 384,
          "sex_act": "absent",
          "survived": 0
         },
         {
          "gender": "female",
          "index": 385,
          "sex_act": "absent",
          "survived": 0
         },
         {
          "gender": "female",
          "index": 386,
          "sex_act": "absent",
          "survived": 0
         },
         {
          "gender": "female",
          "index": 387,
          "sex_act": "absent",
          "survived": 0
         },
         {
          "gender": "female",
          "index": 388,
          "sex_act": "absent",
          "survived": 0
         },
         {
          "gender": "female",
          "index": 389,
          "sex_act": "absent",
          "survived": 0
         },
         {
          "gender": "female",
          "index": 390,
          "sex_act": "absent",
          "survived": 0
         },
         {
          "gender": "female",
          "index": 391,
          "sex_act": "absent",
          "survived": 0
         },
         {
          "gender": "female",
          "index": 392,
          "sex_act": "absent",
          "survived": 0
         },
         {
          "gender": "female",
          "index": 393,
          "sex_act": "absent",
          "survived": 0
         },
         {
          "gender": "female",
          "index": 394,
          "sex_act": "absent",
          "survived": 0
         },
         {
          "gender": "female",
          "index": 395,
          "sex_act": "absent",
          "survived": 0
         },
         {
          "gender": "female",
          "index": 396,
          "sex_act": "absent",
          "survived": 0
         },
         {
          "gender": "female",
          "index": 397,
          "sex_act": "absent",
          "survived": 0
         },
         {
          "gender": "female",
          "index": 398,
          "sex_act": "absent",
          "survived": 0
         },
         {
          "gender": "female",
          "index": 399,
          "sex_act": "absent",
          "survived": 0
         },
         {
          "gender": "female",
          "index": 400,
          "sex_act": "absent",
          "survived": 0
         },
         {
          "gender": "female",
          "index": 401,
          "sex_act": "absent",
          "survived": 0
         },
         {
          "gender": "female",
          "index": 402,
          "sex_act": "absent",
          "survived": 0
         },
         {
          "gender": "female",
          "index": 403,
          "sex_act": "absent",
          "survived": 0
         },
         {
          "gender": "female",
          "index": 404,
          "sex_act": "absent",
          "survived": 0
         },
         {
          "gender": "female",
          "index": 405,
          "sex_act": "absent",
          "survived": 0
         },
         {
          "gender": "female",
          "index": 406,
          "sex_act": "absent",
          "survived": 0
         },
         {
          "gender": "female",
          "index": 407,
          "sex_act": "absent",
          "survived": 0
         },
         {
          "gender": "female",
          "index": 408,
          "sex_act": "absent",
          "survived": 0
         },
         {
          "gender": "female",
          "index": 409,
          "sex_act": "absent",
          "survived": 0
         },
         {
          "gender": "female",
          "index": 410,
          "sex_act": "absent",
          "survived": 0
         },
         {
          "gender": "female",
          "index": 411,
          "sex_act": "absent",
          "survived": 0
         },
         {
          "gender": "female",
          "index": 412,
          "sex_act": "absent",
          "survived": 0
         },
         {
          "gender": "female",
          "index": 413,
          "sex_act": "absent",
          "survived": 0
         },
         {
          "gender": "female",
          "index": 414,
          "sex_act": "absent",
          "survived": 0
         },
         {
          "gender": "female",
          "index": 415,
          "sex_act": "absent",
          "survived": 0
         },
         {
          "gender": "female",
          "index": 416,
          "sex_act": "absent",
          "survived": 0
         },
         {
          "gender": "female",
          "index": 417,
          "sex_act": "absent",
          "survived": 0
         },
         {
          "gender": "female",
          "index": 418,
          "sex_act": "absent",
          "survived": 0
         },
         {
          "gender": "female",
          "index": 419,
          "sex_act": "absent",
          "survived": 0
         },
         {
          "gender": "female",
          "index": 420,
          "sex_act": "absent",
          "survived": 0
         },
         {
          "gender": "female",
          "index": 421,
          "sex_act": "absent",
          "survived": 0
         },
         {
          "gender": "female",
          "index": 422,
          "sex_act": "absent",
          "survived": 0
         },
         {
          "gender": "female",
          "index": 423,
          "sex_act": "absent",
          "survived": 0
         },
         {
          "gender": "female",
          "index": 424,
          "sex_act": "absent",
          "survived": 0
         },
         {
          "gender": "female",
          "index": 425,
          "sex_act": "absent",
          "survived": 0
         },
         {
          "gender": "female",
          "index": 426,
          "sex_act": "absent",
          "survived": 0
         },
         {
          "gender": "female",
          "index": 427,
          "sex_act": "absent",
          "survived": 0
         },
         {
          "gender": "female",
          "index": 428,
          "sex_act": "absent",
          "survived": 0
         },
         {
          "gender": "female",
          "index": 429,
          "sex_act": "absent",
          "survived": 0
         },
         {
          "gender": "female",
          "index": 430,
          "sex_act": "absent",
          "survived": 0
         },
         {
          "gender": "female",
          "index": 431,
          "sex_act": "absent",
          "survived": 0
         },
         {
          "gender": "female",
          "index": 432,
          "sex_act": "absent",
          "survived": 0
         },
         {
          "gender": "female",
          "index": 433,
          "sex_act": "absent",
          "survived": 0
         },
         {
          "gender": "female",
          "index": 434,
          "sex_act": "absent",
          "survived": 0
         },
         {
          "gender": "female",
          "index": 435,
          "sex_act": "absent",
          "survived": 0
         },
         {
          "gender": "female",
          "index": 436,
          "sex_act": "absent",
          "survived": 0
         },
         {
          "gender": "female",
          "index": 437,
          "sex_act": "absent",
          "survived": 0
         },
         {
          "gender": "female",
          "index": 438,
          "sex_act": "absent",
          "survived": 0
         },
         {
          "gender": "female",
          "index": 439,
          "sex_act": "absent",
          "survived": 0
         },
         {
          "gender": "female",
          "index": 440,
          "sex_act": "absent",
          "survived": 0
         },
         {
          "gender": "female",
          "index": 441,
          "sex_act": "absent",
          "survived": 0
         },
         {
          "gender": "female",
          "index": 442,
          "sex_act": "absent",
          "survived": 0
         },
         {
          "gender": "female",
          "index": 443,
          "sex_act": "absent",
          "survived": 0
         },
         {
          "gender": "female",
          "index": 444,
          "sex_act": "absent",
          "survived": 0
         },
         {
          "gender": "female",
          "index": 445,
          "sex_act": "absent",
          "survived": 0
         },
         {
          "gender": "female",
          "index": 446,
          "sex_act": "absent",
          "survived": 0
         },
         {
          "gender": "female",
          "index": 447,
          "sex_act": "absent",
          "survived": 0
         },
         {
          "gender": "female",
          "index": 448,
          "sex_act": "absent",
          "survived": 0
         },
         {
          "gender": "female",
          "index": 449,
          "sex_act": "absent",
          "survived": 0
         },
         {
          "gender": "female",
          "index": 450,
          "sex_act": "absent",
          "survived": 0
         },
         {
          "gender": "female",
          "index": 451,
          "sex_act": "absent",
          "survived": 0
         },
         {
          "gender": "female",
          "index": 452,
          "sex_act": "absent",
          "survived": 0
         },
         {
          "gender": "female",
          "index": 453,
          "sex_act": "absent",
          "survived": 0
         },
         {
          "gender": "female",
          "index": 454,
          "sex_act": "absent",
          "survived": 0
         },
         {
          "gender": "female",
          "index": 455,
          "sex_act": "absent",
          "survived": 0
         },
         {
          "gender": "female",
          "index": 456,
          "sex_act": "absent",
          "survived": 0
         },
         {
          "gender": "female",
          "index": 457,
          "sex_act": "absent",
          "survived": 0
         },
         {
          "gender": "female",
          "index": 458,
          "sex_act": "absent",
          "survived": 0
         },
         {
          "gender": "female",
          "index": 459,
          "sex_act": "absent",
          "survived": 0
         },
         {
          "gender": "female",
          "index": 460,
          "sex_act": "absent",
          "survived": 0
         },
         {
          "gender": "female",
          "index": 461,
          "sex_act": "absent",
          "survived": 0
         },
         {
          "gender": "female",
          "index": 462,
          "sex_act": "absent",
          "survived": 0
         },
         {
          "gender": "female",
          "index": 463,
          "sex_act": "absent",
          "survived": 0
         },
         {
          "gender": "female",
          "index": 464,
          "sex_act": "absent",
          "survived": 0
         },
         {
          "gender": "female",
          "index": 465,
          "sex_act": "absent",
          "survived": 0
         },
         {
          "gender": "female",
          "index": 466,
          "sex_act": "absent",
          "survived": 0
         },
         {
          "gender": "female",
          "index": 467,
          "sex_act": "absent",
          "survived": 0
         },
         {
          "gender": "female",
          "index": 468,
          "sex_act": "absent",
          "survived": 0
         },
         {
          "gender": "female",
          "index": 469,
          "sex_act": "absent",
          "survived": 0
         },
         {
          "gender": "female",
          "index": 470,
          "sex_act": "absent",
          "survived": 0
         },
         {
          "gender": "female",
          "index": 471,
          "sex_act": "absent",
          "survived": 0
         },
         {
          "gender": "female",
          "index": 472,
          "sex_act": "absent",
          "survived": 0
         },
         {
          "gender": "female",
          "index": 473,
          "sex_act": "absent",
          "survived": 0
         },
         {
          "gender": "female",
          "index": 474,
          "sex_act": "absent",
          "survived": 0
         },
         {
          "gender": "female",
          "index": 475,
          "sex_act": "absent",
          "survived": 0
         },
         {
          "gender": "female",
          "index": 476,
          "sex_act": "absent",
          "survived": 0
         },
         {
          "gender": "female",
          "index": 477,
          "sex_act": "absent",
          "survived": 0
         },
         {
          "gender": "female",
          "index": 478,
          "sex_act": "absent",
          "survived": 0
         },
         {
          "gender": "female",
          "index": 479,
          "sex_act": "absent",
          "survived": 0
         },
         {
          "gender": "female",
          "index": 480,
          "sex_act": "absent",
          "survived": 0
         },
         {
          "gender": "female",
          "index": 481,
          "sex_act": "absent",
          "survived": 0
         },
         {
          "gender": "female",
          "index": 482,
          "sex_act": "absent",
          "survived": 0
         },
         {
          "gender": "female",
          "index": 483,
          "sex_act": "absent",
          "survived": 0
         },
         {
          "gender": "female",
          "index": 484,
          "sex_act": "absent",
          "survived": 0
         }
        ],
        "schema": {
         "fields": [
          {
           "name": "index",
           "type": "integer"
          },
          {
           "name": "gender",
           "type": "string"
          },
          {
           "name": "sex_act",
           "type": "string"
          },
          {
           "name": "survived",
           "type": "integer"
          }
         ],
         "pandas_version": "0.20.0",
         "primaryKey": [
          "index"
         ]
        }
       },
       "total_rows": 485
      },
      "text/html": [
       "<div>\n",
       "<style scoped>\n",
       "    .dataframe tbody tr th:only-of-type {\n",
       "        vertical-align: middle;\n",
       "    }\n",
       "\n",
       "    .dataframe tbody tr th {\n",
       "        vertical-align: top;\n",
       "    }\n",
       "\n",
       "    .dataframe thead th {\n",
       "        text-align: right;\n",
       "    }\n",
       "</style>\n",
       "<table border=\"1\" class=\"dataframe\">\n",
       "  <thead>\n",
       "    <tr style=\"text-align: right;\">\n",
       "      <th></th>\n",
       "      <th>gender</th>\n",
       "      <th>sex_act</th>\n",
       "      <th>survived</th>\n",
       "    </tr>\n",
       "  </thead>\n",
       "  <tbody>\n",
       "    <tr>\n",
       "      <th>0</th>\n",
       "      <td>male</td>\n",
       "      <td>present</td>\n",
       "      <td>1</td>\n",
       "    </tr>\n",
       "    <tr>\n",
       "      <th>1</th>\n",
       "      <td>male</td>\n",
       "      <td>present</td>\n",
       "      <td>1</td>\n",
       "    </tr>\n",
       "    <tr>\n",
       "      <th>2</th>\n",
       "      <td>male</td>\n",
       "      <td>present</td>\n",
       "      <td>1</td>\n",
       "    </tr>\n",
       "    <tr>\n",
       "      <th>3</th>\n",
       "      <td>male</td>\n",
       "      <td>present</td>\n",
       "      <td>1</td>\n",
       "    </tr>\n",
       "    <tr>\n",
       "      <th>4</th>\n",
       "      <td>male</td>\n",
       "      <td>present</td>\n",
       "      <td>1</td>\n",
       "    </tr>\n",
       "    <tr>\n",
       "      <th>...</th>\n",
       "      <td>...</td>\n",
       "      <td>...</td>\n",
       "      <td>...</td>\n",
       "    </tr>\n",
       "    <tr>\n",
       "      <th>480</th>\n",
       "      <td>female</td>\n",
       "      <td>absent</td>\n",
       "      <td>0</td>\n",
       "    </tr>\n",
       "    <tr>\n",
       "      <th>481</th>\n",
       "      <td>female</td>\n",
       "      <td>absent</td>\n",
       "      <td>0</td>\n",
       "    </tr>\n",
       "    <tr>\n",
       "      <th>482</th>\n",
       "      <td>female</td>\n",
       "      <td>absent</td>\n",
       "      <td>0</td>\n",
       "    </tr>\n",
       "    <tr>\n",
       "      <th>483</th>\n",
       "      <td>female</td>\n",
       "      <td>absent</td>\n",
       "      <td>0</td>\n",
       "    </tr>\n",
       "    <tr>\n",
       "      <th>484</th>\n",
       "      <td>female</td>\n",
       "      <td>absent</td>\n",
       "      <td>0</td>\n",
       "    </tr>\n",
       "  </tbody>\n",
       "</table>\n",
       "<p>485 rows × 3 columns</p>\n",
       "</div>"
      ],
      "text/plain": [
       "     gender  sex_act  survived\n",
       "0      male  present         1\n",
       "1      male  present         1\n",
       "2      male  present         1\n",
       "3      male  present         1\n",
       "4      male  present         1\n",
       "..      ...      ...       ...\n",
       "480  female   absent         0\n",
       "481  female   absent         0\n",
       "482  female   absent         0\n",
       "483  female   absent         0\n",
       "484  female   absent         0\n",
       "\n",
       "[485 rows x 3 columns]"
      ]
     },
     "execution_count": 2,
     "metadata": {},
     "output_type": "execute_result"
    }
   ],
   "source": [
    "slash = pd.read_csv(\"slash.csv\")\n",
    "slash"
   ]
  },
  {
   "cell_type": "markdown",
   "id": "d9bc285b-ea2f-488f-b4dd-439bc3e5c1c2",
   "metadata": {},
   "source": [
    "## Data dictionary"
   ]
  },
  {
   "cell_type": "markdown",
   "id": "35ce38b4-7943-45b4-99a6-5c9a5afafa47",
   "metadata": {},
   "source": [
    "Each row corresponds to one character in a slash movie.\n",
    "\n",
    "- **gender**: gender of the character; either **male** or **female**.\n",
    "- **sex_act**: Was the character involved in a sex act during the movie?; either **present** or **absent**.\n",
    "- **survived**: Did the character survive through to the end of the movie?; either **1** if they survived or **0** if they died."
   ]
  },
  {
   "cell_type": "markdown",
   "id": "310b1617-3878-421d-a7d7-f70f1487f11d",
   "metadata": {},
   "source": [
    "## Converting categorical columns to dummy variables"
   ]
  },
  {
   "cell_type": "markdown",
   "id": "da0b9805-c731-4356-8a09-9085a530bec6",
   "metadata": {},
   "source": [
    "Scikit-learn can't deal with categorical columns directly. They must be converted to dummy columns of ones and zeroes. The pandas function [`get_dummies()`](https://pandas.pydata.org/pandas-docs/stable/reference/api/pandas.get_dummies.html) can be used for this."
   ]
  },
  {
   "cell_type": "code",
   "execution_count": null,
   "id": "259c043a-5f12-41e8-862a-da3b91bfcdf1",
   "metadata": {},
   "outputs": [
    {
     "data": {
      "application/com.datacamp.data-table.v1+json": {
       "is_truncated": false,
       "table": {
        "data": [
         {
          "gender_female": 0,
          "gender_male": 1,
          "index": 0,
          "sex_act_absent": 0,
          "sex_act_present": 1,
          "survived": 1
         },
         {
          "gender_female": 0,
          "gender_male": 1,
          "index": 1,
          "sex_act_absent": 0,
          "sex_act_present": 1,
          "survived": 1
         },
         {
          "gender_female": 0,
          "gender_male": 1,
          "index": 2,
          "sex_act_absent": 0,
          "sex_act_present": 1,
          "survived": 1
         },
         {
          "gender_female": 0,
          "gender_male": 1,
          "index": 3,
          "sex_act_absent": 0,
          "sex_act_present": 1,
          "survived": 1
         },
         {
          "gender_female": 0,
          "gender_male": 1,
          "index": 4,
          "sex_act_absent": 0,
          "sex_act_present": 1,
          "survived": 1
         },
         {
          "gender_female": 0,
          "gender_male": 1,
          "index": 5,
          "sex_act_absent": 0,
          "sex_act_present": 1,
          "survived": 1
         },
         {
          "gender_female": 0,
          "gender_male": 1,
          "index": 6,
          "sex_act_absent": 0,
          "sex_act_present": 1,
          "survived": 1
         },
         {
          "gender_female": 0,
          "gender_male": 1,
          "index": 7,
          "sex_act_absent": 0,
          "sex_act_present": 1,
          "survived": 1
         },
         {
          "gender_female": 0,
          "gender_male": 1,
          "index": 8,
          "sex_act_absent": 0,
          "sex_act_present": 1,
          "survived": 1
         },
         {
          "gender_female": 0,
          "gender_male": 1,
          "index": 9,
          "sex_act_absent": 0,
          "sex_act_present": 1,
          "survived": 1
         },
         {
          "gender_female": 0,
          "gender_male": 1,
          "index": 10,
          "sex_act_absent": 0,
          "sex_act_present": 1,
          "survived": 1
         },
         {
          "gender_female": 0,
          "gender_male": 1,
          "index": 11,
          "sex_act_absent": 0,
          "sex_act_present": 1,
          "survived": 0
         },
         {
          "gender_female": 0,
          "gender_male": 1,
          "index": 12,
          "sex_act_absent": 0,
          "sex_act_present": 1,
          "survived": 0
         },
         {
          "gender_female": 0,
          "gender_male": 1,
          "index": 13,
          "sex_act_absent": 0,
          "sex_act_present": 1,
          "survived": 0
         },
         {
          "gender_female": 0,
          "gender_male": 1,
          "index": 14,
          "sex_act_absent": 0,
          "sex_act_present": 1,
          "survived": 0
         },
         {
          "gender_female": 0,
          "gender_male": 1,
          "index": 15,
          "sex_act_absent": 0,
          "sex_act_present": 1,
          "survived": 0
         },
         {
          "gender_female": 0,
          "gender_male": 1,
          "index": 16,
          "sex_act_absent": 0,
          "sex_act_present": 1,
          "survived": 0
         },
         {
          "gender_female": 0,
          "gender_male": 1,
          "index": 17,
          "sex_act_absent": 0,
          "sex_act_present": 1,
          "survived": 0
         },
         {
          "gender_female": 0,
          "gender_male": 1,
          "index": 18,
          "sex_act_absent": 0,
          "sex_act_present": 1,
          "survived": 0
         },
         {
          "gender_female": 0,
          "gender_male": 1,
          "index": 19,
          "sex_act_absent": 0,
          "sex_act_present": 1,
          "survived": 0
         },
         {
          "gender_female": 0,
          "gender_male": 1,
          "index": 20,
          "sex_act_absent": 0,
          "sex_act_present": 1,
          "survived": 0
         },
         {
          "gender_female": 0,
          "gender_male": 1,
          "index": 21,
          "sex_act_absent": 0,
          "sex_act_present": 1,
          "survived": 0
         },
         {
          "gender_female": 0,
          "gender_male": 1,
          "index": 22,
          "sex_act_absent": 0,
          "sex_act_present": 1,
          "survived": 0
         },
         {
          "gender_female": 0,
          "gender_male": 1,
          "index": 23,
          "sex_act_absent": 0,
          "sex_act_present": 1,
          "survived": 0
         },
         {
          "gender_female": 0,
          "gender_male": 1,
          "index": 24,
          "sex_act_absent": 0,
          "sex_act_present": 1,
          "survived": 0
         },
         {
          "gender_female": 0,
          "gender_male": 1,
          "index": 25,
          "sex_act_absent": 0,
          "sex_act_present": 1,
          "survived": 0
         },
         {
          "gender_female": 0,
          "gender_male": 1,
          "index": 26,
          "sex_act_absent": 0,
          "sex_act_present": 1,
          "survived": 0
         },
         {
          "gender_female": 0,
          "gender_male": 1,
          "index": 27,
          "sex_act_absent": 0,
          "sex_act_present": 1,
          "survived": 0
         },
         {
          "gender_female": 0,
          "gender_male": 1,
          "index": 28,
          "sex_act_absent": 0,
          "sex_act_present": 1,
          "survived": 0
         },
         {
          "gender_female": 0,
          "gender_male": 1,
          "index": 29,
          "sex_act_absent": 0,
          "sex_act_present": 1,
          "survived": 0
         },
         {
          "gender_female": 0,
          "gender_male": 1,
          "index": 30,
          "sex_act_absent": 0,
          "sex_act_present": 1,
          "survived": 0
         },
         {
          "gender_female": 0,
          "gender_male": 1,
          "index": 31,
          "sex_act_absent": 0,
          "sex_act_present": 1,
          "survived": 0
         },
         {
          "gender_female": 0,
          "gender_male": 1,
          "index": 32,
          "sex_act_absent": 0,
          "sex_act_present": 1,
          "survived": 0
         },
         {
          "gender_female": 0,
          "gender_male": 1,
          "index": 33,
          "sex_act_absent": 0,
          "sex_act_present": 1,
          "survived": 0
         },
         {
          "gender_female": 0,
          "gender_male": 1,
          "index": 34,
          "sex_act_absent": 0,
          "sex_act_present": 1,
          "survived": 0
         },
         {
          "gender_female": 0,
          "gender_male": 1,
          "index": 35,
          "sex_act_absent": 0,
          "sex_act_present": 1,
          "survived": 0
         },
         {
          "gender_female": 0,
          "gender_male": 1,
          "index": 36,
          "sex_act_absent": 0,
          "sex_act_present": 1,
          "survived": 0
         },
         {
          "gender_female": 0,
          "gender_male": 1,
          "index": 37,
          "sex_act_absent": 0,
          "sex_act_present": 1,
          "survived": 0
         },
         {
          "gender_female": 0,
          "gender_male": 1,
          "index": 38,
          "sex_act_absent": 0,
          "sex_act_present": 1,
          "survived": 0
         },
         {
          "gender_female": 0,
          "gender_male": 1,
          "index": 39,
          "sex_act_absent": 0,
          "sex_act_present": 1,
          "survived": 0
         },
         {
          "gender_female": 0,
          "gender_male": 1,
          "index": 40,
          "sex_act_absent": 0,
          "sex_act_present": 1,
          "survived": 0
         },
         {
          "gender_female": 0,
          "gender_male": 1,
          "index": 41,
          "sex_act_absent": 0,
          "sex_act_present": 1,
          "survived": 0
         },
         {
          "gender_female": 0,
          "gender_male": 1,
          "index": 42,
          "sex_act_absent": 0,
          "sex_act_present": 1,
          "survived": 0
         },
         {
          "gender_female": 0,
          "gender_male": 1,
          "index": 43,
          "sex_act_absent": 0,
          "sex_act_present": 1,
          "survived": 0
         },
         {
          "gender_female": 0,
          "gender_male": 1,
          "index": 44,
          "sex_act_absent": 0,
          "sex_act_present": 1,
          "survived": 0
         },
         {
          "gender_female": 0,
          "gender_male": 1,
          "index": 45,
          "sex_act_absent": 0,
          "sex_act_present": 1,
          "survived": 0
         },
         {
          "gender_female": 0,
          "gender_male": 1,
          "index": 46,
          "sex_act_absent": 0,
          "sex_act_present": 1,
          "survived": 0
         },
         {
          "gender_female": 0,
          "gender_male": 1,
          "index": 47,
          "sex_act_absent": 0,
          "sex_act_present": 1,
          "survived": 0
         },
         {
          "gender_female": 0,
          "gender_male": 1,
          "index": 48,
          "sex_act_absent": 0,
          "sex_act_present": 1,
          "survived": 0
         },
         {
          "gender_female": 0,
          "gender_male": 1,
          "index": 49,
          "sex_act_absent": 0,
          "sex_act_present": 1,
          "survived": 0
         },
         {
          "gender_female": 0,
          "gender_male": 1,
          "index": 50,
          "sex_act_absent": 0,
          "sex_act_present": 1,
          "survived": 0
         },
         {
          "gender_female": 0,
          "gender_male": 1,
          "index": 51,
          "sex_act_absent": 0,
          "sex_act_present": 1,
          "survived": 0
         },
         {
          "gender_female": 0,
          "gender_male": 1,
          "index": 52,
          "sex_act_absent": 0,
          "sex_act_present": 1,
          "survived": 0
         },
         {
          "gender_female": 0,
          "gender_male": 1,
          "index": 53,
          "sex_act_absent": 0,
          "sex_act_present": 1,
          "survived": 0
         },
         {
          "gender_female": 0,
          "gender_male": 1,
          "index": 54,
          "sex_act_absent": 0,
          "sex_act_present": 1,
          "survived": 0
         },
         {
          "gender_female": 0,
          "gender_male": 1,
          "index": 55,
          "sex_act_absent": 0,
          "sex_act_present": 1,
          "survived": 0
         },
         {
          "gender_female": 0,
          "gender_male": 1,
          "index": 56,
          "sex_act_absent": 0,
          "sex_act_present": 1,
          "survived": 0
         },
         {
          "gender_female": 0,
          "gender_male": 1,
          "index": 57,
          "sex_act_absent": 0,
          "sex_act_present": 1,
          "survived": 0
         },
         {
          "gender_female": 0,
          "gender_male": 1,
          "index": 58,
          "sex_act_absent": 0,
          "sex_act_present": 1,
          "survived": 0
         },
         {
          "gender_female": 0,
          "gender_male": 1,
          "index": 59,
          "sex_act_absent": 0,
          "sex_act_present": 1,
          "survived": 0
         },
         {
          "gender_female": 0,
          "gender_male": 1,
          "index": 60,
          "sex_act_absent": 0,
          "sex_act_present": 1,
          "survived": 0
         },
         {
          "gender_female": 0,
          "gender_male": 1,
          "index": 61,
          "sex_act_absent": 0,
          "sex_act_present": 1,
          "survived": 0
         },
         {
          "gender_female": 0,
          "gender_male": 1,
          "index": 62,
          "sex_act_absent": 0,
          "sex_act_present": 1,
          "survived": 0
         },
         {
          "gender_female": 0,
          "gender_male": 1,
          "index": 63,
          "sex_act_absent": 0,
          "sex_act_present": 1,
          "survived": 0
         },
         {
          "gender_female": 0,
          "gender_male": 1,
          "index": 64,
          "sex_act_absent": 0,
          "sex_act_present": 1,
          "survived": 0
         },
         {
          "gender_female": 0,
          "gender_male": 1,
          "index": 65,
          "sex_act_absent": 0,
          "sex_act_present": 1,
          "survived": 0
         },
         {
          "gender_female": 0,
          "gender_male": 1,
          "index": 66,
          "sex_act_absent": 0,
          "sex_act_present": 1,
          "survived": 0
         },
         {
          "gender_female": 0,
          "gender_male": 1,
          "index": 67,
          "sex_act_absent": 0,
          "sex_act_present": 1,
          "survived": 0
         },
         {
          "gender_female": 0,
          "gender_male": 1,
          "index": 68,
          "sex_act_absent": 0,
          "sex_act_present": 1,
          "survived": 0
         },
         {
          "gender_female": 0,
          "gender_male": 1,
          "index": 69,
          "sex_act_absent": 0,
          "sex_act_present": 1,
          "survived": 0
         },
         {
          "gender_female": 0,
          "gender_male": 1,
          "index": 70,
          "sex_act_absent": 0,
          "sex_act_present": 1,
          "survived": 0
         },
         {
          "gender_female": 0,
          "gender_male": 1,
          "index": 71,
          "sex_act_absent": 0,
          "sex_act_present": 1,
          "survived": 0
         },
         {
          "gender_female": 0,
          "gender_male": 1,
          "index": 72,
          "sex_act_absent": 0,
          "sex_act_present": 1,
          "survived": 0
         },
         {
          "gender_female": 0,
          "gender_male": 1,
          "index": 73,
          "sex_act_absent": 0,
          "sex_act_present": 1,
          "survived": 0
         },
         {
          "gender_female": 0,
          "gender_male": 1,
          "index": 74,
          "sex_act_absent": 0,
          "sex_act_present": 1,
          "survived": 0
         },
         {
          "gender_female": 0,
          "gender_male": 1,
          "index": 75,
          "sex_act_absent": 0,
          "sex_act_present": 1,
          "survived": 0
         },
         {
          "gender_female": 0,
          "gender_male": 1,
          "index": 76,
          "sex_act_absent": 0,
          "sex_act_present": 1,
          "survived": 0
         },
         {
          "gender_female": 0,
          "gender_male": 1,
          "index": 77,
          "sex_act_absent": 0,
          "sex_act_present": 1,
          "survived": 0
         },
         {
          "gender_female": 0,
          "gender_male": 1,
          "index": 78,
          "sex_act_absent": 0,
          "sex_act_present": 1,
          "survived": 0
         },
         {
          "gender_female": 0,
          "gender_male": 1,
          "index": 79,
          "sex_act_absent": 0,
          "sex_act_present": 1,
          "survived": 0
         },
         {
          "gender_female": 0,
          "gender_male": 1,
          "index": 80,
          "sex_act_absent": 0,
          "sex_act_present": 1,
          "survived": 0
         },
         {
          "gender_female": 0,
          "gender_male": 1,
          "index": 81,
          "sex_act_absent": 0,
          "sex_act_present": 1,
          "survived": 0
         },
         {
          "gender_female": 0,
          "gender_male": 1,
          "index": 82,
          "sex_act_absent": 0,
          "sex_act_present": 1,
          "survived": 0
         },
         {
          "gender_female": 0,
          "gender_male": 1,
          "index": 83,
          "sex_act_absent": 1,
          "sex_act_present": 0,
          "survived": 1
         },
         {
          "gender_female": 0,
          "gender_male": 1,
          "index": 84,
          "sex_act_absent": 1,
          "sex_act_present": 0,
          "survived": 1
         },
         {
          "gender_female": 0,
          "gender_male": 1,
          "index": 85,
          "sex_act_absent": 1,
          "sex_act_present": 0,
          "survived": 1
         },
         {
          "gender_female": 0,
          "gender_male": 1,
          "index": 86,
          "sex_act_absent": 1,
          "sex_act_present": 0,
          "survived": 1
         },
         {
          "gender_female": 0,
          "gender_male": 1,
          "index": 87,
          "sex_act_absent": 1,
          "sex_act_present": 0,
          "survived": 1
         },
         {
          "gender_female": 0,
          "gender_male": 1,
          "index": 88,
          "sex_act_absent": 1,
          "sex_act_present": 0,
          "survived": 1
         },
         {
          "gender_female": 0,
          "gender_male": 1,
          "index": 89,
          "sex_act_absent": 1,
          "sex_act_present": 0,
          "survived": 1
         },
         {
          "gender_female": 0,
          "gender_male": 1,
          "index": 90,
          "sex_act_absent": 1,
          "sex_act_present": 0,
          "survived": 1
         },
         {
          "gender_female": 0,
          "gender_male": 1,
          "index": 91,
          "sex_act_absent": 1,
          "sex_act_present": 0,
          "survived": 1
         },
         {
          "gender_female": 0,
          "gender_male": 1,
          "index": 92,
          "sex_act_absent": 1,
          "sex_act_present": 0,
          "survived": 1
         },
         {
          "gender_female": 0,
          "gender_male": 1,
          "index": 93,
          "sex_act_absent": 1,
          "sex_act_present": 0,
          "survived": 1
         },
         {
          "gender_female": 0,
          "gender_male": 1,
          "index": 94,
          "sex_act_absent": 1,
          "sex_act_present": 0,
          "survived": 1
         },
         {
          "gender_female": 0,
          "gender_male": 1,
          "index": 95,
          "sex_act_absent": 1,
          "sex_act_present": 0,
          "survived": 1
         },
         {
          "gender_female": 0,
          "gender_male": 1,
          "index": 96,
          "sex_act_absent": 1,
          "sex_act_present": 0,
          "survived": 1
         },
         {
          "gender_female": 0,
          "gender_male": 1,
          "index": 97,
          "sex_act_absent": 1,
          "sex_act_present": 0,
          "survived": 1
         },
         {
          "gender_female": 0,
          "gender_male": 1,
          "index": 98,
          "sex_act_absent": 1,
          "sex_act_present": 0,
          "survived": 1
         },
         {
          "gender_female": 0,
          "gender_male": 1,
          "index": 99,
          "sex_act_absent": 1,
          "sex_act_present": 0,
          "survived": 1
         },
         {
          "gender_female": 0,
          "gender_male": 1,
          "index": 100,
          "sex_act_absent": 1,
          "sex_act_present": 0,
          "survived": 1
         },
         {
          "gender_female": 0,
          "gender_male": 1,
          "index": 101,
          "sex_act_absent": 1,
          "sex_act_present": 0,
          "survived": 1
         },
         {
          "gender_female": 0,
          "gender_male": 1,
          "index": 102,
          "sex_act_absent": 1,
          "sex_act_present": 0,
          "survived": 1
         },
         {
          "gender_female": 0,
          "gender_male": 1,
          "index": 103,
          "sex_act_absent": 1,
          "sex_act_present": 0,
          "survived": 1
         },
         {
          "gender_female": 0,
          "gender_male": 1,
          "index": 104,
          "sex_act_absent": 1,
          "sex_act_present": 0,
          "survived": 1
         },
         {
          "gender_female": 0,
          "gender_male": 1,
          "index": 105,
          "sex_act_absent": 1,
          "sex_act_present": 0,
          "survived": 1
         },
         {
          "gender_female": 0,
          "gender_male": 1,
          "index": 106,
          "sex_act_absent": 1,
          "sex_act_present": 0,
          "survived": 1
         },
         {
          "gender_female": 0,
          "gender_male": 1,
          "index": 107,
          "sex_act_absent": 1,
          "sex_act_present": 0,
          "survived": 1
         },
         {
          "gender_female": 0,
          "gender_male": 1,
          "index": 108,
          "sex_act_absent": 1,
          "sex_act_present": 0,
          "survived": 1
         },
         {
          "gender_female": 0,
          "gender_male": 1,
          "index": 109,
          "sex_act_absent": 1,
          "sex_act_present": 0,
          "survived": 1
         },
         {
          "gender_female": 0,
          "gender_male": 1,
          "index": 110,
          "sex_act_absent": 1,
          "sex_act_present": 0,
          "survived": 1
         },
         {
          "gender_female": 0,
          "gender_male": 1,
          "index": 111,
          "sex_act_absent": 1,
          "sex_act_present": 0,
          "survived": 1
         },
         {
          "gender_female": 0,
          "gender_male": 1,
          "index": 112,
          "sex_act_absent": 1,
          "sex_act_present": 0,
          "survived": 1
         },
         {
          "gender_female": 0,
          "gender_male": 1,
          "index": 113,
          "sex_act_absent": 1,
          "sex_act_present": 0,
          "survived": 1
         },
         {
          "gender_female": 0,
          "gender_male": 1,
          "index": 114,
          "sex_act_absent": 1,
          "sex_act_present": 0,
          "survived": 1
         },
         {
          "gender_female": 0,
          "gender_male": 1,
          "index": 115,
          "sex_act_absent": 1,
          "sex_act_present": 0,
          "survived": 1
         },
         {
          "gender_female": 0,
          "gender_male": 1,
          "index": 116,
          "sex_act_absent": 1,
          "sex_act_present": 0,
          "survived": 1
         },
         {
          "gender_female": 0,
          "gender_male": 1,
          "index": 117,
          "sex_act_absent": 1,
          "sex_act_present": 0,
          "survived": 1
         },
         {
          "gender_female": 0,
          "gender_male": 1,
          "index": 118,
          "sex_act_absent": 1,
          "sex_act_present": 0,
          "survived": 1
         },
         {
          "gender_female": 0,
          "gender_male": 1,
          "index": 119,
          "sex_act_absent": 1,
          "sex_act_present": 0,
          "survived": 1
         },
         {
          "gender_female": 0,
          "gender_male": 1,
          "index": 120,
          "sex_act_absent": 1,
          "sex_act_present": 0,
          "survived": 1
         },
         {
          "gender_female": 0,
          "gender_male": 1,
          "index": 121,
          "sex_act_absent": 1,
          "sex_act_present": 0,
          "survived": 1
         },
         {
          "gender_female": 0,
          "gender_male": 1,
          "index": 122,
          "sex_act_absent": 1,
          "sex_act_present": 0,
          "survived": 0
         },
         {
          "gender_female": 0,
          "gender_male": 1,
          "index": 123,
          "sex_act_absent": 1,
          "sex_act_present": 0,
          "survived": 0
         },
         {
          "gender_female": 0,
          "gender_male": 1,
          "index": 124,
          "sex_act_absent": 1,
          "sex_act_present": 0,
          "survived": 0
         },
         {
          "gender_female": 0,
          "gender_male": 1,
          "index": 125,
          "sex_act_absent": 1,
          "sex_act_present": 0,
          "survived": 0
         },
         {
          "gender_female": 0,
          "gender_male": 1,
          "index": 126,
          "sex_act_absent": 1,
          "sex_act_present": 0,
          "survived": 0
         },
         {
          "gender_female": 0,
          "gender_male": 1,
          "index": 127,
          "sex_act_absent": 1,
          "sex_act_present": 0,
          "survived": 0
         },
         {
          "gender_female": 0,
          "gender_male": 1,
          "index": 128,
          "sex_act_absent": 1,
          "sex_act_present": 0,
          "survived": 0
         },
         {
          "gender_female": 0,
          "gender_male": 1,
          "index": 129,
          "sex_act_absent": 1,
          "sex_act_present": 0,
          "survived": 0
         },
         {
          "gender_female": 0,
          "gender_male": 1,
          "index": 130,
          "sex_act_absent": 1,
          "sex_act_present": 0,
          "survived": 0
         },
         {
          "gender_female": 0,
          "gender_male": 1,
          "index": 131,
          "sex_act_absent": 1,
          "sex_act_present": 0,
          "survived": 0
         },
         {
          "gender_female": 0,
          "gender_male": 1,
          "index": 132,
          "sex_act_absent": 1,
          "sex_act_present": 0,
          "survived": 0
         },
         {
          "gender_female": 0,
          "gender_male": 1,
          "index": 133,
          "sex_act_absent": 1,
          "sex_act_present": 0,
          "survived": 0
         },
         {
          "gender_female": 0,
          "gender_male": 1,
          "index": 134,
          "sex_act_absent": 1,
          "sex_act_present": 0,
          "survived": 0
         },
         {
          "gender_female": 0,
          "gender_male": 1,
          "index": 135,
          "sex_act_absent": 1,
          "sex_act_present": 0,
          "survived": 0
         },
         {
          "gender_female": 0,
          "gender_male": 1,
          "index": 136,
          "sex_act_absent": 1,
          "sex_act_present": 0,
          "survived": 0
         },
         {
          "gender_female": 0,
          "gender_male": 1,
          "index": 137,
          "sex_act_absent": 1,
          "sex_act_present": 0,
          "survived": 0
         },
         {
          "gender_female": 0,
          "gender_male": 1,
          "index": 138,
          "sex_act_absent": 1,
          "sex_act_present": 0,
          "survived": 0
         },
         {
          "gender_female": 0,
          "gender_male": 1,
          "index": 139,
          "sex_act_absent": 1,
          "sex_act_present": 0,
          "survived": 0
         },
         {
          "gender_female": 0,
          "gender_male": 1,
          "index": 140,
          "sex_act_absent": 1,
          "sex_act_present": 0,
          "survived": 0
         },
         {
          "gender_female": 0,
          "gender_male": 1,
          "index": 141,
          "sex_act_absent": 1,
          "sex_act_present": 0,
          "survived": 0
         },
         {
          "gender_female": 0,
          "gender_male": 1,
          "index": 142,
          "sex_act_absent": 1,
          "sex_act_present": 0,
          "survived": 0
         },
         {
          "gender_female": 0,
          "gender_male": 1,
          "index": 143,
          "sex_act_absent": 1,
          "sex_act_present": 0,
          "survived": 0
         },
         {
          "gender_female": 0,
          "gender_male": 1,
          "index": 144,
          "sex_act_absent": 1,
          "sex_act_present": 0,
          "survived": 0
         },
         {
          "gender_female": 0,
          "gender_male": 1,
          "index": 145,
          "sex_act_absent": 1,
          "sex_act_present": 0,
          "survived": 0
         },
         {
          "gender_female": 0,
          "gender_male": 1,
          "index": 146,
          "sex_act_absent": 1,
          "sex_act_present": 0,
          "survived": 0
         },
         {
          "gender_female": 0,
          "gender_male": 1,
          "index": 147,
          "sex_act_absent": 1,
          "sex_act_present": 0,
          "survived": 0
         },
         {
          "gender_female": 0,
          "gender_male": 1,
          "index": 148,
          "sex_act_absent": 1,
          "sex_act_present": 0,
          "survived": 0
         },
         {
          "gender_female": 0,
          "gender_male": 1,
          "index": 149,
          "sex_act_absent": 1,
          "sex_act_present": 0,
          "survived": 0
         },
         {
          "gender_female": 0,
          "gender_male": 1,
          "index": 150,
          "sex_act_absent": 1,
          "sex_act_present": 0,
          "survived": 0
         },
         {
          "gender_female": 0,
          "gender_male": 1,
          "index": 151,
          "sex_act_absent": 1,
          "sex_act_present": 0,
          "survived": 0
         },
         {
          "gender_female": 0,
          "gender_male": 1,
          "index": 152,
          "sex_act_absent": 1,
          "sex_act_present": 0,
          "survived": 0
         },
         {
          "gender_female": 0,
          "gender_male": 1,
          "index": 153,
          "sex_act_absent": 1,
          "sex_act_present": 0,
          "survived": 0
         },
         {
          "gender_female": 0,
          "gender_male": 1,
          "index": 154,
          "sex_act_absent": 1,
          "sex_act_present": 0,
          "survived": 0
         },
         {
          "gender_female": 0,
          "gender_male": 1,
          "index": 155,
          "sex_act_absent": 1,
          "sex_act_present": 0,
          "survived": 0
         },
         {
          "gender_female": 0,
          "gender_male": 1,
          "index": 156,
          "sex_act_absent": 1,
          "sex_act_present": 0,
          "survived": 0
         },
         {
          "gender_female": 0,
          "gender_male": 1,
          "index": 157,
          "sex_act_absent": 1,
          "sex_act_present": 0,
          "survived": 0
         },
         {
          "gender_female": 0,
          "gender_male": 1,
          "index": 158,
          "sex_act_absent": 1,
          "sex_act_present": 0,
          "survived": 0
         },
         {
          "gender_female": 0,
          "gender_male": 1,
          "index": 159,
          "sex_act_absent": 1,
          "sex_act_present": 0,
          "survived": 0
         },
         {
          "gender_female": 0,
          "gender_male": 1,
          "index": 160,
          "sex_act_absent": 1,
          "sex_act_present": 0,
          "survived": 0
         },
         {
          "gender_female": 0,
          "gender_male": 1,
          "index": 161,
          "sex_act_absent": 1,
          "sex_act_present": 0,
          "survived": 0
         },
         {
          "gender_female": 0,
          "gender_male": 1,
          "index": 162,
          "sex_act_absent": 1,
          "sex_act_present": 0,
          "survived": 0
         },
         {
          "gender_female": 0,
          "gender_male": 1,
          "index": 163,
          "sex_act_absent": 1,
          "sex_act_present": 0,
          "survived": 0
         },
         {
          "gender_female": 0,
          "gender_male": 1,
          "index": 164,
          "sex_act_absent": 1,
          "sex_act_present": 0,
          "survived": 0
         },
         {
          "gender_female": 0,
          "gender_male": 1,
          "index": 165,
          "sex_act_absent": 1,
          "sex_act_present": 0,
          "survived": 0
         },
         {
          "gender_female": 0,
          "gender_male": 1,
          "index": 166,
          "sex_act_absent": 1,
          "sex_act_present": 0,
          "survived": 0
         },
         {
          "gender_female": 0,
          "gender_male": 1,
          "index": 167,
          "sex_act_absent": 1,
          "sex_act_present": 0,
          "survived": 0
         },
         {
          "gender_female": 0,
          "gender_male": 1,
          "index": 168,
          "sex_act_absent": 1,
          "sex_act_present": 0,
          "survived": 0
         },
         {
          "gender_female": 0,
          "gender_male": 1,
          "index": 169,
          "sex_act_absent": 1,
          "sex_act_present": 0,
          "survived": 0
         },
         {
          "gender_female": 0,
          "gender_male": 1,
          "index": 170,
          "sex_act_absent": 1,
          "sex_act_present": 0,
          "survived": 0
         },
         {
          "gender_female": 0,
          "gender_male": 1,
          "index": 171,
          "sex_act_absent": 1,
          "sex_act_present": 0,
          "survived": 0
         },
         {
          "gender_female": 0,
          "gender_male": 1,
          "index": 172,
          "sex_act_absent": 1,
          "sex_act_present": 0,
          "survived": 0
         },
         {
          "gender_female": 0,
          "gender_male": 1,
          "index": 173,
          "sex_act_absent": 1,
          "sex_act_present": 0,
          "survived": 0
         },
         {
          "gender_female": 0,
          "gender_male": 1,
          "index": 174,
          "sex_act_absent": 1,
          "sex_act_present": 0,
          "survived": 0
         },
         {
          "gender_female": 0,
          "gender_male": 1,
          "index": 175,
          "sex_act_absent": 1,
          "sex_act_present": 0,
          "survived": 0
         },
         {
          "gender_female": 0,
          "gender_male": 1,
          "index": 176,
          "sex_act_absent": 1,
          "sex_act_present": 0,
          "survived": 0
         },
         {
          "gender_female": 0,
          "gender_male": 1,
          "index": 177,
          "sex_act_absent": 1,
          "sex_act_present": 0,
          "survived": 0
         },
         {
          "gender_female": 0,
          "gender_male": 1,
          "index": 178,
          "sex_act_absent": 1,
          "sex_act_present": 0,
          "survived": 0
         },
         {
          "gender_female": 0,
          "gender_male": 1,
          "index": 179,
          "sex_act_absent": 1,
          "sex_act_present": 0,
          "survived": 0
         },
         {
          "gender_female": 0,
          "gender_male": 1,
          "index": 180,
          "sex_act_absent": 1,
          "sex_act_present": 0,
          "survived": 0
         },
         {
          "gender_female": 0,
          "gender_male": 1,
          "index": 181,
          "sex_act_absent": 1,
          "sex_act_present": 0,
          "survived": 0
         },
         {
          "gender_female": 0,
          "gender_male": 1,
          "index": 182,
          "sex_act_absent": 1,
          "sex_act_present": 0,
          "survived": 0
         },
         {
          "gender_female": 0,
          "gender_male": 1,
          "index": 183,
          "sex_act_absent": 1,
          "sex_act_present": 0,
          "survived": 0
         },
         {
          "gender_female": 0,
          "gender_male": 1,
          "index": 184,
          "sex_act_absent": 1,
          "sex_act_present": 0,
          "survived": 0
         },
         {
          "gender_female": 0,
          "gender_male": 1,
          "index": 185,
          "sex_act_absent": 1,
          "sex_act_present": 0,
          "survived": 0
         },
         {
          "gender_female": 0,
          "gender_male": 1,
          "index": 186,
          "sex_act_absent": 1,
          "sex_act_present": 0,
          "survived": 0
         },
         {
          "gender_female": 0,
          "gender_male": 1,
          "index": 187,
          "sex_act_absent": 1,
          "sex_act_present": 0,
          "survived": 0
         },
         {
          "gender_female": 0,
          "gender_male": 1,
          "index": 188,
          "sex_act_absent": 1,
          "sex_act_present": 0,
          "survived": 0
         },
         {
          "gender_female": 0,
          "gender_male": 1,
          "index": 189,
          "sex_act_absent": 1,
          "sex_act_present": 0,
          "survived": 0
         },
         {
          "gender_female": 0,
          "gender_male": 1,
          "index": 190,
          "sex_act_absent": 1,
          "sex_act_present": 0,
          "survived": 0
         },
         {
          "gender_female": 0,
          "gender_male": 1,
          "index": 191,
          "sex_act_absent": 1,
          "sex_act_present": 0,
          "survived": 0
         },
         {
          "gender_female": 0,
          "gender_male": 1,
          "index": 192,
          "sex_act_absent": 1,
          "sex_act_present": 0,
          "survived": 0
         },
         {
          "gender_female": 0,
          "gender_male": 1,
          "index": 193,
          "sex_act_absent": 1,
          "sex_act_present": 0,
          "survived": 0
         },
         {
          "gender_female": 0,
          "gender_male": 1,
          "index": 194,
          "sex_act_absent": 1,
          "sex_act_present": 0,
          "survived": 0
         },
         {
          "gender_female": 0,
          "gender_male": 1,
          "index": 195,
          "sex_act_absent": 1,
          "sex_act_present": 0,
          "survived": 0
         },
         {
          "gender_female": 0,
          "gender_male": 1,
          "index": 196,
          "sex_act_absent": 1,
          "sex_act_present": 0,
          "survived": 0
         },
         {
          "gender_female": 0,
          "gender_male": 1,
          "index": 197,
          "sex_act_absent": 1,
          "sex_act_present": 0,
          "survived": 0
         },
         {
          "gender_female": 0,
          "gender_male": 1,
          "index": 198,
          "sex_act_absent": 1,
          "sex_act_present": 0,
          "survived": 0
         },
         {
          "gender_female": 0,
          "gender_male": 1,
          "index": 199,
          "sex_act_absent": 1,
          "sex_act_present": 0,
          "survived": 0
         },
         {
          "gender_female": 0,
          "gender_male": 1,
          "index": 200,
          "sex_act_absent": 1,
          "sex_act_present": 0,
          "survived": 0
         },
         {
          "gender_female": 0,
          "gender_male": 1,
          "index": 201,
          "sex_act_absent": 1,
          "sex_act_present": 0,
          "survived": 0
         },
         {
          "gender_female": 0,
          "gender_male": 1,
          "index": 202,
          "sex_act_absent": 1,
          "sex_act_present": 0,
          "survived": 0
         },
         {
          "gender_female": 0,
          "gender_male": 1,
          "index": 203,
          "sex_act_absent": 1,
          "sex_act_present": 0,
          "survived": 0
         },
         {
          "gender_female": 0,
          "gender_male": 1,
          "index": 204,
          "sex_act_absent": 1,
          "sex_act_present": 0,
          "survived": 0
         },
         {
          "gender_female": 0,
          "gender_male": 1,
          "index": 205,
          "sex_act_absent": 1,
          "sex_act_present": 0,
          "survived": 0
         },
         {
          "gender_female": 0,
          "gender_male": 1,
          "index": 206,
          "sex_act_absent": 1,
          "sex_act_present": 0,
          "survived": 0
         },
         {
          "gender_female": 0,
          "gender_male": 1,
          "index": 207,
          "sex_act_absent": 1,
          "sex_act_present": 0,
          "survived": 0
         },
         {
          "gender_female": 0,
          "gender_male": 1,
          "index": 208,
          "sex_act_absent": 1,
          "sex_act_present": 0,
          "survived": 0
         },
         {
          "gender_female": 0,
          "gender_male": 1,
          "index": 209,
          "sex_act_absent": 1,
          "sex_act_present": 0,
          "survived": 0
         },
         {
          "gender_female": 0,
          "gender_male": 1,
          "index": 210,
          "sex_act_absent": 1,
          "sex_act_present": 0,
          "survived": 0
         },
         {
          "gender_female": 0,
          "gender_male": 1,
          "index": 211,
          "sex_act_absent": 1,
          "sex_act_present": 0,
          "survived": 0
         },
         {
          "gender_female": 0,
          "gender_male": 1,
          "index": 212,
          "sex_act_absent": 1,
          "sex_act_present": 0,
          "survived": 0
         },
         {
          "gender_female": 0,
          "gender_male": 1,
          "index": 213,
          "sex_act_absent": 1,
          "sex_act_present": 0,
          "survived": 0
         },
         {
          "gender_female": 0,
          "gender_male": 1,
          "index": 214,
          "sex_act_absent": 1,
          "sex_act_present": 0,
          "survived": 0
         },
         {
          "gender_female": 0,
          "gender_male": 1,
          "index": 215,
          "sex_act_absent": 1,
          "sex_act_present": 0,
          "survived": 0
         },
         {
          "gender_female": 0,
          "gender_male": 1,
          "index": 216,
          "sex_act_absent": 1,
          "sex_act_present": 0,
          "survived": 0
         },
         {
          "gender_female": 0,
          "gender_male": 1,
          "index": 217,
          "sex_act_absent": 1,
          "sex_act_present": 0,
          "survived": 0
         },
         {
          "gender_female": 0,
          "gender_male": 1,
          "index": 218,
          "sex_act_absent": 1,
          "sex_act_present": 0,
          "survived": 0
         },
         {
          "gender_female": 0,
          "gender_male": 1,
          "index": 219,
          "sex_act_absent": 1,
          "sex_act_present": 0,
          "survived": 0
         },
         {
          "gender_female": 0,
          "gender_male": 1,
          "index": 220,
          "sex_act_absent": 1,
          "sex_act_present": 0,
          "survived": 0
         },
         {
          "gender_female": 0,
          "gender_male": 1,
          "index": 221,
          "sex_act_absent": 1,
          "sex_act_present": 0,
          "survived": 0
         },
         {
          "gender_female": 1,
          "gender_male": 0,
          "index": 222,
          "sex_act_absent": 0,
          "sex_act_present": 1,
          "survived": 1
         },
         {
          "gender_female": 1,
          "gender_male": 0,
          "index": 223,
          "sex_act_absent": 0,
          "sex_act_present": 1,
          "survived": 1
         },
         {
          "gender_female": 1,
          "gender_male": 0,
          "index": 224,
          "sex_act_absent": 0,
          "sex_act_present": 1,
          "survived": 1
         },
         {
          "gender_female": 1,
          "gender_male": 0,
          "index": 225,
          "sex_act_absent": 0,
          "sex_act_present": 1,
          "survived": 1
         },
         {
          "gender_female": 1,
          "gender_male": 0,
          "index": 226,
          "sex_act_absent": 0,
          "sex_act_present": 1,
          "survived": 1
         },
         {
          "gender_female": 1,
          "gender_male": 0,
          "index": 227,
          "sex_act_absent": 0,
          "sex_act_present": 1,
          "survived": 1
         },
         {
          "gender_female": 1,
          "gender_male": 0,
          "index": 228,
          "sex_act_absent": 0,
          "sex_act_present": 1,
          "survived": 1
         },
         {
          "gender_female": 1,
          "gender_male": 0,
          "index": 229,
          "sex_act_absent": 0,
          "sex_act_present": 1,
          "survived": 0
         },
         {
          "gender_female": 1,
          "gender_male": 0,
          "index": 230,
          "sex_act_absent": 0,
          "sex_act_present": 1,
          "survived": 0
         },
         {
          "gender_female": 1,
          "gender_male": 0,
          "index": 231,
          "sex_act_absent": 0,
          "sex_act_present": 1,
          "survived": 0
         },
         {
          "gender_female": 1,
          "gender_male": 0,
          "index": 232,
          "sex_act_absent": 0,
          "sex_act_present": 1,
          "survived": 0
         },
         {
          "gender_female": 1,
          "gender_male": 0,
          "index": 233,
          "sex_act_absent": 0,
          "sex_act_present": 1,
          "survived": 0
         },
         {
          "gender_female": 1,
          "gender_male": 0,
          "index": 234,
          "sex_act_absent": 0,
          "sex_act_present": 1,
          "survived": 0
         },
         {
          "gender_female": 1,
          "gender_male": 0,
          "index": 235,
          "sex_act_absent": 0,
          "sex_act_present": 1,
          "survived": 0
         },
         {
          "gender_female": 1,
          "gender_male": 0,
          "index": 236,
          "sex_act_absent": 0,
          "sex_act_present": 1,
          "survived": 0
         },
         {
          "gender_female": 1,
          "gender_male": 0,
          "index": 237,
          "sex_act_absent": 0,
          "sex_act_present": 1,
          "survived": 0
         },
         {
          "gender_female": 1,
          "gender_male": 0,
          "index": 238,
          "sex_act_absent": 0,
          "sex_act_present": 1,
          "survived": 0
         },
         {
          "gender_female": 1,
          "gender_male": 0,
          "index": 239,
          "sex_act_absent": 0,
          "sex_act_present": 1,
          "survived": 0
         },
         {
          "gender_female": 1,
          "gender_male": 0,
          "index": 240,
          "sex_act_absent": 0,
          "sex_act_present": 1,
          "survived": 0
         },
         {
          "gender_female": 1,
          "gender_male": 0,
          "index": 241,
          "sex_act_absent": 0,
          "sex_act_present": 1,
          "survived": 0
         },
         {
          "gender_female": 1,
          "gender_male": 0,
          "index": 242,
          "sex_act_absent": 0,
          "sex_act_present": 1,
          "survived": 0
         },
         {
          "gender_female": 1,
          "gender_male": 0,
          "index": 243,
          "sex_act_absent": 0,
          "sex_act_present": 1,
          "survived": 0
         },
         {
          "gender_female": 1,
          "gender_male": 0,
          "index": 244,
          "sex_act_absent": 0,
          "sex_act_present": 1,
          "survived": 0
         },
         {
          "gender_female": 1,
          "gender_male": 0,
          "index": 245,
          "sex_act_absent": 0,
          "sex_act_present": 1,
          "survived": 0
         },
         {
          "gender_female": 1,
          "gender_male": 0,
          "index": 246,
          "sex_act_absent": 0,
          "sex_act_present": 1,
          "survived": 0
         },
         {
          "gender_female": 1,
          "gender_male": 0,
          "index": 247,
          "sex_act_absent": 0,
          "sex_act_present": 1,
          "survived": 0
         },
         {
          "gender_female": 1,
          "gender_male": 0,
          "index": 248,
          "sex_act_absent": 0,
          "sex_act_present": 1,
          "survived": 0
         },
         {
          "gender_female": 1,
          "gender_male": 0,
          "index": 249,
          "sex_act_absent": 0,
          "sex_act_present": 1,
          "survived": 0
         },
         {
          "gender_female": 1,
          "gender_male": 0,
          "index": 250,
          "sex_act_absent": 0,
          "sex_act_present": 1,
          "survived": 0
         },
         {
          "gender_female": 1,
          "gender_male": 0,
          "index": 251,
          "sex_act_absent": 0,
          "sex_act_present": 1,
          "survived": 0
         },
         {
          "gender_female": 1,
          "gender_male": 0,
          "index": 252,
          "sex_act_absent": 0,
          "sex_act_present": 1,
          "survived": 0
         },
         {
          "gender_female": 1,
          "gender_male": 0,
          "index": 253,
          "sex_act_absent": 0,
          "sex_act_present": 1,
          "survived": 0
         },
         {
          "gender_female": 1,
          "gender_male": 0,
          "index": 254,
          "sex_act_absent": 0,
          "sex_act_present": 1,
          "survived": 0
         },
         {
          "gender_female": 1,
          "gender_male": 0,
          "index": 255,
          "sex_act_absent": 0,
          "sex_act_present": 1,
          "survived": 0
         },
         {
          "gender_female": 1,
          "gender_male": 0,
          "index": 256,
          "sex_act_absent": 0,
          "sex_act_present": 1,
          "survived": 0
         },
         {
          "gender_female": 1,
          "gender_male": 0,
          "index": 257,
          "sex_act_absent": 0,
          "sex_act_present": 1,
          "survived": 0
         },
         {
          "gender_female": 1,
          "gender_male": 0,
          "index": 258,
          "sex_act_absent": 0,
          "sex_act_present": 1,
          "survived": 0
         },
         {
          "gender_female": 1,
          "gender_male": 0,
          "index": 259,
          "sex_act_absent": 0,
          "sex_act_present": 1,
          "survived": 0
         },
         {
          "gender_female": 1,
          "gender_male": 0,
          "index": 260,
          "sex_act_absent": 0,
          "sex_act_present": 1,
          "survived": 0
         },
         {
          "gender_female": 1,
          "gender_male": 0,
          "index": 261,
          "sex_act_absent": 0,
          "sex_act_present": 1,
          "survived": 0
         },
         {
          "gender_female": 1,
          "gender_male": 0,
          "index": 262,
          "sex_act_absent": 0,
          "sex_act_present": 1,
          "survived": 0
         },
         {
          "gender_female": 1,
          "gender_male": 0,
          "index": 263,
          "sex_act_absent": 0,
          "sex_act_present": 1,
          "survived": 0
         },
         {
          "gender_female": 1,
          "gender_male": 0,
          "index": 264,
          "sex_act_absent": 0,
          "sex_act_present": 1,
          "survived": 0
         },
         {
          "gender_female": 1,
          "gender_male": 0,
          "index": 265,
          "sex_act_absent": 0,
          "sex_act_present": 1,
          "survived": 0
         },
         {
          "gender_female": 1,
          "gender_male": 0,
          "index": 266,
          "sex_act_absent": 0,
          "sex_act_present": 1,
          "survived": 0
         },
         {
          "gender_female": 1,
          "gender_male": 0,
          "index": 267,
          "sex_act_absent": 0,
          "sex_act_present": 1,
          "survived": 0
         },
         {
          "gender_female": 1,
          "gender_male": 0,
          "index": 268,
          "sex_act_absent": 0,
          "sex_act_present": 1,
          "survived": 0
         },
         {
          "gender_female": 1,
          "gender_male": 0,
          "index": 269,
          "sex_act_absent": 0,
          "sex_act_present": 1,
          "survived": 0
         },
         {
          "gender_female": 1,
          "gender_male": 0,
          "index": 270,
          "sex_act_absent": 0,
          "sex_act_present": 1,
          "survived": 0
         },
         {
          "gender_female": 1,
          "gender_male": 0,
          "index": 271,
          "sex_act_absent": 0,
          "sex_act_present": 1,
          "survived": 0
         },
         {
          "gender_female": 1,
          "gender_male": 0,
          "index": 272,
          "sex_act_absent": 0,
          "sex_act_present": 1,
          "survived": 0
         },
         {
          "gender_female": 1,
          "gender_male": 0,
          "index": 273,
          "sex_act_absent": 0,
          "sex_act_present": 1,
          "survived": 0
         },
         {
          "gender_female": 1,
          "gender_male": 0,
          "index": 274,
          "sex_act_absent": 0,
          "sex_act_present": 1,
          "survived": 0
         },
         {
          "gender_female": 1,
          "gender_male": 0,
          "index": 275,
          "sex_act_absent": 0,
          "sex_act_present": 1,
          "survived": 0
         },
         {
          "gender_female": 1,
          "gender_male": 0,
          "index": 276,
          "sex_act_absent": 0,
          "sex_act_present": 1,
          "survived": 0
         },
         {
          "gender_female": 1,
          "gender_male": 0,
          "index": 277,
          "sex_act_absent": 0,
          "sex_act_present": 1,
          "survived": 0
         },
         {
          "gender_female": 1,
          "gender_male": 0,
          "index": 278,
          "sex_act_absent": 0,
          "sex_act_present": 1,
          "survived": 0
         },
         {
          "gender_female": 1,
          "gender_male": 0,
          "index": 279,
          "sex_act_absent": 0,
          "sex_act_present": 1,
          "survived": 0
         },
         {
          "gender_female": 1,
          "gender_male": 0,
          "index": 280,
          "sex_act_absent": 0,
          "sex_act_present": 1,
          "survived": 0
         },
         {
          "gender_female": 1,
          "gender_male": 0,
          "index": 281,
          "sex_act_absent": 0,
          "sex_act_present": 1,
          "survived": 0
         },
         {
          "gender_female": 1,
          "gender_male": 0,
          "index": 282,
          "sex_act_absent": 0,
          "sex_act_present": 1,
          "survived": 0
         },
         {
          "gender_female": 1,
          "gender_male": 0,
          "index": 283,
          "sex_act_absent": 0,
          "sex_act_present": 1,
          "survived": 0
         },
         {
          "gender_female": 1,
          "gender_male": 0,
          "index": 284,
          "sex_act_absent": 0,
          "sex_act_present": 1,
          "survived": 0
         },
         {
          "gender_female": 1,
          "gender_male": 0,
          "index": 285,
          "sex_act_absent": 0,
          "sex_act_present": 1,
          "survived": 0
         },
         {
          "gender_female": 1,
          "gender_male": 0,
          "index": 286,
          "sex_act_absent": 0,
          "sex_act_present": 1,
          "survived": 0
         },
         {
          "gender_female": 1,
          "gender_male": 0,
          "index": 287,
          "sex_act_absent": 0,
          "sex_act_present": 1,
          "survived": 0
         },
         {
          "gender_female": 1,
          "gender_male": 0,
          "index": 288,
          "sex_act_absent": 0,
          "sex_act_present": 1,
          "survived": 0
         },
         {
          "gender_female": 1,
          "gender_male": 0,
          "index": 289,
          "sex_act_absent": 0,
          "sex_act_present": 1,
          "survived": 0
         },
         {
          "gender_female": 1,
          "gender_male": 0,
          "index": 290,
          "sex_act_absent": 0,
          "sex_act_present": 1,
          "survived": 0
         },
         {
          "gender_female": 1,
          "gender_male": 0,
          "index": 291,
          "sex_act_absent": 0,
          "sex_act_present": 1,
          "survived": 0
         },
         {
          "gender_female": 1,
          "gender_male": 0,
          "index": 292,
          "sex_act_absent": 0,
          "sex_act_present": 1,
          "survived": 0
         },
         {
          "gender_female": 1,
          "gender_male": 0,
          "index": 293,
          "sex_act_absent": 0,
          "sex_act_present": 1,
          "survived": 0
         },
         {
          "gender_female": 1,
          "gender_male": 0,
          "index": 294,
          "sex_act_absent": 0,
          "sex_act_present": 1,
          "survived": 0
         },
         {
          "gender_female": 1,
          "gender_male": 0,
          "index": 295,
          "sex_act_absent": 0,
          "sex_act_present": 1,
          "survived": 0
         },
         {
          "gender_female": 1,
          "gender_male": 0,
          "index": 296,
          "sex_act_absent": 1,
          "sex_act_present": 0,
          "survived": 1
         },
         {
          "gender_female": 1,
          "gender_male": 0,
          "index": 297,
          "sex_act_absent": 1,
          "sex_act_present": 0,
          "survived": 1
         },
         {
          "gender_female": 1,
          "gender_male": 0,
          "index": 298,
          "sex_act_absent": 1,
          "sex_act_present": 0,
          "survived": 1
         },
         {
          "gender_female": 1,
          "gender_male": 0,
          "index": 299,
          "sex_act_absent": 1,
          "sex_act_present": 0,
          "survived": 1
         },
         {
          "gender_female": 1,
          "gender_male": 0,
          "index": 300,
          "sex_act_absent": 1,
          "sex_act_present": 0,
          "survived": 1
         },
         {
          "gender_female": 1,
          "gender_male": 0,
          "index": 301,
          "sex_act_absent": 1,
          "sex_act_present": 0,
          "survived": 1
         },
         {
          "gender_female": 1,
          "gender_male": 0,
          "index": 302,
          "sex_act_absent": 1,
          "sex_act_present": 0,
          "survived": 1
         },
         {
          "gender_female": 1,
          "gender_male": 0,
          "index": 303,
          "sex_act_absent": 1,
          "sex_act_present": 0,
          "survived": 1
         },
         {
          "gender_female": 1,
          "gender_male": 0,
          "index": 304,
          "sex_act_absent": 1,
          "sex_act_present": 0,
          "survived": 1
         },
         {
          "gender_female": 1,
          "gender_male": 0,
          "index": 305,
          "sex_act_absent": 1,
          "sex_act_present": 0,
          "survived": 1
         },
         {
          "gender_female": 1,
          "gender_male": 0,
          "index": 306,
          "sex_act_absent": 1,
          "sex_act_present": 0,
          "survived": 1
         },
         {
          "gender_female": 1,
          "gender_male": 0,
          "index": 307,
          "sex_act_absent": 1,
          "sex_act_present": 0,
          "survived": 1
         },
         {
          "gender_female": 1,
          "gender_male": 0,
          "index": 308,
          "sex_act_absent": 1,
          "sex_act_present": 0,
          "survived": 1
         },
         {
          "gender_female": 1,
          "gender_male": 0,
          "index": 309,
          "sex_act_absent": 1,
          "sex_act_present": 0,
          "survived": 1
         },
         {
          "gender_female": 1,
          "gender_male": 0,
          "index": 310,
          "sex_act_absent": 1,
          "sex_act_present": 0,
          "survived": 1
         },
         {
          "gender_female": 1,
          "gender_male": 0,
          "index": 311,
          "sex_act_absent": 1,
          "sex_act_present": 0,
          "survived": 1
         },
         {
          "gender_female": 1,
          "gender_male": 0,
          "index": 312,
          "sex_act_absent": 1,
          "sex_act_present": 0,
          "survived": 1
         },
         {
          "gender_female": 1,
          "gender_male": 0,
          "index": 313,
          "sex_act_absent": 1,
          "sex_act_present": 0,
          "survived": 1
         },
         {
          "gender_female": 1,
          "gender_male": 0,
          "index": 314,
          "sex_act_absent": 1,
          "sex_act_present": 0,
          "survived": 1
         },
         {
          "gender_female": 1,
          "gender_male": 0,
          "index": 315,
          "sex_act_absent": 1,
          "sex_act_present": 0,
          "survived": 1
         },
         {
          "gender_female": 1,
          "gender_male": 0,
          "index": 316,
          "sex_act_absent": 1,
          "sex_act_present": 0,
          "survived": 1
         },
         {
          "gender_female": 1,
          "gender_male": 0,
          "index": 317,
          "sex_act_absent": 1,
          "sex_act_present": 0,
          "survived": 1
         },
         {
          "gender_female": 1,
          "gender_male": 0,
          "index": 318,
          "sex_act_absent": 1,
          "sex_act_present": 0,
          "survived": 1
         },
         {
          "gender_female": 1,
          "gender_male": 0,
          "index": 319,
          "sex_act_absent": 1,
          "sex_act_present": 0,
          "survived": 1
         },
         {
          "gender_female": 1,
          "gender_male": 0,
          "index": 320,
          "sex_act_absent": 1,
          "sex_act_present": 0,
          "survived": 1
         },
         {
          "gender_female": 1,
          "gender_male": 0,
          "index": 321,
          "sex_act_absent": 1,
          "sex_act_present": 0,
          "survived": 1
         },
         {
          "gender_female": 1,
          "gender_male": 0,
          "index": 322,
          "sex_act_absent": 1,
          "sex_act_present": 0,
          "survived": 1
         },
         {
          "gender_female": 1,
          "gender_male": 0,
          "index": 323,
          "sex_act_absent": 1,
          "sex_act_present": 0,
          "survived": 1
         },
         {
          "gender_female": 1,
          "gender_male": 0,
          "index": 324,
          "sex_act_absent": 1,
          "sex_act_present": 0,
          "survived": 0
         },
         {
          "gender_female": 1,
          "gender_male": 0,
          "index": 325,
          "sex_act_absent": 1,
          "sex_act_present": 0,
          "survived": 0
         },
         {
          "gender_female": 1,
          "gender_male": 0,
          "index": 326,
          "sex_act_absent": 1,
          "sex_act_present": 0,
          "survived": 0
         },
         {
          "gender_female": 1,
          "gender_male": 0,
          "index": 327,
          "sex_act_absent": 1,
          "sex_act_present": 0,
          "survived": 0
         },
         {
          "gender_female": 1,
          "gender_male": 0,
          "index": 328,
          "sex_act_absent": 1,
          "sex_act_present": 0,
          "survived": 0
         },
         {
          "gender_female": 1,
          "gender_male": 0,
          "index": 329,
          "sex_act_absent": 1,
          "sex_act_present": 0,
          "survived": 0
         },
         {
          "gender_female": 1,
          "gender_male": 0,
          "index": 330,
          "sex_act_absent": 1,
          "sex_act_present": 0,
          "survived": 0
         },
         {
          "gender_female": 1,
          "gender_male": 0,
          "index": 331,
          "sex_act_absent": 1,
          "sex_act_present": 0,
          "survived": 0
         },
         {
          "gender_female": 1,
          "gender_male": 0,
          "index": 332,
          "sex_act_absent": 1,
          "sex_act_present": 0,
          "survived": 0
         },
         {
          "gender_female": 1,
          "gender_male": 0,
          "index": 333,
          "sex_act_absent": 1,
          "sex_act_present": 0,
          "survived": 0
         },
         {
          "gender_female": 1,
          "gender_male": 0,
          "index": 334,
          "sex_act_absent": 1,
          "sex_act_present": 0,
          "survived": 0
         },
         {
          "gender_female": 1,
          "gender_male": 0,
          "index": 335,
          "sex_act_absent": 1,
          "sex_act_present": 0,
          "survived": 0
         },
         {
          "gender_female": 1,
          "gender_male": 0,
          "index": 336,
          "sex_act_absent": 1,
          "sex_act_present": 0,
          "survived": 0
         },
         {
          "gender_female": 1,
          "gender_male": 0,
          "index": 337,
          "sex_act_absent": 1,
          "sex_act_present": 0,
          "survived": 0
         },
         {
          "gender_female": 1,
          "gender_male": 0,
          "index": 338,
          "sex_act_absent": 1,
          "sex_act_present": 0,
          "survived": 0
         },
         {
          "gender_female": 1,
          "gender_male": 0,
          "index": 339,
          "sex_act_absent": 1,
          "sex_act_present": 0,
          "survived": 0
         },
         {
          "gender_female": 1,
          "gender_male": 0,
          "index": 340,
          "sex_act_absent": 1,
          "sex_act_present": 0,
          "survived": 0
         },
         {
          "gender_female": 1,
          "gender_male": 0,
          "index": 341,
          "sex_act_absent": 1,
          "sex_act_present": 0,
          "survived": 0
         },
         {
          "gender_female": 1,
          "gender_male": 0,
          "index": 342,
          "sex_act_absent": 1,
          "sex_act_present": 0,
          "survived": 0
         },
         {
          "gender_female": 1,
          "gender_male": 0,
          "index": 343,
          "sex_act_absent": 1,
          "sex_act_present": 0,
          "survived": 0
         },
         {
          "gender_female": 1,
          "gender_male": 0,
          "index": 344,
          "sex_act_absent": 1,
          "sex_act_present": 0,
          "survived": 0
         },
         {
          "gender_female": 1,
          "gender_male": 0,
          "index": 345,
          "sex_act_absent": 1,
          "sex_act_present": 0,
          "survived": 0
         },
         {
          "gender_female": 1,
          "gender_male": 0,
          "index": 346,
          "sex_act_absent": 1,
          "sex_act_present": 0,
          "survived": 0
         },
         {
          "gender_female": 1,
          "gender_male": 0,
          "index": 347,
          "sex_act_absent": 1,
          "sex_act_present": 0,
          "survived": 0
         },
         {
          "gender_female": 1,
          "gender_male": 0,
          "index": 348,
          "sex_act_absent": 1,
          "sex_act_present": 0,
          "survived": 0
         },
         {
          "gender_female": 1,
          "gender_male": 0,
          "index": 349,
          "sex_act_absent": 1,
          "sex_act_present": 0,
          "survived": 0
         },
         {
          "gender_female": 1,
          "gender_male": 0,
          "index": 350,
          "sex_act_absent": 1,
          "sex_act_present": 0,
          "survived": 0
         },
         {
          "gender_female": 1,
          "gender_male": 0,
          "index": 351,
          "sex_act_absent": 1,
          "sex_act_present": 0,
          "survived": 0
         },
         {
          "gender_female": 1,
          "gender_male": 0,
          "index": 352,
          "sex_act_absent": 1,
          "sex_act_present": 0,
          "survived": 0
         },
         {
          "gender_female": 1,
          "gender_male": 0,
          "index": 353,
          "sex_act_absent": 1,
          "sex_act_present": 0,
          "survived": 0
         },
         {
          "gender_female": 1,
          "gender_male": 0,
          "index": 354,
          "sex_act_absent": 1,
          "sex_act_present": 0,
          "survived": 0
         },
         {
          "gender_female": 1,
          "gender_male": 0,
          "index": 355,
          "sex_act_absent": 1,
          "sex_act_present": 0,
          "survived": 0
         },
         {
          "gender_female": 1,
          "gender_male": 0,
          "index": 356,
          "sex_act_absent": 1,
          "sex_act_present": 0,
          "survived": 0
         },
         {
          "gender_female": 1,
          "gender_male": 0,
          "index": 357,
          "sex_act_absent": 1,
          "sex_act_present": 0,
          "survived": 0
         },
         {
          "gender_female": 1,
          "gender_male": 0,
          "index": 358,
          "sex_act_absent": 1,
          "sex_act_present": 0,
          "survived": 0
         },
         {
          "gender_female": 1,
          "gender_male": 0,
          "index": 359,
          "sex_act_absent": 1,
          "sex_act_present": 0,
          "survived": 0
         },
         {
          "gender_female": 1,
          "gender_male": 0,
          "index": 360,
          "sex_act_absent": 1,
          "sex_act_present": 0,
          "survived": 0
         },
         {
          "gender_female": 1,
          "gender_male": 0,
          "index": 361,
          "sex_act_absent": 1,
          "sex_act_present": 0,
          "survived": 0
         },
         {
          "gender_female": 1,
          "gender_male": 0,
          "index": 362,
          "sex_act_absent": 1,
          "sex_act_present": 0,
          "survived": 0
         },
         {
          "gender_female": 1,
          "gender_male": 0,
          "index": 363,
          "sex_act_absent": 1,
          "sex_act_present": 0,
          "survived": 0
         },
         {
          "gender_female": 1,
          "gender_male": 0,
          "index": 364,
          "sex_act_absent": 1,
          "sex_act_present": 0,
          "survived": 0
         },
         {
          "gender_female": 1,
          "gender_male": 0,
          "index": 365,
          "sex_act_absent": 1,
          "sex_act_present": 0,
          "survived": 0
         },
         {
          "gender_female": 1,
          "gender_male": 0,
          "index": 366,
          "sex_act_absent": 1,
          "sex_act_present": 0,
          "survived": 0
         },
         {
          "gender_female": 1,
          "gender_male": 0,
          "index": 367,
          "sex_act_absent": 1,
          "sex_act_present": 0,
          "survived": 0
         },
         {
          "gender_female": 1,
          "gender_male": 0,
          "index": 368,
          "sex_act_absent": 1,
          "sex_act_present": 0,
          "survived": 0
         },
         {
          "gender_female": 1,
          "gender_male": 0,
          "index": 369,
          "sex_act_absent": 1,
          "sex_act_present": 0,
          "survived": 0
         },
         {
          "gender_female": 1,
          "gender_male": 0,
          "index": 370,
          "sex_act_absent": 1,
          "sex_act_present": 0,
          "survived": 0
         },
         {
          "gender_female": 1,
          "gender_male": 0,
          "index": 371,
          "sex_act_absent": 1,
          "sex_act_present": 0,
          "survived": 0
         },
         {
          "gender_female": 1,
          "gender_male": 0,
          "index": 372,
          "sex_act_absent": 1,
          "sex_act_present": 0,
          "survived": 0
         },
         {
          "gender_female": 1,
          "gender_male": 0,
          "index": 373,
          "sex_act_absent": 1,
          "sex_act_present": 0,
          "survived": 0
         },
         {
          "gender_female": 1,
          "gender_male": 0,
          "index": 374,
          "sex_act_absent": 1,
          "sex_act_present": 0,
          "survived": 0
         },
         {
          "gender_female": 1,
          "gender_male": 0,
          "index": 375,
          "sex_act_absent": 1,
          "sex_act_present": 0,
          "survived": 0
         },
         {
          "gender_female": 1,
          "gender_male": 0,
          "index": 376,
          "sex_act_absent": 1,
          "sex_act_present": 0,
          "survived": 0
         },
         {
          "gender_female": 1,
          "gender_male": 0,
          "index": 377,
          "sex_act_absent": 1,
          "sex_act_present": 0,
          "survived": 0
         },
         {
          "gender_female": 1,
          "gender_male": 0,
          "index": 378,
          "sex_act_absent": 1,
          "sex_act_present": 0,
          "survived": 0
         },
         {
          "gender_female": 1,
          "gender_male": 0,
          "index": 379,
          "sex_act_absent": 1,
          "sex_act_present": 0,
          "survived": 0
         },
         {
          "gender_female": 1,
          "gender_male": 0,
          "index": 380,
          "sex_act_absent": 1,
          "sex_act_present": 0,
          "survived": 0
         },
         {
          "gender_female": 1,
          "gender_male": 0,
          "index": 381,
          "sex_act_absent": 1,
          "sex_act_present": 0,
          "survived": 0
         },
         {
          "gender_female": 1,
          "gender_male": 0,
          "index": 382,
          "sex_act_absent": 1,
          "sex_act_present": 0,
          "survived": 0
         },
         {
          "gender_female": 1,
          "gender_male": 0,
          "index": 383,
          "sex_act_absent": 1,
          "sex_act_present": 0,
          "survived": 0
         },
         {
          "gender_female": 1,
          "gender_male": 0,
          "index": 384,
          "sex_act_absent": 1,
          "sex_act_present": 0,
          "survived": 0
         },
         {
          "gender_female": 1,
          "gender_male": 0,
          "index": 385,
          "sex_act_absent": 1,
          "sex_act_present": 0,
          "survived": 0
         },
         {
          "gender_female": 1,
          "gender_male": 0,
          "index": 386,
          "sex_act_absent": 1,
          "sex_act_present": 0,
          "survived": 0
         },
         {
          "gender_female": 1,
          "gender_male": 0,
          "index": 387,
          "sex_act_absent": 1,
          "sex_act_present": 0,
          "survived": 0
         },
         {
          "gender_female": 1,
          "gender_male": 0,
          "index": 388,
          "sex_act_absent": 1,
          "sex_act_present": 0,
          "survived": 0
         },
         {
          "gender_female": 1,
          "gender_male": 0,
          "index": 389,
          "sex_act_absent": 1,
          "sex_act_present": 0,
          "survived": 0
         },
         {
          "gender_female": 1,
          "gender_male": 0,
          "index": 390,
          "sex_act_absent": 1,
          "sex_act_present": 0,
          "survived": 0
         },
         {
          "gender_female": 1,
          "gender_male": 0,
          "index": 391,
          "sex_act_absent": 1,
          "sex_act_present": 0,
          "survived": 0
         },
         {
          "gender_female": 1,
          "gender_male": 0,
          "index": 392,
          "sex_act_absent": 1,
          "sex_act_present": 0,
          "survived": 0
         },
         {
          "gender_female": 1,
          "gender_male": 0,
          "index": 393,
          "sex_act_absent": 1,
          "sex_act_present": 0,
          "survived": 0
         },
         {
          "gender_female": 1,
          "gender_male": 0,
          "index": 394,
          "sex_act_absent": 1,
          "sex_act_present": 0,
          "survived": 0
         },
         {
          "gender_female": 1,
          "gender_male": 0,
          "index": 395,
          "sex_act_absent": 1,
          "sex_act_present": 0,
          "survived": 0
         },
         {
          "gender_female": 1,
          "gender_male": 0,
          "index": 396,
          "sex_act_absent": 1,
          "sex_act_present": 0,
          "survived": 0
         },
         {
          "gender_female": 1,
          "gender_male": 0,
          "index": 397,
          "sex_act_absent": 1,
          "sex_act_present": 0,
          "survived": 0
         },
         {
          "gender_female": 1,
          "gender_male": 0,
          "index": 398,
          "sex_act_absent": 1,
          "sex_act_present": 0,
          "survived": 0
         },
         {
          "gender_female": 1,
          "gender_male": 0,
          "index": 399,
          "sex_act_absent": 1,
          "sex_act_present": 0,
          "survived": 0
         },
         {
          "gender_female": 1,
          "gender_male": 0,
          "index": 400,
          "sex_act_absent": 1,
          "sex_act_present": 0,
          "survived": 0
         },
         {
          "gender_female": 1,
          "gender_male": 0,
          "index": 401,
          "sex_act_absent": 1,
          "sex_act_present": 0,
          "survived": 0
         },
         {
          "gender_female": 1,
          "gender_male": 0,
          "index": 402,
          "sex_act_absent": 1,
          "sex_act_present": 0,
          "survived": 0
         },
         {
          "gender_female": 1,
          "gender_male": 0,
          "index": 403,
          "sex_act_absent": 1,
          "sex_act_present": 0,
          "survived": 0
         },
         {
          "gender_female": 1,
          "gender_male": 0,
          "index": 404,
          "sex_act_absent": 1,
          "sex_act_present": 0,
          "survived": 0
         },
         {
          "gender_female": 1,
          "gender_male": 0,
          "index": 405,
          "sex_act_absent": 1,
          "sex_act_present": 0,
          "survived": 0
         },
         {
          "gender_female": 1,
          "gender_male": 0,
          "index": 406,
          "sex_act_absent": 1,
          "sex_act_present": 0,
          "survived": 0
         },
         {
          "gender_female": 1,
          "gender_male": 0,
          "index": 407,
          "sex_act_absent": 1,
          "sex_act_present": 0,
          "survived": 0
         },
         {
          "gender_female": 1,
          "gender_male": 0,
          "index": 408,
          "sex_act_absent": 1,
          "sex_act_present": 0,
          "survived": 0
         },
         {
          "gender_female": 1,
          "gender_male": 0,
          "index": 409,
          "sex_act_absent": 1,
          "sex_act_present": 0,
          "survived": 0
         },
         {
          "gender_female": 1,
          "gender_male": 0,
          "index": 410,
          "sex_act_absent": 1,
          "sex_act_present": 0,
          "survived": 0
         },
         {
          "gender_female": 1,
          "gender_male": 0,
          "index": 411,
          "sex_act_absent": 1,
          "sex_act_present": 0,
          "survived": 0
         },
         {
          "gender_female": 1,
          "gender_male": 0,
          "index": 412,
          "sex_act_absent": 1,
          "sex_act_present": 0,
          "survived": 0
         },
         {
          "gender_female": 1,
          "gender_male": 0,
          "index": 413,
          "sex_act_absent": 1,
          "sex_act_present": 0,
          "survived": 0
         },
         {
          "gender_female": 1,
          "gender_male": 0,
          "index": 414,
          "sex_act_absent": 1,
          "sex_act_present": 0,
          "survived": 0
         },
         {
          "gender_female": 1,
          "gender_male": 0,
          "index": 415,
          "sex_act_absent": 1,
          "sex_act_present": 0,
          "survived": 0
         },
         {
          "gender_female": 1,
          "gender_male": 0,
          "index": 416,
          "sex_act_absent": 1,
          "sex_act_present": 0,
          "survived": 0
         },
         {
          "gender_female": 1,
          "gender_male": 0,
          "index": 417,
          "sex_act_absent": 1,
          "sex_act_present": 0,
          "survived": 0
         },
         {
          "gender_female": 1,
          "gender_male": 0,
          "index": 418,
          "sex_act_absent": 1,
          "sex_act_present": 0,
          "survived": 0
         },
         {
          "gender_female": 1,
          "gender_male": 0,
          "index": 419,
          "sex_act_absent": 1,
          "sex_act_present": 0,
          "survived": 0
         },
         {
          "gender_female": 1,
          "gender_male": 0,
          "index": 420,
          "sex_act_absent": 1,
          "sex_act_present": 0,
          "survived": 0
         },
         {
          "gender_female": 1,
          "gender_male": 0,
          "index": 421,
          "sex_act_absent": 1,
          "sex_act_present": 0,
          "survived": 0
         },
         {
          "gender_female": 1,
          "gender_male": 0,
          "index": 422,
          "sex_act_absent": 1,
          "sex_act_present": 0,
          "survived": 0
         },
         {
          "gender_female": 1,
          "gender_male": 0,
          "index": 423,
          "sex_act_absent": 1,
          "sex_act_present": 0,
          "survived": 0
         },
         {
          "gender_female": 1,
          "gender_male": 0,
          "index": 424,
          "sex_act_absent": 1,
          "sex_act_present": 0,
          "survived": 0
         },
         {
          "gender_female": 1,
          "gender_male": 0,
          "index": 425,
          "sex_act_absent": 1,
          "sex_act_present": 0,
          "survived": 0
         },
         {
          "gender_female": 1,
          "gender_male": 0,
          "index": 426,
          "sex_act_absent": 1,
          "sex_act_present": 0,
          "survived": 0
         },
         {
          "gender_female": 1,
          "gender_male": 0,
          "index": 427,
          "sex_act_absent": 1,
          "sex_act_present": 0,
          "survived": 0
         },
         {
          "gender_female": 1,
          "gender_male": 0,
          "index": 428,
          "sex_act_absent": 1,
          "sex_act_present": 0,
          "survived": 0
         },
         {
          "gender_female": 1,
          "gender_male": 0,
          "index": 429,
          "sex_act_absent": 1,
          "sex_act_present": 0,
          "survived": 0
         },
         {
          "gender_female": 1,
          "gender_male": 0,
          "index": 430,
          "sex_act_absent": 1,
          "sex_act_present": 0,
          "survived": 0
         },
         {
          "gender_female": 1,
          "gender_male": 0,
          "index": 431,
          "sex_act_absent": 1,
          "sex_act_present": 0,
          "survived": 0
         },
         {
          "gender_female": 1,
          "gender_male": 0,
          "index": 432,
          "sex_act_absent": 1,
          "sex_act_present": 0,
          "survived": 0
         },
         {
          "gender_female": 1,
          "gender_male": 0,
          "index": 433,
          "sex_act_absent": 1,
          "sex_act_present": 0,
          "survived": 0
         },
         {
          "gender_female": 1,
          "gender_male": 0,
          "index": 434,
          "sex_act_absent": 1,
          "sex_act_present": 0,
          "survived": 0
         },
         {
          "gender_female": 1,
          "gender_male": 0,
          "index": 435,
          "sex_act_absent": 1,
          "sex_act_present": 0,
          "survived": 0
         },
         {
          "gender_female": 1,
          "gender_male": 0,
          "index": 436,
          "sex_act_absent": 1,
          "sex_act_present": 0,
          "survived": 0
         },
         {
          "gender_female": 1,
          "gender_male": 0,
          "index": 437,
          "sex_act_absent": 1,
          "sex_act_present": 0,
          "survived": 0
         },
         {
          "gender_female": 1,
          "gender_male": 0,
          "index": 438,
          "sex_act_absent": 1,
          "sex_act_present": 0,
          "survived": 0
         },
         {
          "gender_female": 1,
          "gender_male": 0,
          "index": 439,
          "sex_act_absent": 1,
          "sex_act_present": 0,
          "survived": 0
         },
         {
          "gender_female": 1,
          "gender_male": 0,
          "index": 440,
          "sex_act_absent": 1,
          "sex_act_present": 0,
          "survived": 0
         },
         {
          "gender_female": 1,
          "gender_male": 0,
          "index": 441,
          "sex_act_absent": 1,
          "sex_act_present": 0,
          "survived": 0
         },
         {
          "gender_female": 1,
          "gender_male": 0,
          "index": 442,
          "sex_act_absent": 1,
          "sex_act_present": 0,
          "survived": 0
         },
         {
          "gender_female": 1,
          "gender_male": 0,
          "index": 443,
          "sex_act_absent": 1,
          "sex_act_present": 0,
          "survived": 0
         },
         {
          "gender_female": 1,
          "gender_male": 0,
          "index": 444,
          "sex_act_absent": 1,
          "sex_act_present": 0,
          "survived": 0
         },
         {
          "gender_female": 1,
          "gender_male": 0,
          "index": 445,
          "sex_act_absent": 1,
          "sex_act_present": 0,
          "survived": 0
         },
         {
          "gender_female": 1,
          "gender_male": 0,
          "index": 446,
          "sex_act_absent": 1,
          "sex_act_present": 0,
          "survived": 0
         },
         {
          "gender_female": 1,
          "gender_male": 0,
          "index": 447,
          "sex_act_absent": 1,
          "sex_act_present": 0,
          "survived": 0
         },
         {
          "gender_female": 1,
          "gender_male": 0,
          "index": 448,
          "sex_act_absent": 1,
          "sex_act_present": 0,
          "survived": 0
         },
         {
          "gender_female": 1,
          "gender_male": 0,
          "index": 449,
          "sex_act_absent": 1,
          "sex_act_present": 0,
          "survived": 0
         },
         {
          "gender_female": 1,
          "gender_male": 0,
          "index": 450,
          "sex_act_absent": 1,
          "sex_act_present": 0,
          "survived": 0
         },
         {
          "gender_female": 1,
          "gender_male": 0,
          "index": 451,
          "sex_act_absent": 1,
          "sex_act_present": 0,
          "survived": 0
         },
         {
          "gender_female": 1,
          "gender_male": 0,
          "index": 452,
          "sex_act_absent": 1,
          "sex_act_present": 0,
          "survived": 0
         },
         {
          "gender_female": 1,
          "gender_male": 0,
          "index": 453,
          "sex_act_absent": 1,
          "sex_act_present": 0,
          "survived": 0
         },
         {
          "gender_female": 1,
          "gender_male": 0,
          "index": 454,
          "sex_act_absent": 1,
          "sex_act_present": 0,
          "survived": 0
         },
         {
          "gender_female": 1,
          "gender_male": 0,
          "index": 455,
          "sex_act_absent": 1,
          "sex_act_present": 0,
          "survived": 0
         },
         {
          "gender_female": 1,
          "gender_male": 0,
          "index": 456,
          "sex_act_absent": 1,
          "sex_act_present": 0,
          "survived": 0
         },
         {
          "gender_female": 1,
          "gender_male": 0,
          "index": 457,
          "sex_act_absent": 1,
          "sex_act_present": 0,
          "survived": 0
         },
         {
          "gender_female": 1,
          "gender_male": 0,
          "index": 458,
          "sex_act_absent": 1,
          "sex_act_present": 0,
          "survived": 0
         },
         {
          "gender_female": 1,
          "gender_male": 0,
          "index": 459,
          "sex_act_absent": 1,
          "sex_act_present": 0,
          "survived": 0
         },
         {
          "gender_female": 1,
          "gender_male": 0,
          "index": 460,
          "sex_act_absent": 1,
          "sex_act_present": 0,
          "survived": 0
         },
         {
          "gender_female": 1,
          "gender_male": 0,
          "index": 461,
          "sex_act_absent": 1,
          "sex_act_present": 0,
          "survived": 0
         },
         {
          "gender_female": 1,
          "gender_male": 0,
          "index": 462,
          "sex_act_absent": 1,
          "sex_act_present": 0,
          "survived": 0
         },
         {
          "gender_female": 1,
          "gender_male": 0,
          "index": 463,
          "sex_act_absent": 1,
          "sex_act_present": 0,
          "survived": 0
         },
         {
          "gender_female": 1,
          "gender_male": 0,
          "index": 464,
          "sex_act_absent": 1,
          "sex_act_present": 0,
          "survived": 0
         },
         {
          "gender_female": 1,
          "gender_male": 0,
          "index": 465,
          "sex_act_absent": 1,
          "sex_act_present": 0,
          "survived": 0
         },
         {
          "gender_female": 1,
          "gender_male": 0,
          "index": 466,
          "sex_act_absent": 1,
          "sex_act_present": 0,
          "survived": 0
         },
         {
          "gender_female": 1,
          "gender_male": 0,
          "index": 467,
          "sex_act_absent": 1,
          "sex_act_present": 0,
          "survived": 0
         },
         {
          "gender_female": 1,
          "gender_male": 0,
          "index": 468,
          "sex_act_absent": 1,
          "sex_act_present": 0,
          "survived": 0
         },
         {
          "gender_female": 1,
          "gender_male": 0,
          "index": 469,
          "sex_act_absent": 1,
          "sex_act_present": 0,
          "survived": 0
         },
         {
          "gender_female": 1,
          "gender_male": 0,
          "index": 470,
          "sex_act_absent": 1,
          "sex_act_present": 0,
          "survived": 0
         },
         {
          "gender_female": 1,
          "gender_male": 0,
          "index": 471,
          "sex_act_absent": 1,
          "sex_act_present": 0,
          "survived": 0
         },
         {
          "gender_female": 1,
          "gender_male": 0,
          "index": 472,
          "sex_act_absent": 1,
          "sex_act_present": 0,
          "survived": 0
         },
         {
          "gender_female": 1,
          "gender_male": 0,
          "index": 473,
          "sex_act_absent": 1,
          "sex_act_present": 0,
          "survived": 0
         },
         {
          "gender_female": 1,
          "gender_male": 0,
          "index": 474,
          "sex_act_absent": 1,
          "sex_act_present": 0,
          "survived": 0
         },
         {
          "gender_female": 1,
          "gender_male": 0,
          "index": 475,
          "sex_act_absent": 1,
          "sex_act_present": 0,
          "survived": 0
         },
         {
          "gender_female": 1,
          "gender_male": 0,
          "index": 476,
          "sex_act_absent": 1,
          "sex_act_present": 0,
          "survived": 0
         },
         {
          "gender_female": 1,
          "gender_male": 0,
          "index": 477,
          "sex_act_absent": 1,
          "sex_act_present": 0,
          "survived": 0
         },
         {
          "gender_female": 1,
          "gender_male": 0,
          "index": 478,
          "sex_act_absent": 1,
          "sex_act_present": 0,
          "survived": 0
         },
         {
          "gender_female": 1,
          "gender_male": 0,
          "index": 479,
          "sex_act_absent": 1,
          "sex_act_present": 0,
          "survived": 0
         },
         {
          "gender_female": 1,
          "gender_male": 0,
          "index": 480,
          "sex_act_absent": 1,
          "sex_act_present": 0,
          "survived": 0
         },
         {
          "gender_female": 1,
          "gender_male": 0,
          "index": 481,
          "sex_act_absent": 1,
          "sex_act_present": 0,
          "survived": 0
         },
         {
          "gender_female": 1,
          "gender_male": 0,
          "index": 482,
          "sex_act_absent": 1,
          "sex_act_present": 0,
          "survived": 0
         },
         {
          "gender_female": 1,
          "gender_male": 0,
          "index": 483,
          "sex_act_absent": 1,
          "sex_act_present": 0,
          "survived": 0
         },
         {
          "gender_female": 1,
          "gender_male": 0,
          "index": 484,
          "sex_act_absent": 1,
          "sex_act_present": 0,
          "survived": 0
         }
        ],
        "schema": {
         "fields": [
          {
           "name": "index",
           "type": "integer"
          },
          {
           "name": "survived",
           "type": "integer"
          },
          {
           "name": "gender_female",
           "type": "integer"
          },
          {
           "name": "gender_male",
           "type": "integer"
          },
          {
           "name": "sex_act_absent",
           "type": "integer"
          },
          {
           "name": "sex_act_present",
           "type": "integer"
          }
         ],
         "pandas_version": "0.20.0",
         "primaryKey": [
          "index"
         ]
        }
       },
       "total_rows": 485
      },
      "text/html": [
       "<div>\n",
       "<style scoped>\n",
       "    .dataframe tbody tr th:only-of-type {\n",
       "        vertical-align: middle;\n",
       "    }\n",
       "\n",
       "    .dataframe tbody tr th {\n",
       "        vertical-align: top;\n",
       "    }\n",
       "\n",
       "    .dataframe thead th {\n",
       "        text-align: right;\n",
       "    }\n",
       "</style>\n",
       "<table border=\"1\" class=\"dataframe\">\n",
       "  <thead>\n",
       "    <tr style=\"text-align: right;\">\n",
       "      <th></th>\n",
       "      <th>survived</th>\n",
       "      <th>gender_female</th>\n",
       "      <th>gender_male</th>\n",
       "      <th>sex_act_absent</th>\n",
       "      <th>sex_act_present</th>\n",
       "    </tr>\n",
       "  </thead>\n",
       "  <tbody>\n",
       "    <tr>\n",
       "      <th>0</th>\n",
       "      <td>1</td>\n",
       "      <td>0</td>\n",
       "      <td>1</td>\n",
       "      <td>0</td>\n",
       "      <td>1</td>\n",
       "    </tr>\n",
       "    <tr>\n",
       "      <th>1</th>\n",
       "      <td>1</td>\n",
       "      <td>0</td>\n",
       "      <td>1</td>\n",
       "      <td>0</td>\n",
       "      <td>1</td>\n",
       "    </tr>\n",
       "    <tr>\n",
       "      <th>2</th>\n",
       "      <td>1</td>\n",
       "      <td>0</td>\n",
       "      <td>1</td>\n",
       "      <td>0</td>\n",
       "      <td>1</td>\n",
       "    </tr>\n",
       "    <tr>\n",
       "      <th>3</th>\n",
       "      <td>1</td>\n",
       "      <td>0</td>\n",
       "      <td>1</td>\n",
       "      <td>0</td>\n",
       "      <td>1</td>\n",
       "    </tr>\n",
       "    <tr>\n",
       "      <th>4</th>\n",
       "      <td>1</td>\n",
       "      <td>0</td>\n",
       "      <td>1</td>\n",
       "      <td>0</td>\n",
       "      <td>1</td>\n",
       "    </tr>\n",
       "    <tr>\n",
       "      <th>...</th>\n",
       "      <td>...</td>\n",
       "      <td>...</td>\n",
       "      <td>...</td>\n",
       "      <td>...</td>\n",
       "      <td>...</td>\n",
       "    </tr>\n",
       "    <tr>\n",
       "      <th>480</th>\n",
       "      <td>0</td>\n",
       "      <td>1</td>\n",
       "      <td>0</td>\n",
       "      <td>1</td>\n",
       "      <td>0</td>\n",
       "    </tr>\n",
       "    <tr>\n",
       "      <th>481</th>\n",
       "      <td>0</td>\n",
       "      <td>1</td>\n",
       "      <td>0</td>\n",
       "      <td>1</td>\n",
       "      <td>0</td>\n",
       "    </tr>\n",
       "    <tr>\n",
       "      <th>482</th>\n",
       "      <td>0</td>\n",
       "      <td>1</td>\n",
       "      <td>0</td>\n",
       "      <td>1</td>\n",
       "      <td>0</td>\n",
       "    </tr>\n",
       "    <tr>\n",
       "      <th>483</th>\n",
       "      <td>0</td>\n",
       "      <td>1</td>\n",
       "      <td>0</td>\n",
       "      <td>1</td>\n",
       "      <td>0</td>\n",
       "    </tr>\n",
       "    <tr>\n",
       "      <th>484</th>\n",
       "      <td>0</td>\n",
       "      <td>1</td>\n",
       "      <td>0</td>\n",
       "      <td>1</td>\n",
       "      <td>0</td>\n",
       "    </tr>\n",
       "  </tbody>\n",
       "</table>\n",
       "<p>485 rows × 5 columns</p>\n",
       "</div>"
      ],
      "text/plain": [
       "     survived  gender_female  gender_male  sex_act_absent  sex_act_present\n",
       "0           1              0            1               0                1\n",
       "1           1              0            1               0                1\n",
       "2           1              0            1               0                1\n",
       "3           1              0            1               0                1\n",
       "4           1              0            1               0                1\n",
       "..        ...            ...          ...             ...              ...\n",
       "480         0              1            0               1                0\n",
       "481         0              1            0               1                0\n",
       "482         0              1            0               1                0\n",
       "483         0              1            0               1                0\n",
       "484         0              1            0               1                0\n",
       "\n",
       "[485 rows x 5 columns]"
      ]
     },
     "execution_count": 3,
     "metadata": {},
     "output_type": "execute_result"
    }
   ],
   "source": [
    "slash_dum = pd.get_dummies(slash)\n",
    "slash_dum"
   ]
  },
  {
   "cell_type": "markdown",
   "id": "0f1d6472-9268-4f27-bbdb-7873f55fc064",
   "metadata": {},
   "source": [
    "## Splitting into response and explanatory columns"
   ]
  },
  {
   "cell_type": "code",
   "execution_count": null,
   "id": "889a1d0a-9406-45f9-94cc-5a0db63c47e2",
   "metadata": {},
   "outputs": [],
   "source": [
    "response = slash_dum[\"survived\"]\n",
    "explanatory = slash_dum.drop(columns=\"survived\")"
   ]
  },
  {
   "cell_type": "markdown",
   "id": "5fca0c20-b53b-471e-8c97-2cbc11436f55",
   "metadata": {},
   "source": [
    "## Splitting into training and testing sets"
   ]
  },
  {
   "cell_type": "markdown",
   "id": "137ff4be-8048-4620-b810-2961bea44a4d",
   "metadata": {},
   "source": [
    "The explanatory and response datasets need to be split into training and testing sets. \n",
    "\n",
    "Here we'll use [`train_test_split()`](https://scikit-learn.org/stable/modules/generated/sklearn.model_selection.train_test_split.html) with the default arguments."
   ]
  },
  {
   "cell_type": "code",
   "execution_count": null,
   "id": "d35e0fd8-ed6f-4044-a8ec-fec41e31a97f",
   "metadata": {},
   "outputs": [],
   "source": [
    "explanatory_train, explanatory_test, response_train, response_test = train_test_split(explanatory, response)"
   ]
  },
  {
   "cell_type": "markdown",
   "id": "e4eac5af-22fa-4057-905f-358ae30ffb95",
   "metadata": {},
   "source": [
    "## Fitting the model to the training set"
   ]
  },
  {
   "cell_type": "markdown",
   "id": "9608e334-e4f0-4801-9e1c-02e5cda2904a",
   "metadata": {},
   "source": [
    "The data is now ready to model. The first modeling step is to create a `LogisticRegression` object.\n",
    "\n",
    "Note that scikit-learn uses regularization (a technique for minimizing the effect of less important parameters) by default. This is a controversial default, so to use standard logistic regression, you need to set `penalty=\"none\"`."
   ]
  },
  {
   "cell_type": "code",
   "execution_count": null,
   "id": "db9727ae-a505-4e00-9f22-f31832c4d2fd",
   "metadata": {},
   "outputs": [],
   "source": [
    "mdl = LogisticRegression(penalty=\"none\")"
   ]
  },
  {
   "cell_type": "markdown",
   "id": "2714cedd-1d75-433e-96b7-12c915acc1f6",
   "metadata": {},
   "source": [
    "Use the [`.fit()`](https://scikit-learn.org/stable/modules/generated/sklearn.linear_model.LogisticRegression.html#sklearn.linear_model.LogisticRegression.fit) method to fit the model to the training set."
   ]
  },
  {
   "cell_type": "code",
   "execution_count": null,
   "id": "44b714ef-b46f-4e9e-8001-4a2a3e9a8d57",
   "metadata": {},
   "outputs": [
    {
     "data": {
      "text/plain": [
       "LogisticRegression(penalty='none')"
      ]
     },
     "execution_count": 7,
     "metadata": {},
     "output_type": "execute_result"
    }
   ],
   "source": [
    "mdl.fit(explanatory_train, response_train)"
   ]
  },
  {
   "cell_type": "code",
   "execution_count": null,
   "id": "0734e5bb-cd7a-4366-a38d-b2d42822155a",
   "metadata": {},
   "outputs": [
    {
     "data": {
      "application/com.datacamp.data-table.v1+json": {
       "is_truncated": false,
       "table": {
        "data": [
         {
          "actual": 0,
          "index": 445,
          "predicted": 0
         },
         {
          "actual": 0,
          "index": 372,
          "predicted": 0
         },
         {
          "actual": 0,
          "index": 387,
          "predicted": 0
         },
         {
          "actual": 1,
          "index": 296,
          "predicted": 0
         },
         {
          "actual": 1,
          "index": 298,
          "predicted": 0
         },
         {
          "actual": 1,
          "index": 115,
          "predicted": 0
         },
         {
          "actual": 0,
          "index": 132,
          "predicted": 0
         },
         {
          "actual": 0,
          "index": 181,
          "predicted": 0
         },
         {
          "actual": 0,
          "index": 232,
          "predicted": 0
         },
         {
          "actual": 0,
          "index": 381,
          "predicted": 0
         },
         {
          "actual": 0,
          "index": 394,
          "predicted": 0
         },
         {
          "actual": 0,
          "index": 479,
          "predicted": 0
         },
         {
          "actual": 0,
          "index": 260,
          "predicted": 0
         },
         {
          "actual": 0,
          "index": 139,
          "predicted": 0
         },
         {
          "actual": 0,
          "index": 252,
          "predicted": 0
         },
         {
          "actual": 1,
          "index": 103,
          "predicted": 0
         },
         {
          "actual": 0,
          "index": 261,
          "predicted": 0
         },
         {
          "actual": 0,
          "index": 235,
          "predicted": 0
         },
         {
          "actual": 0,
          "index": 289,
          "predicted": 0
         },
         {
          "actual": 0,
          "index": 278,
          "predicted": 0
         },
         {
          "actual": 0,
          "index": 326,
          "predicted": 0
         },
         {
          "actual": 0,
          "index": 397,
          "predicted": 0
         },
         {
          "actual": 0,
          "index": 337,
          "predicted": 0
         },
         {
          "actual": 0,
          "index": 197,
          "predicted": 0
         },
         {
          "actual": 1,
          "index": 119,
          "predicted": 0
         },
         {
          "actual": 0,
          "index": 405,
          "predicted": 0
         },
         {
          "actual": 0,
          "index": 124,
          "predicted": 0
         },
         {
          "actual": 0,
          "index": 231,
          "predicted": 0
         },
         {
          "actual": 0,
          "index": 204,
          "predicted": 0
         },
         {
          "actual": 0,
          "index": 78,
          "predicted": 0
         },
         {
          "actual": 0,
          "index": 53,
          "predicted": 0
         },
         {
          "actual": 0,
          "index": 34,
          "predicted": 0
         },
         {
          "actual": 0,
          "index": 154,
          "predicted": 0
         },
         {
          "actual": 0,
          "index": 384,
          "predicted": 0
         },
         {
          "actual": 0,
          "index": 415,
          "predicted": 0
         },
         {
          "actual": 0,
          "index": 292,
          "predicted": 0
         },
         {
          "actual": 0,
          "index": 218,
          "predicted": 0
         },
         {
          "actual": 0,
          "index": 442,
          "predicted": 0
         },
         {
          "actual": 0,
          "index": 243,
          "predicted": 0
         },
         {
          "actual": 0,
          "index": 424,
          "predicted": 0
         },
         {
          "actual": 1,
          "index": 312,
          "predicted": 0
         },
         {
          "actual": 0,
          "index": 457,
          "predicted": 0
         },
         {
          "actual": 0,
          "index": 193,
          "predicted": 0
         },
         {
          "actual": 0,
          "index": 258,
          "predicted": 0
         },
         {
          "actual": 0,
          "index": 75,
          "predicted": 0
         },
         {
          "actual": 0,
          "index": 31,
          "predicted": 0
         },
         {
          "actual": 0,
          "index": 129,
          "predicted": 0
         },
         {
          "actual": 0,
          "index": 191,
          "predicted": 0
         },
         {
          "actual": 0,
          "index": 158,
          "predicted": 0
         },
         {
          "actual": 0,
          "index": 390,
          "predicted": 0
         },
         {
          "actual": 0,
          "index": 249,
          "predicted": 0
         },
         {
          "actual": 1,
          "index": 3,
          "predicted": 0
         },
         {
          "actual": 0,
          "index": 373,
          "predicted": 0
         },
         {
          "actual": 0,
          "index": 358,
          "predicted": 0
         },
         {
          "actual": 0,
          "index": 184,
          "predicted": 0
         },
         {
          "actual": 0,
          "index": 291,
          "predicted": 0
         },
         {
          "actual": 0,
          "index": 458,
          "predicted": 0
         },
         {
          "actual": 0,
          "index": 167,
          "predicted": 0
         },
         {
          "actual": 0,
          "index": 437,
          "predicted": 0
         },
         {
          "actual": 1,
          "index": 319,
          "predicted": 0
         },
         {
          "actual": 0,
          "index": 146,
          "predicted": 0
         },
         {
          "actual": 0,
          "index": 411,
          "predicted": 0
         },
         {
          "actual": 0,
          "index": 431,
          "predicted": 0
         },
         {
          "actual": 0,
          "index": 469,
          "predicted": 0
         },
         {
          "actual": 0,
          "index": 69,
          "predicted": 0
         },
         {
          "actual": 0,
          "index": 203,
          "predicted": 0
         },
         {
          "actual": 0,
          "index": 456,
          "predicted": 0
         },
         {
          "actual": 1,
          "index": 306,
          "predicted": 0
         },
         {
          "actual": 0,
          "index": 452,
          "predicted": 0
         },
         {
          "actual": 0,
          "index": 391,
          "predicted": 0
         },
         {
          "actual": 0,
          "index": 443,
          "predicted": 0
         },
         {
          "actual": 1,
          "index": 7,
          "predicted": 0
         },
         {
          "actual": 0,
          "index": 446,
          "predicted": 0
         },
         {
          "actual": 1,
          "index": 307,
          "predicted": 0
         },
         {
          "actual": 0,
          "index": 26,
          "predicted": 0
         },
         {
          "actual": 0,
          "index": 45,
          "predicted": 0
         },
         {
          "actual": 0,
          "index": 137,
          "predicted": 0
         },
         {
          "actual": 0,
          "index": 188,
          "predicted": 0
         },
         {
          "actual": 0,
          "index": 427,
          "predicted": 0
         },
         {
          "actual": 0,
          "index": 396,
          "predicted": 0
         },
         {
          "actual": 0,
          "index": 141,
          "predicted": 0
         },
         {
          "actual": 1,
          "index": 117,
          "predicted": 0
         },
         {
          "actual": 1,
          "index": 88,
          "predicted": 0
         },
         {
          "actual": 1,
          "index": 97,
          "predicted": 0
         },
         {
          "actual": 0,
          "index": 253,
          "predicted": 0
         },
         {
          "actual": 0,
          "index": 189,
          "predicted": 0
         },
         {
          "actual": 0,
          "index": 234,
          "predicted": 0
         },
         {
          "actual": 0,
          "index": 388,
          "predicted": 0
         },
         {
          "actual": 0,
          "index": 24,
          "predicted": 0
         },
         {
          "actual": 0,
          "index": 329,
          "predicted": 0
         },
         {
          "actual": 0,
          "index": 468,
          "predicted": 0
         },
         {
          "actual": 0,
          "index": 461,
          "predicted": 0
         },
         {
          "actual": 0,
          "index": 22,
          "predicted": 0
         },
         {
          "actual": 0,
          "index": 331,
          "predicted": 0
         },
         {
          "actual": 0,
          "index": 17,
          "predicted": 0
         },
         {
          "actual": 0,
          "index": 242,
          "predicted": 0
         },
         {
          "actual": 0,
          "index": 168,
          "predicted": 0
         },
         {
          "actual": 0,
          "index": 284,
          "predicted": 0
         },
         {
          "actual": 0,
          "index": 58,
          "predicted": 0
         },
         {
          "actual": 0,
          "index": 276,
          "predicted": 0
         },
         {
          "actual": 0,
          "index": 400,
          "predicted": 0
         },
         {
          "actual": 0,
          "index": 359,
          "predicted": 0
         },
         {
          "actual": 0,
          "index": 257,
          "predicted": 0
         },
         {
          "actual": 0,
          "index": 214,
          "predicted": 0
         },
         {
          "actual": 0,
          "index": 275,
          "predicted": 0
         },
         {
          "actual": 0,
          "index": 194,
          "predicted": 0
         },
         {
          "actual": 0,
          "index": 80,
          "predicted": 0
         },
         {
          "actual": 1,
          "index": 302,
          "predicted": 0
         },
         {
          "actual": 0,
          "index": 410,
          "predicted": 0
         },
         {
          "actual": 0,
          "index": 403,
          "predicted": 0
         },
         {
          "actual": 0,
          "index": 386,
          "predicted": 0
         },
         {
          "actual": 0,
          "index": 247,
          "predicted": 0
         },
         {
          "actual": 0,
          "index": 330,
          "predicted": 0
         },
         {
          "actual": 0,
          "index": 236,
          "predicted": 0
         },
         {
          "actual": 0,
          "index": 362,
          "predicted": 0
         },
         {
          "actual": 0,
          "index": 432,
          "predicted": 0
         },
         {
          "actual": 1,
          "index": 299,
          "predicted": 0
         },
         {
          "actual": 1,
          "index": 323,
          "predicted": 0
         },
         {
          "actual": 1,
          "index": 109,
          "predicted": 0
         },
         {
          "actual": 1,
          "index": 108,
          "predicted": 0
         },
         {
          "actual": 0,
          "index": 482,
          "predicted": 0
         },
         {
          "actual": 0,
          "index": 11,
          "predicted": 0
         }
        ],
        "schema": {
         "fields": [
          {
           "name": "index",
           "type": "integer"
          },
          {
           "name": "actual",
           "type": "integer"
          },
          {
           "name": "predicted",
           "type": "integer"
          }
         ],
         "pandas_version": "0.20.0",
         "primaryKey": [
          "index"
         ]
        }
       },
       "total_rows": 122
      },
      "text/html": [
       "<div>\n",
       "<style scoped>\n",
       "    .dataframe tbody tr th:only-of-type {\n",
       "        vertical-align: middle;\n",
       "    }\n",
       "\n",
       "    .dataframe tbody tr th {\n",
       "        vertical-align: top;\n",
       "    }\n",
       "\n",
       "    .dataframe thead th {\n",
       "        text-align: right;\n",
       "    }\n",
       "</style>\n",
       "<table border=\"1\" class=\"dataframe\">\n",
       "  <thead>\n",
       "    <tr style=\"text-align: right;\">\n",
       "      <th></th>\n",
       "      <th>actual</th>\n",
       "      <th>predicted</th>\n",
       "    </tr>\n",
       "  </thead>\n",
       "  <tbody>\n",
       "    <tr>\n",
       "      <th>445</th>\n",
       "      <td>0</td>\n",
       "      <td>0</td>\n",
       "    </tr>\n",
       "    <tr>\n",
       "      <th>372</th>\n",
       "      <td>0</td>\n",
       "      <td>0</td>\n",
       "    </tr>\n",
       "    <tr>\n",
       "      <th>387</th>\n",
       "      <td>0</td>\n",
       "      <td>0</td>\n",
       "    </tr>\n",
       "    <tr>\n",
       "      <th>296</th>\n",
       "      <td>1</td>\n",
       "      <td>0</td>\n",
       "    </tr>\n",
       "    <tr>\n",
       "      <th>298</th>\n",
       "      <td>1</td>\n",
       "      <td>0</td>\n",
       "    </tr>\n",
       "    <tr>\n",
       "      <th>...</th>\n",
       "      <td>...</td>\n",
       "      <td>...</td>\n",
       "    </tr>\n",
       "    <tr>\n",
       "      <th>323</th>\n",
       "      <td>1</td>\n",
       "      <td>0</td>\n",
       "    </tr>\n",
       "    <tr>\n",
       "      <th>109</th>\n",
       "      <td>1</td>\n",
       "      <td>0</td>\n",
       "    </tr>\n",
       "    <tr>\n",
       "      <th>108</th>\n",
       "      <td>1</td>\n",
       "      <td>0</td>\n",
       "    </tr>\n",
       "    <tr>\n",
       "      <th>482</th>\n",
       "      <td>0</td>\n",
       "      <td>0</td>\n",
       "    </tr>\n",
       "    <tr>\n",
       "      <th>11</th>\n",
       "      <td>0</td>\n",
       "      <td>0</td>\n",
       "    </tr>\n",
       "  </tbody>\n",
       "</table>\n",
       "<p>122 rows × 2 columns</p>\n",
       "</div>"
      ],
      "text/plain": [
       "     actual  predicted\n",
       "445       0          0\n",
       "372       0          0\n",
       "387       0          0\n",
       "296       1          0\n",
       "298       1          0\n",
       "..      ...        ...\n",
       "323       1          0\n",
       "109       1          0\n",
       "108       1          0\n",
       "482       0          0\n",
       "11        0          0\n",
       "\n",
       "[122 rows x 2 columns]"
      ]
     },
     "execution_count": 8,
     "metadata": {},
     "output_type": "execute_result"
    }
   ],
   "source": [
    "responses = pd.DataFrame({\n",
    "    \"actual\": response_test,\n",
    "    \"predicted\": mdl.predict(explanatory_test)\n",
    "})\n",
    "responses"
   ]
  },
  {
   "cell_type": "code",
   "execution_count": null,
   "id": "072b2ba9-aeb1-4d54-8924-e68bac7d1d51",
   "metadata": {},
   "outputs": [
    {
     "data": {
      "text/plain": [
       "actual  predicted\n",
       "0       0            103\n",
       "1       0             19\n",
       "dtype: int64"
      ]
     },
     "execution_count": 9,
     "metadata": {},
     "output_type": "execute_result"
    }
   ],
   "source": [
    "responses.value_counts()"
   ]
  },
  {
   "cell_type": "code",
   "execution_count": null,
   "id": "1f0fc8fc-a85b-47f5-9848-aa3521de398e",
   "metadata": {},
   "outputs": [
    {
     "data": {
      "text/plain": [
       "gender  sex_act  survived\n",
       "female  absent   0           161\n",
       "male    absent   0           100\n",
       "        present  0            72\n",
       "female  present  0            67\n",
       "male    absent   1            39\n",
       "female  absent   1            28\n",
       "male    present  1            11\n",
       "female  present  1             7\n",
       "dtype: int64"
      ]
     },
     "execution_count": 10,
     "metadata": {},
     "output_type": "execute_result"
    }
   ],
   "source": [
    "slash.value_counts()"
   ]
  },
  {
   "cell_type": "code",
   "execution_count": null,
   "id": "5f00b4d7-31d5-44d4-a249-122bbe97d475",
   "metadata": {},
   "outputs": [
    {
     "data": {
      "text/plain": [
       "array([[103,   0],\n",
       "       [ 19,   0]])"
      ]
     },
     "execution_count": 11,
     "metadata": {},
     "output_type": "execute_result"
    }
   ],
   "source": [
    "confusion_matrix(responses[\"actual\"], responses[\"predicted\"]) "
   ]
  },
  {
   "cell_type": "code",
   "execution_count": null,
   "id": "4f43417f-b857-422c-9c60-ce6fe9ef1d0f",
   "metadata": {},
   "outputs": [
    {
     "data": {
      "text/plain": [
       "gender_female  gender_male  sex_act_absent  sex_act_present\n",
       "1              0            1               0                  136\n",
       "0              1            1               0                  108\n",
       "                            0               1                   67\n",
       "1              0            0               1                   52\n",
       "dtype: int64"
      ]
     },
     "execution_count": 12,
     "metadata": {},
     "output_type": "execute_result"
    }
   ],
   "source": [
    "explanatory_train.value_counts()"
   ]
  },
  {
   "cell_type": "code",
   "execution_count": null,
   "id": "49fc5920-11a9-4357-b7ce-b4e58fdcbd74",
   "metadata": {},
   "outputs": [
    {
     "data": {
      "text/plain": [
       "0    297\n",
       "1     66\n",
       "Name: survived, dtype: int64"
      ]
     },
     "execution_count": 13,
     "metadata": {},
     "output_type": "execute_result"
    }
   ],
   "source": [
    "response_train.value_counts()"
   ]
  },
  {
   "cell_type": "code",
   "execution_count": null,
   "id": "bf2f4d31-14f8-460f-8f6f-b2022e8bc8fe",
   "metadata": {},
   "outputs": [],
   "source": [
    "from sklearn.preprocessing import OrdinalEncoder"
   ]
  },
  {
   "cell_type": "code",
   "execution_count": null,
   "id": "b4c77b6a-3680-40dd-b0a4-caf76454ba26",
   "metadata": {},
   "outputs": [],
   "source": [
    "oe = OrdinalEncoder()"
   ]
  },
  {
   "cell_type": "code",
   "execution_count": null,
   "id": "a1ed4ab9-6c4a-43ca-bde9-14f1740bccff",
   "metadata": {},
   "outputs": [],
   "source": [
    "response = slash[\"survived\"]\n",
    "explanatory = slash.drop(columns=\"survived\")"
   ]
  },
  {
   "cell_type": "code",
   "execution_count": null,
   "id": "7d0fe1d5-6624-4d7a-a311-7110ec57c732",
   "metadata": {},
   "outputs": [],
   "source": [
    "explanatory_train, explanatory_test, response_train, response_test = train_test_split(explanatory, response)"
   ]
  },
  {
   "cell_type": "code",
   "execution_count": null,
   "id": "212586d2-cbbe-4986-ae85-3e07edc2554b",
   "metadata": {},
   "outputs": [],
   "source": [
    "explanatory_train2 = oe.fit_transform(explanatory_train)"
   ]
  },
  {
   "cell_type": "code",
   "execution_count": null,
   "id": "37b53420-fc68-4fe3-8d45-90734755b4a7",
   "metadata": {},
   "outputs": [],
   "source": [
    "explanatory_test2 = oe.transform(explanatory_test)"
   ]
  },
  {
   "cell_type": "code",
   "execution_count": null,
   "id": "9b106419-07e1-4f86-950d-65f68e036104",
   "metadata": {},
   "outputs": [
    {
     "data": {
      "text/plain": [
       "LogisticRegression(penalty='none')"
      ]
     },
     "execution_count": 20,
     "metadata": {},
     "output_type": "execute_result"
    }
   ],
   "source": [
    "mdl.fit(explanatory_train2, response_train)"
   ]
  },
  {
   "cell_type": "code",
   "execution_count": null,
   "id": "fcc24eaf-930f-4240-9270-542902111d12",
   "metadata": {},
   "outputs": [
    {
     "data": {
      "text/plain": [
       "actual  predicted\n",
       "0       0            101\n",
       "1       0             21\n",
       "dtype: int64"
      ]
     },
     "execution_count": 21,
     "metadata": {},
     "output_type": "execute_result"
    }
   ],
   "source": [
    "responses = pd.DataFrame({\n",
    "    \"actual\": response_test,\n",
    "    \"predicted\": mdl.predict(explanatory_test2)\n",
    "})\n",
    "responses.value_counts()"
   ]
  },
  {
   "cell_type": "code",
   "execution_count": null,
   "id": "4870f57c-8729-49e9-bfac-47b4a1f639d2",
   "metadata": {},
   "outputs": [
    {
     "data": {
      "text/plain": [
       "array([[0.87922383, 0.12077617],\n",
       "       [0.83341757, 0.16658243],\n",
       "       [0.87922383, 0.12077617],\n",
       "       [0.83341757, 0.16658243],\n",
       "       [0.87922383, 0.12077617],\n",
       "       [0.93113971, 0.06886029],\n",
       "       [0.93113971, 0.06886029],\n",
       "       [0.83341757, 0.16658243],\n",
       "       [0.72924896, 0.27075104],\n",
       "       [0.87922383, 0.12077617],\n",
       "       [0.87922383, 0.12077617],\n",
       "       [0.72924896, 0.27075104],\n",
       "       [0.87922383, 0.12077617],\n",
       "       [0.72924896, 0.27075104],\n",
       "       [0.83341757, 0.16658243],\n",
       "       [0.83341757, 0.16658243],\n",
       "       [0.72924896, 0.27075104],\n",
       "       [0.87922383, 0.12077617],\n",
       "       [0.83341757, 0.16658243],\n",
       "       [0.83341757, 0.16658243],\n",
       "       [0.83341757, 0.16658243],\n",
       "       [0.83341757, 0.16658243],\n",
       "       [0.87922383, 0.12077617],\n",
       "       [0.83341757, 0.16658243],\n",
       "       [0.87922383, 0.12077617],\n",
       "       [0.83341757, 0.16658243],\n",
       "       [0.83341757, 0.16658243],\n",
       "       [0.93113971, 0.06886029],\n",
       "       [0.83341757, 0.16658243],\n",
       "       [0.83341757, 0.16658243],\n",
       "       [0.83341757, 0.16658243],\n",
       "       [0.83341757, 0.16658243],\n",
       "       [0.72924896, 0.27075104],\n",
       "       [0.93113971, 0.06886029],\n",
       "       [0.83341757, 0.16658243],\n",
       "       [0.93113971, 0.06886029],\n",
       "       [0.83341757, 0.16658243],\n",
       "       [0.87922383, 0.12077617],\n",
       "       [0.72924896, 0.27075104],\n",
       "       [0.83341757, 0.16658243],\n",
       "       [0.93113971, 0.06886029],\n",
       "       [0.83341757, 0.16658243],\n",
       "       [0.83341757, 0.16658243],\n",
       "       [0.72924896, 0.27075104],\n",
       "       [0.83341757, 0.16658243],\n",
       "       [0.72924896, 0.27075104],\n",
       "       [0.87922383, 0.12077617],\n",
       "       [0.83341757, 0.16658243],\n",
       "       [0.72924896, 0.27075104],\n",
       "       [0.93113971, 0.06886029],\n",
       "       [0.93113971, 0.06886029],\n",
       "       [0.83341757, 0.16658243],\n",
       "       [0.72924896, 0.27075104],\n",
       "       [0.83341757, 0.16658243],\n",
       "       [0.87922383, 0.12077617],\n",
       "       [0.93113971, 0.06886029],\n",
       "       [0.72924896, 0.27075104],\n",
       "       [0.72924896, 0.27075104],\n",
       "       [0.87922383, 0.12077617],\n",
       "       [0.87922383, 0.12077617],\n",
       "       [0.83341757, 0.16658243],\n",
       "       [0.93113971, 0.06886029],\n",
       "       [0.93113971, 0.06886029],\n",
       "       [0.83341757, 0.16658243],\n",
       "       [0.83341757, 0.16658243],\n",
       "       [0.83341757, 0.16658243],\n",
       "       [0.83341757, 0.16658243],\n",
       "       [0.72924896, 0.27075104],\n",
       "       [0.93113971, 0.06886029],\n",
       "       [0.93113971, 0.06886029],\n",
       "       [0.72924896, 0.27075104],\n",
       "       [0.72924896, 0.27075104],\n",
       "       [0.83341757, 0.16658243],\n",
       "       [0.72924896, 0.27075104],\n",
       "       [0.87922383, 0.12077617],\n",
       "       [0.72924896, 0.27075104],\n",
       "       [0.72924896, 0.27075104],\n",
       "       [0.87922383, 0.12077617],\n",
       "       [0.83341757, 0.16658243],\n",
       "       [0.93113971, 0.06886029],\n",
       "       [0.93113971, 0.06886029],\n",
       "       [0.72924896, 0.27075104],\n",
       "       [0.72924896, 0.27075104],\n",
       "       [0.83341757, 0.16658243],\n",
       "       [0.93113971, 0.06886029],\n",
       "       [0.72924896, 0.27075104],\n",
       "       [0.72924896, 0.27075104],\n",
       "       [0.87922383, 0.12077617],\n",
       "       [0.93113971, 0.06886029],\n",
       "       [0.83341757, 0.16658243],\n",
       "       [0.83341757, 0.16658243],\n",
       "       [0.83341757, 0.16658243],\n",
       "       [0.72924896, 0.27075104],\n",
       "       [0.83341757, 0.16658243],\n",
       "       [0.83341757, 0.16658243],\n",
       "       [0.83341757, 0.16658243],\n",
       "       [0.83341757, 0.16658243],\n",
       "       [0.93113971, 0.06886029],\n",
       "       [0.72924896, 0.27075104],\n",
       "       [0.83341757, 0.16658243],\n",
       "       [0.87922383, 0.12077617],\n",
       "       [0.93113971, 0.06886029],\n",
       "       [0.93113971, 0.06886029],\n",
       "       [0.87922383, 0.12077617],\n",
       "       [0.83341757, 0.16658243],\n",
       "       [0.83341757, 0.16658243],\n",
       "       [0.72924896, 0.27075104],\n",
       "       [0.93113971, 0.06886029],\n",
       "       [0.72924896, 0.27075104],\n",
       "       [0.83341757, 0.16658243],\n",
       "       [0.87922383, 0.12077617],\n",
       "       [0.87922383, 0.12077617],\n",
       "       [0.93113971, 0.06886029],\n",
       "       [0.83341757, 0.16658243],\n",
       "       [0.72924896, 0.27075104],\n",
       "       [0.72924896, 0.27075104],\n",
       "       [0.72924896, 0.27075104],\n",
       "       [0.93113971, 0.06886029],\n",
       "       [0.83341757, 0.16658243],\n",
       "       [0.72924896, 0.27075104],\n",
       "       [0.83341757, 0.16658243],\n",
       "       [0.83341757, 0.16658243]])"
      ]
     },
     "execution_count": 24,
     "metadata": {},
     "output_type": "execute_result"
    }
   ],
   "source": [
    "mdl.predict_proba(explanatory_test2)"
   ]
  },
  {
   "cell_type": "code",
   "execution_count": null,
   "id": "1b29d893-bde2-4807-8023-c0dcce1da5c7",
   "metadata": {},
   "outputs": [
    {
     "data": {
      "text/plain": [
       "array([0, 0, 0, 0, 0, 0, 0, 0, 0, 0, 0, 0, 0, 0, 0, 0, 0, 0, 0, 0, 0, 0,\n",
       "       0, 0, 0, 0, 0, 0, 0, 0, 0, 0, 0, 0, 0, 0, 0, 0, 0, 0, 0, 0, 0, 0,\n",
       "       0, 0, 0, 0, 0, 0, 0, 0, 0, 0, 0, 0, 0, 0, 0, 0, 0, 0, 0, 0, 0, 0,\n",
       "       0, 0, 0, 0, 0, 0, 0, 0, 0, 0, 0, 0, 0, 0, 0, 0, 0, 0, 0, 0, 0, 0,\n",
       "       0, 0, 0, 0, 0, 0, 0, 0, 0, 0, 0, 0, 0, 0, 0, 0, 0, 0, 0, 0, 0, 0,\n",
       "       0, 0, 0, 0, 0, 0, 0, 0, 0, 0, 0, 0])"
      ]
     },
     "execution_count": 25,
     "metadata": {},
     "output_type": "execute_result"
    }
   ],
   "source": [
    "mdl.predict(explanatory_test2)"
   ]
  },
  {
   "cell_type": "code",
   "execution_count": null,
   "id": "39239c9d-5fb4-4399-ac51-c48d7ef5b232",
   "metadata": {},
   "outputs": [
    {
     "data": {
      "text/plain": [
       "0.166582    48\n",
       "0.270751    30\n",
       "0.068860    23\n",
       "0.120776    21\n",
       "dtype: int64"
      ]
     },
     "execution_count": 32,
     "metadata": {},
     "output_type": "execute_result"
    }
   ],
   "source": [
    "import numpy as np\n",
    "pd.Series(mdl.predict_proba(explanatory_test2)[:, 1]).value_counts()"
   ]
  },
  {
   "cell_type": "code",
   "execution_count": null,
   "id": "ed804a91-37d4-4979-92cc-9048d2c18a31",
   "metadata": {},
   "outputs": [],
   "source": []
  }
 ],
 "metadata": {
  "editor": "DataCamp Workspace",
  "kernelspec": {
   "display_name": "Python 3 (ipykernel)",
   "language": "python",
   "name": "python3"
  },
  "language_info": {
   "codemirror_mode": {
    "name": "ipython",
    "version": 3
   },
   "file_extension": ".py",
   "mimetype": "text/x-python",
   "name": "python",
   "nbconvert_exporter": "python",
   "pygments_lexer": "ipython3",
   "version": "3.8.10"
  }
 },
 "nbformat": 4,
 "nbformat_minor": 5
}
