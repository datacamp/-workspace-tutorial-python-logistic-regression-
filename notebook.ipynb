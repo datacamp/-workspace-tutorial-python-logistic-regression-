{
 "cells": [
  {
   "cell_type": "markdown",
   "id": "ef446726-164e-4124-9be8-9899414f577c",
   "metadata": {},
   "source": [
    "# Supervised Learning — How to do a logistic regression in Python"
   ]
  },
  {
   "cell_type": "markdown",
   "id": "1e66fd3c-508a-4865-943b-5ae28860d8a2",
   "metadata": {},
   "source": [
    "## When can logistic regression be used?"
   ]
  },
  {
   "cell_type": "markdown",
   "id": "e696bc31-8e53-48d9-8de1-513695468734",
   "metadata": {},
   "source": [
    "- When the response variable (the one being predicted) is binary or categorical.\n",
    "- When the observations are independent."
   ]
  },
  {
   "cell_type": "markdown",
   "id": "568fb605-d8f0-4ef1-9cc3-e3dd41deff56",
   "metadata": {},
   "source": [
    "## Which packages can be used for performing logistic regression?"
   ]
  },
  {
   "cell_type": "markdown",
   "id": "b3f9ab59-65e9-4b96-a027-35a43205102b",
   "metadata": {},
   "source": [
    "- scikit-learn (used here)\n",
    "- statsmodels\n",
    "- PyCaret, TensorFlow, Keras, PyTorch"
   ]
  },
  {
   "cell_type": "markdown",
   "id": "c31459f8-745c-4862-9596-a2a0d8e05acd",
   "metadata": {},
   "source": [
    "## Case study: predicting organic product purchases"
   ]
  },
  {
   "cell_type": "markdown",
   "id": "35cf1ca6-e25d-4a8e-ae84-2d162bc0fad9",
   "metadata": {},
   "source": [
    "A supermarket provided coupons incentivizing buying organic products to its loyalty program members, and recorded whether or not they actually bought any.\n",
    "\n",
    "This workspace uses a subset of [data sourced from Kaggle](https://www.kaggle.com/datasets/papercool/organics-purchase-indicator)."
   ]
  },
  {
   "cell_type": "markdown",
   "id": "7ae46e10-2e8c-4211-bff3-60aafc58f51e",
   "metadata": {},
   "source": [
    "We'll need **pandas** for importing the data and doing some manipulation, then modeling with **scikit-learn**."
   ]
  },
  {
   "cell_type": "code",
   "execution_count": null,
   "id": "80ba2a44-b262-4ae2-9930-e944ee97a5ec",
   "metadata": {},
   "outputs": [],
   "source": [
    "import pandas as pd\n",
    "from sklearn.model_selection import train_test_split\n",
    "from sklearn.linear_model import LogisticRegression\n",
    "from sklearn.metrics import confusion_matrix, classification_report"
   ]
  },
  {
   "cell_type": "markdown",
   "id": "859e3002-8220-4c43-9845-a73fbb59e7d1",
   "metadata": {},
   "source": [
    "The dataset is imported from a CSV file named `\"organics.csv\"`."
   ]
  },
  {
   "cell_type": "code",
   "execution_count": null,
   "id": "da5687a7-9f37-4064-937c-e3678000cf88",
   "metadata": {},
   "outputs": [],
   "source": [
    "organics = pd.read_csv(\"organics.csv\")\n",
    "organics"
   ]
  },
  {
   "cell_type": "markdown",
   "id": "7bc142fe-69bd-4760-8b4c-c96446836d7c",
   "metadata": {},
   "source": [
    "## Data dictionary"
   ]
  },
  {
   "cell_type": "markdown",
   "id": "ef655a76-a1bd-4ed0-b7d3-cefe1a756f28",
   "metadata": {},
   "source": [
    "Each row corresponds to one character in a slash movie.\n",
    "\n",
    "- **Gender**: gender of the customer; either **M** (male), **F** (female), **U** (unknown).\n",
    "- **Geographic Region**: where in the UK was the customer based; **North**, **Midlands**, **South East**, **South West**, **Scottish**.\n",
    "- **Loyalty Status**: what type of loyalty card did the customer have? **Tin**, **Silver**, **Gold**, or **Platinum**.\n",
    "- **Affluence**: how well off does the supermarket estimate the customer is?\n",
    "- **Age**: how old was the customer in years?\n",
    "- **Purchased Organics**: did they purchase an organic product? **0** (no), or **1** (yes)."
   ]
  },
  {
   "cell_type": "markdown",
   "id": "df2ec510-1bb0-4957-8d5f-d3fdc830a687",
   "metadata": {},
   "source": [
    "## Converting categorical columns to dummy variables"
   ]
  },
  {
   "cell_type": "markdown",
   "id": "67c14615-7065-455a-bcc8-89aa37e7ef05",
   "metadata": {},
   "source": [
    "Scikit-learn can't deal with categorical columns directly. They must be converted to dummy columns of ones and zeroes. The pandas function [`get_dummies()`](https://pandas.pydata.org/pandas-docs/stable/reference/api/pandas.get_dummies.html) can be used for this."
   ]
  },
  {
   "cell_type": "code",
   "execution_count": null,
   "id": "6d185124-32d8-4863-9e0f-7804b76268d9",
   "metadata": {},
   "outputs": [],
   "source": [
    "organics_dum = pd.get_dummies(organics)\n",
    "organics_dum"
   ]
  },
  {
   "cell_type": "markdown",
   "id": "aa90679d-751d-4e89-9e33-d59556ab9a2d",
   "metadata": {},
   "source": [
    "## Splitting into response and explanatory columns"
   ]
  },
  {
   "cell_type": "markdown",
   "id": "500caefd-6254-4fb4-8892-917562175760",
   "metadata": {},
   "source": [
    "The response column is `\"Purchased Organics\"`. The explanatory (input) columns are all the other columns."
   ]
  },
  {
   "cell_type": "code",
   "execution_count": null,
   "id": "a4016818-8e19-4cdc-86fc-9d270604ebf2",
   "metadata": {},
   "outputs": [],
   "source": [
    "response = organics_dum[\"Purchased Organics\"]\n",
    "explanatory = organics_dum.drop(columns=\"Purchased Organics\")"
   ]
  },
  {
   "cell_type": "markdown",
   "id": "e322a499-9ba7-43ae-8f4b-bbd2edfc055a",
   "metadata": {},
   "source": [
    "## Splitting into training and testing sets"
   ]
  },
  {
   "cell_type": "markdown",
   "id": "07d0d5f9-72b4-4c70-b72e-babede0c0e8b",
   "metadata": {},
   "source": [
    "The explanatory and response datasets need to be split into training and testing sets. \n",
    "\n",
    "Here we'll use [`train_test_split()`](https://scikit-learn.org/stable/modules/generated/sklearn.model_selection.train_test_split.html) with the default arguments."
   ]
  },
  {
   "cell_type": "code",
   "execution_count": null,
   "id": "c733e195-6eb8-44f2-a48a-ffefc46ead38",
   "metadata": {},
   "outputs": [],
   "source": [
    "explanatory_train, explanatory_test, response_train, response_test = train_test_split(explanatory, response)"
   ]
  },
  {
   "cell_type": "markdown",
   "id": "816e53ef-d5da-42e8-b969-7d9c24cb3865",
   "metadata": {},
   "source": [
    "## Fitting the model to the training set"
   ]
  },
  {
   "cell_type": "markdown",
   "id": "792c2200-0504-4934-9e4c-4157a367469f",
   "metadata": {},
   "source": [
    "The data is now ready to model. The first modeling step is to create a `LogisticRegression` object.\n",
    "\n",
    "Note that scikit-learn uses regularization (a technique for minimizing the effect of less important parameters) by default. This is a controversial default, so to use standard logistic regression, you need to set `penalty=\"none\"`."
   ]
  },
  {
   "cell_type": "code",
   "execution_count": null,
   "id": "f3bf7eed-1aba-473e-bb83-38761fc0e895",
   "metadata": {},
   "outputs": [],
   "source": [
    "mdl = LogisticRegression(penalty=\"none\")"
   ]
  },
  {
   "cell_type": "markdown",
   "id": "afbb91b3-e845-480f-bcf2-eb632a45b7ed",
   "metadata": {},
   "source": [
    "Use the [`.fit()`](https://scikit-learn.org/stable/modules/generated/sklearn.linear_model.LogisticRegression.html#sklearn.linear_model.LogisticRegression.fit) method to fit the model to the training set."
   ]
  },
  {
   "cell_type": "code",
   "execution_count": null,
   "id": "87d8f6bc-9f59-4b00-83eb-310887b3dd2d",
   "metadata": {},
   "outputs": [],
   "source": [
    "mdl.fit(explanatory_train, response_train)"
   ]
  },
  {
   "cell_type": "markdown",
   "id": "c83742e8-145c-4157-87a1-31bf47fb4900",
   "metadata": {},
   "source": [
    "## Making predictions on the testing set"
   ]
  },
  {
   "cell_type": "markdown",
   "id": "e58f47e7-4d66-4850-833b-6662f56980b0",
   "metadata": {},
   "source": [
    "You can calculate the predicted response with the [`.predict()`](https://scikit-learn.org/stable/modules/generated/sklearn.linear_model.LogisticRegression.html?#sklearn.linear_model.LogisticRegression.predict) method."
   ]
  },
  {
   "cell_type": "code",
   "execution_count": null,
   "id": "4d749e10-3099-497a-a879-5d22146a6a57",
   "metadata": {},
   "outputs": [],
   "source": [
    "predicted_responses = mdl.predict(explanatory_test)\n",
    "predicted_responses"
   ]
  },
  {
   "cell_type": "markdown",
   "id": "ab1b7b19-0263-41bb-a5ae-cef3b24e72bc",
   "metadata": {},
   "source": [
    "## Assessing model performance"
   ]
  },
  {
   "cell_type": "markdown",
   "id": "c5a966ec-06eb-48a8-bffc-693b8a631a01",
   "metadata": {},
   "source": [
    "There are four possible outcomes, depending on whether the actual response and the predicted response are true or false. The confusion matrix, created with [`confusion_matrix()`](https://scikit-learn.org/stable/modules/generated/sklearn.metrics.confusion_matrix.html) shows the counts of each case.\n",
    "\n",
    "|                     |**predicted false** |**predicted true** |\n",
    "|:--------------------|:-----------------|:----------------|\n",
    "|**actual false** |correct           |false positive   |\n",
    "|**actual true**  |false negative    |correct          |"
   ]
  },
  {
   "cell_type": "code",
   "execution_count": null,
   "id": "27867e99-3fe5-4dab-a376-5a56eb887262",
   "metadata": {},
   "outputs": [],
   "source": [
    "confusion_matrix(response_test, predicted_responses)"
   ]
  },
  {
   "cell_type": "markdown",
   "id": "f3d53ddb-a531-42be-a0c8-4b53a9441e27",
   "metadata": {},
   "source": [
    "[`classification_report()`](https://scikit-learn.org/stable/modules/generated/sklearn.metrics.classification_report.html) prints a lot of metrics about the performance of the model. There are five numbers we typically care about.\n",
    "\n",
    "```\n",
    "                   precision           recall                           f1-score    support\n",
    "\n",
    "           0  TN / (TN + FN)   TN / (TN + FP)                                   .         .\n",
    "           1  TP / (TP + FP)   TP / (TP + FN)                                   .         .\n",
    "\n",
    "    accuracy                                      (TN + TP) / (TN + TP + FN + FP)         .\n",
    "   macro avg               .                .                                   .         .\n",
    "weighted avg               .                .                                   .         .\n",
    "```\n",
    "\n",
    "- **Accuracy**: What fraction of the values were correctly predicted?\n",
    "- **Precision 0**: What fraction of the values that were predicted to be negative actually were negative?\n",
    "- **Precision 1**: What fraction of the values that were predicted to be positive actually were positive?\n",
    "- **Recall 0** a.k.a. **specificity**: What fraction of the values that were actually negative were predicted to be negative?\n",
    "- **Recall 1** a.k.a. **sensitivity**: What fraction of the values that were actually positive were predicted to be positive?"
   ]
  },
  {
   "cell_type": "code",
   "execution_count": null,
   "id": "7ab8afcf-ae3e-4c33-88a7-cae8b53acd75",
   "metadata": {},
   "outputs": [],
   "source": [
    "print(classification_report(response_test, predicted_responses))"
   ]
  },
  {
   "cell_type": "markdown",
   "id": "e681b502-154e-4f38-b7ca-43e8fe96c85e",
   "metadata": {},
   "source": [
    "These DataCamp courses cover logistic regression in Python.\n",
    "\n",
    "- [Machine Learning with scikit-learn](https://app.datacamp.com/learn/courses/machine-learning-with-scikit-learn) provides an introduction to modeling with scikit-learn, including logistic regression.\n",
    "- [Introduction to Regression with statsmodels in Python](https://app.datacamp.com/learn/courses/introduction-to-regression-with-statsmodels-in-python) and [Intermediate Regression with statsmodels in Python](https://app.datacamp.com/learn/courses/intermediate-regression-with-statsmodels-in-python) provide a deep dive into linear and logistic regression, using the statsmodels package."
   ]
  }
 ],
 "metadata": {
  "editor": "DataCamp Workspace",
  "kernelspec": {
   "display_name": "",
   "name": ""
  },
  "language_info": {
   "name": ""
  }
 },
 "nbformat": 4,
 "nbformat_minor": 5
}
